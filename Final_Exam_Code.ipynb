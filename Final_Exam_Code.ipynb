{
 "cells": [
  {
   "cell_type": "code",
   "execution_count": 1,
   "metadata": {},
   "outputs": [],
   "source": [
    "# import libraries\n",
    "import numpy as np"
   ]
  },
  {
   "cell_type": "code",
   "execution_count": null,
   "metadata": {},
   "outputs": [],
   "source": []
  },
  {
   "cell_type": "markdown",
   "metadata": {},
   "source": [
    "#### Simi's Ideas\n",
    "\n",
    "Create a bag of words model for the descriptions. - have a feature vector with all words that appear 2+ times (like suggested by the TA) plus a \"not in vocabulary\" feature for any words that are \"one hit wonders\" or do not appear in training set\n",
    "\n",
    "Perhaps do some kind of preprocessing on the word feature vectors and image feature vectors\n",
    "\n",
    "Maybe perform kmeans on the images to obtain centroid information - a lot of resources mention this centroid information extraction to give feature descriptors especially to compare to a bag of words model - may or may not be needed since we have resnet features\n",
    "\n",
    "Use nearest neighbors on the extracted image features to find the 20 nearest images to the feature vector of a given descriptor"
   ]
  },
  {
   "cell_type": "code",
   "execution_count": null,
   "metadata": {},
   "outputs": [],
   "source": []
  }
 ],
 "metadata": {
  "kernelspec": {
   "display_name": "Python 3",
   "language": "python",
   "name": "python3"
  },
  "language_info": {
   "codemirror_mode": {
    "name": "ipython",
    "version": 3
   },
   "file_extension": ".py",
   "mimetype": "text/x-python",
   "name": "python",
   "nbconvert_exporter": "python",
   "pygments_lexer": "ipython3",
   "version": "3.7.5"
  }
 },
 "nbformat": 4,
 "nbformat_minor": 4
}

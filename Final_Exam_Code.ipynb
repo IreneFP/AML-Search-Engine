{
 "cells": [
  {
   "cell_type": "markdown",
   "metadata": {},
   "source": [
    "https://www.kaggle.com/c/cs5785-fall19-final/"
   ]
  },
  {
   "cell_type": "markdown",
   "metadata": {},
   "source": [
    "# Create an Ensemble Model"
   ]
  },
  {
   "cell_type": "markdown",
   "metadata": {},
   "source": [
    "#### Get the Descriptions and Tags from File"
   ]
  },
  {
   "cell_type": "code",
   "execution_count": 1,
   "metadata": {},
   "outputs": [],
   "source": [
    "import os\n",
    "import numpy as np\n",
    "import gensim\n",
    "from nltk.corpus import stopwords \n",
    "from nltk.tokenize import word_tokenize\n",
    "from nltk.stem import WordNetLemmatizer\n",
    "import string\n",
    "import pandas as pd"
   ]
  },
  {
   "cell_type": "code",
   "execution_count": 2,
   "metadata": {},
   "outputs": [],
   "source": [
    "def parse_descriptions(data_dir, num_doc):\n",
    "    docs = []\n",
    "    for i in range(num_doc):\n",
    "        path = os.path.join(data_dir, \"%d.txt\" % i)\n",
    "        with open(path) as f:\n",
    "            docs.append(f.read())\n",
    "    return docs"
   ]
  },
  {
   "cell_type": "code",
   "execution_count": 3,
   "metadata": {},
   "outputs": [],
   "source": [
    "train_tags = parse_descriptions(\"cs5785-fall19-final/tags_train\", num_doc=10000)\n",
    "test_tags = parse_descriptions(\"cs5785-fall19-final/tags_test\", num_doc=2000)"
   ]
  },
  {
   "cell_type": "code",
   "execution_count": 4,
   "metadata": {},
   "outputs": [],
   "source": [
    "def parse_tags(tags):\n",
    "    result = []\n",
    "    for doc in tags:\n",
    "        doc = doc.strip('\\n').split('\\n')\n",
    "        cat_it = []\n",
    "        if doc[0] == '':\n",
    "            result.append('no tag')\n",
    "        else:\n",
    "            for tag in doc:\n",
    "                split_tag = tag.split(':')\n",
    "                cat_it.append(split_tag[0])\n",
    "                cat_it.append(split_tag[1])\n",
    "            parsed = (' ').join(list(cat_it))\n",
    "            result.append(parsed)\n",
    "    return np.array(result)"
   ]
  },
  {
   "cell_type": "code",
   "execution_count": 5,
   "metadata": {},
   "outputs": [],
   "source": [
    "train_tags_parsed = parse_tags(train_tags)\n",
    "test_tags_parsed = parse_tags(test_tags)"
   ]
  },
  {
   "cell_type": "code",
   "execution_count": 6,
   "metadata": {},
   "outputs": [],
   "source": [
    "# function to preprocess data\n",
    "def preprocessing(data):\n",
    "    stop_words = set(stopwords.words('english')) # find stop words in English language\n",
    "    lemmatizer = WordNetLemmatizer() # declare nltk lemmatizer\n",
    "\n",
    "    # iterate through every sentence and replace it by itself lemmatized, without punctuation and without stop words\n",
    "    for i in range(len(data)):\n",
    "        sentence_no_punct = ''\n",
    "        # remove punctuation\n",
    "        \n",
    "        for char in data[i]:\n",
    "            if char not in string.punctuation:\n",
    "                sentence_no_punct = sentence_no_punct + char\n",
    "        data[i] = sentence_no_punct\n",
    "\n",
    "        word_tokens = word_tokenize(data[i])\n",
    "    \n",
    "        # remove stop words and lemmatize\n",
    "        word_tokens = [lemmatizer.lemmatize(word) for word in word_tokens if word not in stop_words and len(word) > 1]\n",
    "        word_tokens = [lemmatizer.lemmatize(word, 'v') for word in word_tokens]\n",
    "        word_tokens = [lemmatizer.lemmatize(word, 'a') for word in word_tokens]\n",
    "        \n",
    "        # remove conjunction words\n",
    "        word_tokens = [word for word in word_tokens if word[-2:] != 'nt']\n",
    "        (data[i]) = ' '.join(word_tokens)\n",
    "        \n",
    "    return data"
   ]
  },
  {
   "cell_type": "code",
   "execution_count": 7,
   "metadata": {},
   "outputs": [],
   "source": [
    "train_descs = parse_descriptions('cs5785-fall19-final/descriptions_train', 10000)\n",
    "test_descs  = parse_descriptions('cs5785-fall19-final/descriptions_test', 2000)\n",
    "train_descs = preprocessing(train_descs)\n",
    "test_descs  = preprocessing(test_descs)"
   ]
  },
  {
   "cell_type": "markdown",
   "metadata": {},
   "source": [
    "#### Create the Bag of Words"
   ]
  },
  {
   "cell_type": "code",
   "execution_count": 8,
   "metadata": {},
   "outputs": [],
   "source": [
    "word2vec = gensim.models.KeyedVectors.load_word2vec_format(\"GoogleNews-vectors-negative300.bin.gz\", binary=True)"
   ]
  },
  {
   "cell_type": "code",
   "execution_count": 9,
   "metadata": {},
   "outputs": [],
   "source": [
    "def doc_to_vec(sentence, word2vec):\n",
    "    # get list of word vectors in sentence\n",
    "    word_vecs = [word2vec.get_vector(w) for w in sentence.split() if w in word2vec.vocab]\n",
    "    # return average\n",
    "    return np.stack(word_vecs).mean(0)"
   ]
  },
  {
   "cell_type": "code",
   "execution_count": 10,
   "metadata": {},
   "outputs": [],
   "source": [
    "x_train = np.array([doc_to_vec(train_descs[i], word2vec) for i in range(len(train_descs))])\n",
    "x_test = np.array([doc_to_vec(d, word2vec) for d in test_descs])"
   ]
  },
  {
   "cell_type": "markdown",
   "metadata": {},
   "source": [
    "#### Get Image Feature Vectors"
   ]
  },
  {
   "cell_type": "code",
   "execution_count": 8,
   "metadata": {},
   "outputs": [],
   "source": [
    "train_feat = pd.read_csv(\"cs5785-fall19-final/features_train/features_resnet1000_train.csv\", header = None, index_col=None)\n",
    "test_feat = pd.read_csv(\"cs5785-fall19-final/features_test/features_resnet1000_test.csv\", header = None, index_col=None)\n",
    "\n",
    "#train_inter_feat = pd.read_csv(\"cs5785-fall19-final/features_train/features_resnet1000intermediate_train.csv\", header = None, index_col=None)\n",
    "#test_inter_feat = pd.read_csv(\"cs5785-fall19-final/features_test/features_resnet1000intermediate_test.csv\", header = None, index_col=None)"
   ]
  },
  {
   "cell_type": "code",
   "execution_count": 9,
   "metadata": {
    "scrolled": true
   },
   "outputs": [
    {
     "name": "stderr",
     "output_type": "stream",
     "text": [
      "/Library/Frameworks/Python.framework/Versions/3.7/lib/python3.7/site-packages/ipykernel_launcher.py:2: SettingWithCopyWarning: \n",
      "A value is trying to be set on a copy of a slice from a DataFrame\n",
      "\n",
      "See the caveats in the documentation: http://pandas.pydata.org/pandas-docs/stable/user_guide/indexing.html#returning-a-view-versus-a-copy\n",
      "  \n",
      "/Library/Frameworks/Python.framework/Versions/3.7/lib/python3.7/site-packages/ipykernel_launcher.py:3: SettingWithCopyWarning: \n",
      "A value is trying to be set on a copy of a slice from a DataFrame\n",
      "\n",
      "See the caveats in the documentation: http://pandas.pydata.org/pandas-docs/stable/user_guide/indexing.html#returning-a-view-versus-a-copy\n",
      "  This is separate from the ipykernel package so we can avoid doing imports until\n",
      "/Library/Frameworks/Python.framework/Versions/3.7/lib/python3.7/site-packages/ipykernel_launcher.py:9: SettingWithCopyWarning: \n",
      "A value is trying to be set on a copy of a slice from a DataFrame\n",
      "\n",
      "See the caveats in the documentation: http://pandas.pydata.org/pandas-docs/stable/user_guide/indexing.html#returning-a-view-versus-a-copy\n",
      "  if __name__ == '__main__':\n",
      "/Library/Frameworks/Python.framework/Versions/3.7/lib/python3.7/site-packages/ipykernel_launcher.py:10: SettingWithCopyWarning: \n",
      "A value is trying to be set on a copy of a slice from a DataFrame\n",
      "\n",
      "See the caveats in the documentation: http://pandas.pydata.org/pandas-docs/stable/user_guide/indexing.html#returning-a-view-versus-a-copy\n",
      "  # Remove the CWD from sys.path while we load stuff.\n"
     ]
    }
   ],
   "source": [
    "for i in range(len(train_feat[0])):\n",
    "    train_feat[0][i] = int(train_feat[0][i].replace(\"images_train/\", \"\").replace(\".jpg\", \"\"))\n",
    "    #train_inter_feat[0][i] = int(train_inter_feat[0][i].replace(\"images_train/\", \"\").replace(\".jpg\", \"\"))\n",
    "    \n",
    "train_feat_sort = train_feat.sort_values(by=0)\n",
    "#train_inter_feat_sort = train_inter_feat.sort_values(by=0)\n",
    "\n",
    "for i in range(len(test_feat[0])):\n",
    "    test_feat[0][i] = int(test_feat[0][i].replace(\"images_test/\", \"\").replace(\".jpg\", \"\"))\n",
    "    #test_inter_feat[0][i]  = int(test_inter_feat[0][i].replace(\"images_test/\", \"\").replace(\".jpg\", \"\"))\n",
    "\n",
    "test_feat_sort = test_feat.sort_values(by=0)\n",
    "#test_inter_feat_sort = test_inter_feat.sort_values(by=0)"
   ]
  },
  {
   "cell_type": "code",
   "execution_count": 13,
   "metadata": {},
   "outputs": [],
   "source": [
    "y_train = train_feat_sort.drop(columns=0).to_numpy()\n",
    "y_test = test_feat_sort.drop(columns=0).to_numpy()\n",
    "y_train_inter = train_inter_feat_sort.drop(columns=0).to_numpy()\n",
    "y_test_inter = test_inter_feat_sort.drop(columns=0).to_numpy()"
   ]
  },
  {
   "cell_type": "markdown",
   "metadata": {},
   "source": [
    "#### Create A Train/Test Split"
   ]
  },
  {
   "cell_type": "code",
   "execution_count": 14,
   "metadata": {},
   "outputs": [],
   "source": [
    "# import random\n",
    "# num_train = 8000\n",
    "# num_dev = 2000\n",
    "# num_test = 2000\n",
    "# split = list(range(num_train + num_dev))\n",
    "# random.shuffle(split)"
   ]
  },
  {
   "cell_type": "code",
   "execution_count": 15,
   "metadata": {},
   "outputs": [],
   "source": [
    "# x_train_dev = x_train[split[:num_train]]\n",
    "# y_train_dev = y_train[split[:num_train]]\n",
    "# y_train_inter_dev = y_train_inter[split[:num_train]]\n",
    "# x_test_dev = x_train[split[num_train:]]\n",
    "# y_test_dev = y_train[split[num_train:]]\n",
    "# y_test_inter_dev = y_train_inter[split[num_train:]]\n",
    "\n",
    "# train_tags_dev = train_tags_parsed[split[:num_train]]\n",
    "# test_tags_dev = train_tags_parsed[split[num_train:]]"
   ]
  },
  {
   "cell_type": "markdown",
   "metadata": {},
   "source": [
    "#### For Later when we need the tags of the whole train and test set"
   ]
  },
  {
   "cell_type": "code",
   "execution_count": 16,
   "metadata": {},
   "outputs": [],
   "source": [
    "tag_train = np.array([doc_to_vec(d, word2vec) for d in train_tags_parsed])\n",
    "tag_test = np.array([doc_to_vec(d, word2vec) for d in test_tags_parsed])"
   ]
  },
  {
   "cell_type": "markdown",
   "metadata": {},
   "source": [
    "#### For Development Right Now when we need the smaller train and test set to check accuracy"
   ]
  },
  {
   "cell_type": "code",
   "execution_count": 17,
   "metadata": {},
   "outputs": [],
   "source": [
    "# train_tags_dev = np.array([doc_to_vec(d, word2vec) for d in train_tags_dev])\n",
    "# test_tags_dev = np.array([doc_to_vec(d, word2vec) for d in test_tags_dev])"
   ]
  },
  {
   "cell_type": "markdown",
   "metadata": {},
   "source": [
    "### Relate Descriptions and Tags with a Model --- SVM"
   ]
  },
  {
   "cell_type": "code",
   "execution_count": 18,
   "metadata": {},
   "outputs": [],
   "source": [
    "# from sklearn.svm import SVR\n",
    "# from sklearn.multioutput import MultiOutputRegressor\n",
    "# supvm = MultiOutputRegressor(SVR(gamma = 'scale')).fit(x_train_dev, train_tags_dev)\n",
    "# tag_preds = supvm.predict(x_test_dev)"
   ]
  },
  {
   "cell_type": "code",
   "execution_count": 19,
   "metadata": {},
   "outputs": [],
   "source": [
    "from sklearn.svm import SVR\n",
    "from sklearn.multioutput import MultiOutputRegressor\n",
    "supvm = MultiOutputRegressor(SVR(gamma = 'scale')).fit(x_train, tag_train)\n",
    "tag_preds = supvm.predict(tag_test)"
   ]
  },
  {
   "cell_type": "markdown",
   "metadata": {},
   "source": [
    "### Relate Image Features and Descriptions Model"
   ]
  },
  {
   "cell_type": "code",
   "execution_count": 20,
   "metadata": {},
   "outputs": [],
   "source": [
    "# from sklearn.neural_network import MLPRegressor\n",
    "\n",
    "# clf = MLPRegressor(solver='sgd', alpha=1e-5, hidden_layer_sizes=(300,), random_state=1, max_iter = 1000)\n",
    "# clf.fit(x_train_dev, y_train_dev)\n",
    "# #clf.fit(x_train_dev, y_train_inter_dev) # for intermediate features\n",
    "# image_preds = clf.predict(x_test_dev)"
   ]
  },
  {
   "cell_type": "code",
   "execution_count": 21,
   "metadata": {},
   "outputs": [],
   "source": [
    "from sklearn.neural_network import MLPRegressor\n",
    "\n",
    "clf = MLPRegressor(solver='sgd', alpha=1e-5, hidden_layer_sizes=(300,), random_state=1, max_iter = 1000)\n",
    "clf.fit(x_train, y_train)\n",
    "#clf.fit(x_train_dev, y_train_inter_dev) # for intermediate features\n",
    "image_preds = clf.predict(x_test)"
   ]
  },
  {
   "cell_type": "markdown",
   "metadata": {},
   "source": [
    "### We could try this KNN regressor or the random forest with or instead of SVM"
   ]
  },
  {
   "cell_type": "code",
   "execution_count": 22,
   "metadata": {},
   "outputs": [],
   "source": [
    "# function to train KNN regressor model, predict with it, and calculate the accuracy and confusion matrix\n",
    "def KNN_Regressor(x_train, y_train, x_test, y_test):\n",
    "    \n",
    "    # set up regressor  \n",
    "    knn_regressor = KNeighborsRegressor(n_neighbors = 1) \n",
    "    \n",
    "    # fit regressor \n",
    "    knn_regressor.fit(x_train, y_train)\n",
    "    \n",
    "    # predict\n",
    "    knn_preds = knn_regressor.predict(x_test)\n",
    "    \n",
    "    # return accuracy and confusion matrix\n",
    "    return knn_preds"
   ]
  },
  {
   "cell_type": "code",
   "execution_count": 23,
   "metadata": {},
   "outputs": [],
   "source": [
    "# function to train random forest regressor model, predict with it, and calculate the accuracy and confusion matrix\n",
    "def Random_Forest(x_train, y_train, x_test, y_test):\n",
    "    # set up regressor  \n",
    "    rf_regressor = RandomForestRegressor(max_depth=20) \n",
    "    \n",
    "    # fit regressor \n",
    "    rf_regressor.fit(x_train, y_train)\n",
    "    \n",
    "    # predict\n",
    "    rf_preds = rf_regressor.predict(x_test)\n",
    "    \n",
    "    # return accuracy and confusion matrix\n",
    "    return rf_preds"
   ]
  },
  {
   "cell_type": "markdown",
   "metadata": {},
   "source": [
    "### Can try concatenating intermediate features or doing it only with them"
   ]
  },
  {
   "cell_type": "markdown",
   "metadata": {},
   "source": [
    "### Combine the Models"
   ]
  },
  {
   "cell_type": "markdown",
   "metadata": {},
   "source": [
    "#### Try Evaluating the Nearest Neighbors and Take A New Ranking Based on Both"
   ]
  },
  {
   "cell_type": "code",
   "execution_count": 24,
   "metadata": {},
   "outputs": [],
   "source": [
    "from sklearn.neighbors import NearestNeighbors\n",
    "# function to return the number of nearest neighbors specified\n",
    "def knn_function(data, point, neighbors_number):\n",
    "    knn = NearestNeighbors(n_neighbors=neighbors_number)\n",
    "    knn.fit(data)\n",
    "    return knn.kneighbors(point, neighbors_number, return_distance=False)"
   ]
  },
  {
   "cell_type": "code",
   "execution_count": 25,
   "metadata": {},
   "outputs": [],
   "source": [
    "# tag_neighbors = knn_function(test_tags_dev, tag_preds, 50)\n",
    "# image_neighbors = knn_function(y_test_dev, image_preds, 50)"
   ]
  },
  {
   "cell_type": "code",
   "execution_count": 26,
   "metadata": {},
   "outputs": [],
   "source": [
    "tag_neighbors2 = knn_function(tag_test, tag_preds, 50)\n",
    "image_neighbors2 = knn_function(y_test, image_preds, 50)"
   ]
  },
  {
   "cell_type": "code",
   "execution_count": 27,
   "metadata": {},
   "outputs": [],
   "source": [
    "# neighbors1 = []\n",
    "# for i in range(len(tag_neighbors)):\n",
    "#     neighbors1.append(list(set(tag_neighbors[i]) & set(image_neighbors[i]))[:20])\n",
    "#     j = 0\n",
    "#     while len(neighbors1[i]) < 20:\n",
    "#         if image_neighbors[i][j] not in neighbors1[i]:\n",
    "#             neighbors1[i].append(image_neighbors[i][j])\n",
    "#         j += 1\n",
    "    \n",
    "#     neighbors1[i] = np.array(neighbors1[i])"
   ]
  },
  {
   "cell_type": "code",
   "execution_count": 39,
   "metadata": {},
   "outputs": [],
   "source": [
    "neighbors2 = [[] for _ in range(len(tag_neighbors2))]\n",
    "for i in range(len(tag_neighbors2)):\n",
    "#     for im in image_neighbors2[i]:\n",
    "#         if im in tag_neighbors2[i]:\n",
    "#             neighbors2[i] += [im]\n",
    "    \n",
    "    neighbors2[i] += [im for im in image_neighbors2[i] if im in tag_neighbors2[i]]\n",
    "    \n",
    "    if len(neighbors2[i]) < 20:\n",
    "        for im in image_neighbors2[i]:\n",
    "            if not im in neighbors2[i]:\n",
    "                neighbors2[i] += [im]\n",
    "            if len(neighbors2[i]) == 20:\n",
    "                break\n",
    "    \n",
    "#     neighbors2.append(list(set(tag_neighbors2[i]) & set(image_neighbors2[i]))[:20])\n",
    "#     j = 0\n",
    "#     while len(neighbors2[i]) < 20:\n",
    "#         if image_neighbors2[i][j] not in neighbors2[i]:\n",
    "#             neighbors2[i].append(image_neighbors2[i][j])\n",
    "#         j += 1\n",
    "    \n",
    "    neighbors2[i] = np.array(neighbors2[i][:20])"
   ]
  },
  {
   "cell_type": "code",
   "execution_count": null,
   "metadata": {},
   "outputs": [],
   "source": [
    "def combine_tags_images(ims, tags):\n",
    "    neighbors = [[] for _ in range(len(ims))]\n",
    "    \n",
    "    for i in range(len(ims)):\n",
    "        neighbors[i] += [im for im in ims[i] if im in tags]\n",
    "        \n",
    "        for im in neighbors[i]:\n",
    "            if len(neighbors[i]) == 20:\n",
    "                break\n",
    "            if not im in neighbors[i]:\n",
    "                neighbors[i] += [im]\n",
    "        neighbors[i] = np.array(neighbors[i])\n",
    "\n",
    "    return np.array(neighbors)"
   ]
  },
  {
   "cell_type": "code",
   "execution_count": 40,
   "metadata": {},
   "outputs": [],
   "source": [
    "# neighbors1 = np.array(neighbors1)"
   ]
  },
  {
   "cell_type": "code",
   "execution_count": 41,
   "metadata": {},
   "outputs": [],
   "source": [
    "neighbors2 = np.array(neighbors2)"
   ]
  },
  {
   "cell_type": "code",
   "execution_count": null,
   "metadata": {},
   "outputs": [],
   "source": [
    "# neighbors_adjusted = []\n",
    "# file_list = []\n",
    "# for i, row in enumerate(neighbors1):\n",
    "#     newlst = []\n",
    "#     for val in row:\n",
    "#         newlst.append(str(val)+'.jpg')\n",
    "#     neighbors_adjusted.append((' ').join(newlst))\n",
    "#     file_list.append(str(i)+'.txt')"
   ]
  },
  {
   "cell_type": "code",
   "execution_count": 42,
   "metadata": {},
   "outputs": [],
   "source": [
    "neighbors_adjusted2 = []\n",
    "file_list = []\n",
    "for i, row in enumerate(neighbors2):\n",
    "    newlst = []\n",
    "    for val in row:\n",
    "        newlst.append(str(val)+'.jpg')\n",
    "    neighbors_adjusted2.append((' ').join(newlst))\n",
    "    file_list.append(str(i)+'.txt')"
   ]
  },
  {
   "cell_type": "code",
   "execution_count": 43,
   "metadata": {},
   "outputs": [
    {
     "data": {
      "text/plain": [
       "'563.jpg 1992.jpg 1967.jpg 345.jpg 1980.jpg 338.jpg 760.jpg 1380.jpg 1040.jpg 124.jpg 1296.jpg 669.jpg 683.jpg 105.jpg 1077.jpg 1499.jpg 46.jpg 714.jpg 1883.jpg 1011.jpg'"
      ]
     },
     "execution_count": 43,
     "metadata": {},
     "output_type": "execute_result"
    }
   ],
   "source": [
    "neighbors_adjusted2[0]"
   ]
  },
  {
   "cell_type": "markdown",
   "metadata": {},
   "source": [
    "### Evaluate the Model"
   ]
  },
  {
   "cell_type": "code",
   "execution_count": 44,
   "metadata": {},
   "outputs": [],
   "source": [
    "def scores(i):\n",
    "    return (20+1-(i+1))/20"
   ]
  },
  {
   "cell_type": "code",
   "execution_count": 45,
   "metadata": {},
   "outputs": [],
   "source": [
    "def eval_accuracy(ytest, neighbors):\n",
    "    # EVALUATE THE MODEL USING THE MEAN AVERAGE PRECISION AT 20\n",
    "    scs = []\n",
    "    for i in range(len(neighbors)):\n",
    "        good = False\n",
    "        for j, n in enumerate(neighbors[i]):\n",
    "            if i == n:\n",
    "                scs.append(scores(j))\n",
    "                good = True\n",
    "                break\n",
    "        if good == False:\n",
    "            scs.append(0)\n",
    "    return sum(scs)/len(neighbors)"
   ]
  },
  {
   "cell_type": "code",
   "execution_count": 46,
   "metadata": {},
   "outputs": [],
   "source": [
    "def dist(x1, x2):\n",
    "    return sum((x1 - x2) ** 2) ** 0.5\n",
    "\n",
    "def evaluate_model_with_error(ytest, ypred):\n",
    "    # EVALUATE THE MODEL USING SUM SQUARED ERROR\n",
    "    scores1 = []\n",
    "    for i in range(len(ypred)):\n",
    "        distances = []\n",
    "        for j in range(len(ytest)):\n",
    "            distances.append(dist(ypred[i], ytest[j]))\n",
    "        pred_dist_idx = list(np.argsort(distances))\n",
    "        dev_pos = pred_dist_idx.index(i)\n",
    "        if dev_pos < 20:\n",
    "            scores1.append(scores(dev_pos))\n",
    "        else:\n",
    "            scores1.append(0.0)\n",
    "    return np.mean(scores1)"
   ]
  },
  {
   "cell_type": "code",
   "execution_count": 49,
   "metadata": {},
   "outputs": [
    {
     "ename": "NameError",
     "evalue": "name 'y_test_dev' is not defined",
     "output_type": "error",
     "traceback": [
      "\u001b[0;31m---------------------------------------------------------------------------\u001b[0m",
      "\u001b[0;31mNameError\u001b[0m                                 Traceback (most recent call last)",
      "\u001b[0;32m<ipython-input-49-2a401cc3b49f>\u001b[0m in \u001b[0;36m<module>\u001b[0;34m\u001b[0m\n\u001b[0;32m----> 1\u001b[0;31m \u001b[0mprint\u001b[0m\u001b[0;34m(\u001b[0m\u001b[0;34m'accuracy of svm tags'\u001b[0m\u001b[0;34m,\u001b[0m \u001b[0meval_accuracy\u001b[0m\u001b[0;34m(\u001b[0m\u001b[0my_test_dev\u001b[0m\u001b[0;34m,\u001b[0m \u001b[0mtag_neighbors\u001b[0m\u001b[0;34m[\u001b[0m\u001b[0;34m:\u001b[0m\u001b[0;36m20\u001b[0m\u001b[0;34m]\u001b[0m\u001b[0;34m)\u001b[0m\u001b[0;34m)\u001b[0m\u001b[0;34m\u001b[0m\u001b[0;34m\u001b[0m\u001b[0m\n\u001b[0m",
      "\u001b[0;31mNameError\u001b[0m: name 'y_test_dev' is not defined"
     ]
    }
   ],
   "source": [
    "print('accuracy of svm tags', eval_accuracy(y_test_dev, tag_neighbors[:20]))"
   ]
  },
  {
   "cell_type": "code",
   "execution_count": 50,
   "metadata": {},
   "outputs": [
    {
     "ename": "NameError",
     "evalue": "name 'y_test_dev' is not defined",
     "output_type": "error",
     "traceback": [
      "\u001b[0;31m---------------------------------------------------------------------------\u001b[0m",
      "\u001b[0;31mNameError\u001b[0m                                 Traceback (most recent call last)",
      "\u001b[0;32m<ipython-input-50-639e7bd1b932>\u001b[0m in \u001b[0;36m<module>\u001b[0;34m\u001b[0m\n\u001b[0;32m----> 1\u001b[0;31m \u001b[0mprint\u001b[0m\u001b[0;34m(\u001b[0m\u001b[0;34m'accuracy of svm tags'\u001b[0m\u001b[0;34m,\u001b[0m \u001b[0mevaluate_model_with_error\u001b[0m\u001b[0;34m(\u001b[0m\u001b[0my_test_dev\u001b[0m\u001b[0;34m,\u001b[0m \u001b[0mtag_neighbors\u001b[0m\u001b[0;34m[\u001b[0m\u001b[0;34m:\u001b[0m\u001b[0;36m20\u001b[0m\u001b[0;34m]\u001b[0m\u001b[0;34m)\u001b[0m\u001b[0;34m)\u001b[0m\u001b[0;34m\u001b[0m\u001b[0;34m\u001b[0m\u001b[0m\n\u001b[0m",
      "\u001b[0;31mNameError\u001b[0m: name 'y_test_dev' is not defined"
     ]
    }
   ],
   "source": [
    "print('accuracy of svm tags', evaluate_model_with_error(y_test_dev, tag_neighbors[:20]))"
   ]
  },
  {
   "cell_type": "code",
   "execution_count": 51,
   "metadata": {},
   "outputs": [
    {
     "ename": "NameError",
     "evalue": "name 'y_test_dev' is not defined",
     "output_type": "error",
     "traceback": [
      "\u001b[0;31m---------------------------------------------------------------------------\u001b[0m",
      "\u001b[0;31mNameError\u001b[0m                                 Traceback (most recent call last)",
      "\u001b[0;32m<ipython-input-51-248dfc9fe515>\u001b[0m in \u001b[0;36m<module>\u001b[0;34m\u001b[0m\n\u001b[0;32m----> 1\u001b[0;31m \u001b[0mprint\u001b[0m\u001b[0;34m(\u001b[0m\u001b[0;34m'accuracy of image features'\u001b[0m\u001b[0;34m,\u001b[0m \u001b[0meval_accuracy\u001b[0m\u001b[0;34m(\u001b[0m\u001b[0my_test_dev\u001b[0m\u001b[0;34m,\u001b[0m \u001b[0mimage_neighbors\u001b[0m\u001b[0;34m[\u001b[0m\u001b[0;34m:\u001b[0m\u001b[0;36m20\u001b[0m\u001b[0;34m]\u001b[0m\u001b[0;34m)\u001b[0m\u001b[0;34m)\u001b[0m\u001b[0;34m\u001b[0m\u001b[0;34m\u001b[0m\u001b[0m\n\u001b[0m",
      "\u001b[0;31mNameError\u001b[0m: name 'y_test_dev' is not defined"
     ]
    }
   ],
   "source": [
    "print('accuracy of image features', eval_accuracy(y_test_dev, image_neighbors[:20]))"
   ]
  },
  {
   "cell_type": "code",
   "execution_count": 52,
   "metadata": {},
   "outputs": [
    {
     "ename": "NameError",
     "evalue": "name 'y_test_dev' is not defined",
     "output_type": "error",
     "traceback": [
      "\u001b[0;31m---------------------------------------------------------------------------\u001b[0m",
      "\u001b[0;31mNameError\u001b[0m                                 Traceback (most recent call last)",
      "\u001b[0;32m<ipython-input-52-10c9ed5d7e91>\u001b[0m in \u001b[0;36m<module>\u001b[0;34m\u001b[0m\n\u001b[0;32m----> 1\u001b[0;31m \u001b[0mprint\u001b[0m\u001b[0;34m(\u001b[0m\u001b[0;34m'accuracy of image features'\u001b[0m\u001b[0;34m,\u001b[0m \u001b[0mevaluate_model_with_error\u001b[0m\u001b[0;34m(\u001b[0m\u001b[0my_test_dev\u001b[0m\u001b[0;34m,\u001b[0m \u001b[0mimage_neighbors\u001b[0m\u001b[0;34m[\u001b[0m\u001b[0;34m:\u001b[0m\u001b[0;36m20\u001b[0m\u001b[0;34m]\u001b[0m\u001b[0;34m)\u001b[0m\u001b[0;34m)\u001b[0m\u001b[0;34m\u001b[0m\u001b[0;34m\u001b[0m\u001b[0m\n\u001b[0m",
      "\u001b[0;31mNameError\u001b[0m: name 'y_test_dev' is not defined"
     ]
    }
   ],
   "source": [
    "print('accuracy of image features', evaluate_model_with_error(y_test_dev, image_neighbors[:20]))"
   ]
  },
  {
   "cell_type": "code",
   "execution_count": 53,
   "metadata": {},
   "outputs": [
    {
     "ename": "NameError",
     "evalue": "name 'y_test_dev' is not defined",
     "output_type": "error",
     "traceback": [
      "\u001b[0;31m---------------------------------------------------------------------------\u001b[0m",
      "\u001b[0;31mNameError\u001b[0m                                 Traceback (most recent call last)",
      "\u001b[0;32m<ipython-input-53-e332810bf8f2>\u001b[0m in \u001b[0;36m<module>\u001b[0;34m\u001b[0m\n\u001b[0;32m----> 1\u001b[0;31m \u001b[0mprint\u001b[0m\u001b[0;34m(\u001b[0m\u001b[0;34m'accuracy of svm tags combined with image features'\u001b[0m\u001b[0;34m,\u001b[0m \u001b[0meval_accuracy\u001b[0m\u001b[0;34m(\u001b[0m\u001b[0my_test_dev\u001b[0m\u001b[0;34m,\u001b[0m \u001b[0mneighbors1\u001b[0m\u001b[0;34m)\u001b[0m\u001b[0;34m)\u001b[0m\u001b[0;34m\u001b[0m\u001b[0;34m\u001b[0m\u001b[0m\n\u001b[0m",
      "\u001b[0;31mNameError\u001b[0m: name 'y_test_dev' is not defined"
     ]
    }
   ],
   "source": [
    "print('accuracy of svm tags combined with image features', eval_accuracy(y_test_dev, neighbors1))"
   ]
  },
  {
   "cell_type": "code",
   "execution_count": 54,
   "metadata": {},
   "outputs": [
    {
     "ename": "NameError",
     "evalue": "name 'y_test_dev' is not defined",
     "output_type": "error",
     "traceback": [
      "\u001b[0;31m---------------------------------------------------------------------------\u001b[0m",
      "\u001b[0;31mNameError\u001b[0m                                 Traceback (most recent call last)",
      "\u001b[0;32m<ipython-input-54-99385afd635b>\u001b[0m in \u001b[0;36m<module>\u001b[0;34m\u001b[0m\n\u001b[0;32m----> 1\u001b[0;31m \u001b[0mprint\u001b[0m\u001b[0;34m(\u001b[0m\u001b[0;34m'accuracy of svm tags combined with image features'\u001b[0m\u001b[0;34m,\u001b[0m \u001b[0mevaluate_model_with_error\u001b[0m\u001b[0;34m(\u001b[0m\u001b[0my_test_dev\u001b[0m\u001b[0;34m,\u001b[0m \u001b[0mneighbors1\u001b[0m\u001b[0;34m)\u001b[0m\u001b[0;34m)\u001b[0m\u001b[0;34m\u001b[0m\u001b[0;34m\u001b[0m\u001b[0m\n\u001b[0m",
      "\u001b[0;31mNameError\u001b[0m: name 'y_test_dev' is not defined"
     ]
    }
   ],
   "source": [
    "print('accuracy of svm tags combined with image features', evaluate_model_with_error(y_test_dev, neighbors1))"
   ]
  },
  {
   "cell_type": "code",
   "execution_count": null,
   "metadata": {},
   "outputs": [],
   "source": [
    "# for r in neighbors1:\n",
    "#     print(len(r))"
   ]
  },
  {
   "cell_type": "code",
   "execution_count": null,
   "metadata": {},
   "outputs": [],
   "source": [
    "# tag_neighbors.shape"
   ]
  },
  {
   "cell_type": "code",
   "execution_count": null,
   "metadata": {},
   "outputs": [],
   "source": [
    "# y_test_dev.shape"
   ]
  },
  {
   "cell_type": "code",
   "execution_count": 57,
   "metadata": {},
   "outputs": [],
   "source": [
    "import csv\n",
    "def outputCSV(predictions):\n",
    "    with open(\"image_prediction_mlp2.csv\", \"w\") as outputFile:\n",
    "        headers = [\"Descritpion_ID\", \"Top_20_Image_IDs\"]\n",
    "        fileWriter = csv.DictWriter(outputFile, fieldnames=headers)\n",
    "        fileWriter.writeheader()\n",
    "        for index, pred in enumerate(predictions):\n",
    "            fileWriter.writerow({headers[0]: \"{}.txt\".format(index), headers[1]: ''.join(predictions[index])})"
   ]
  },
  {
   "cell_type": "code",
   "execution_count": 58,
   "metadata": {},
   "outputs": [],
   "source": [
    "outputCSV(neighbors_adjusted2)"
   ]
  },
  {
   "cell_type": "code",
   "execution_count": null,
   "metadata": {},
   "outputs": [],
   "source": []
  }
 ],
 "metadata": {
  "kernelspec": {
   "display_name": "Python 3",
   "language": "python",
   "name": "python3"
  },
  "language_info": {
   "codemirror_mode": {
    "name": "ipython",
    "version": 3
   },
   "file_extension": ".py",
   "mimetype": "text/x-python",
   "name": "python",
   "nbconvert_exporter": "python",
   "pygments_lexer": "ipython3",
   "version": "3.7.3"
  }
 },
 "nbformat": 4,
 "nbformat_minor": 4
}

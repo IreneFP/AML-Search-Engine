{
 "cells": [
  {
   "cell_type": "markdown",
   "metadata": {},
   "source": [
    "# Imports"
   ]
  },
  {
   "cell_type": "code",
   "execution_count": 1,
   "metadata": {},
   "outputs": [],
   "source": [
    "import numpy as np\n",
    "import matplotlib.pyplot as plt\n",
    "import pandas as pd\n",
    "from os import listdir\n",
    "import nltk\n",
    "from nltk.corpus import stopwords \n",
    "from nltk.tokenize import word_tokenize\n",
    "from nltk.stem import WordNetLemmatizer\n",
    "import string\n",
    "import csv\n",
    "import gensim\n",
    "from gensim.models import Word2Vec\n",
    "\n",
    "from sklearn.ensemble import RandomForestRegressor, BaggingRegressor\n",
    "\n",
    "# import warnings filter\n",
    "from warnings import simplefilter\n",
    "# ignore all future warnings\n",
    "simplefilter(action='ignore', category=FutureWarning)\n",
    "simplefilter(action='ignore', category=DeprecationWarning)"
   ]
  },
  {
   "cell_type": "markdown",
   "metadata": {},
   "source": [
    "# Definitions and Data Load"
   ]
  },
  {
   "cell_type": "code",
   "execution_count": 2,
   "metadata": {},
   "outputs": [],
   "source": [
    "dataFolder = \"cs5785-fall19-final\"\n",
    "\n",
    "descTrainFolder = dataFolder + \"/descriptions_train\"\n",
    "descTestFolder = dataFolder + \"/descriptions_test\"\n",
    "\n",
    "featTrainFolder = dataFolder + \"/features_train\"\n",
    "featTestFolder = dataFolder + \"/features_test\"\n",
    "\n",
    "imagesTrainFolder = dataFolder + \"/images_train\"\n",
    "imagesTestFolder = dataFolder + \"/images_test\"\n",
    "\n",
    "tagsTrainFolder = dataFolder + \"/tags_train\"\n",
    "tagsTestFolder = dataFolder + \"/tags_test\"\n",
    "\n",
    "folders = [descTrainFolder,   descTestFolder,   featTrainFolder, featTestFolder, \n",
    "           imagesTrainFolder, imagesTestFolder, tagsTrainFolder, tagsTestFolder]\n"
   ]
  },
  {
   "cell_type": "code",
   "execution_count": 3,
   "metadata": {},
   "outputs": [],
   "source": [
    "def getFilesFromFolder(folder):\n",
    "    return listdir(folder)"
   ]
  },
  {
   "cell_type": "markdown",
   "metadata": {},
   "source": [
    "# Preprocess data"
   ]
  },
  {
   "cell_type": "code",
   "execution_count": 4,
   "metadata": {},
   "outputs": [],
   "source": [
    "# function to preprocess data\n",
    "def preprocessing(data):\n",
    "    stop_words = set(stopwords.words('english')) # find stop words in English language\n",
    "    lemmatizer = WordNetLemmatizer() # declare nltk lemmatizer\n",
    "\n",
    "    # iterate through every sentence and replace it by itself lemmatized, without punctuation and without stop words\n",
    "    for i in range(len(data)):\n",
    "        sentence_no_punct = ''\n",
    "        \n",
    "        # remove punctuation\n",
    "        for char in data[i]:\n",
    "            if char not in string.punctuation:\n",
    "                sentence_no_punct = sentence_no_punct + char\n",
    "        data[i] = sentence_no_punct\n",
    "\n",
    "        \"\"\"\n",
    "        Analyzing if words are upper/lower case is more for analyzing the intensity of the sentiment rather than classifying it. \n",
    "        \"\"\"\n",
    "        word_tokens = list(map(lambda r: r.lower(), word_tokenize(data[i])))\n",
    "        \n",
    "    \n",
    "        # remove stop words and lemmatize\n",
    "        word_tokens = [lemmatizer.lemmatize(word) for word in word_tokens if word not in stop_words and len(word) > 1]\n",
    "        word_tokens = [lemmatizer.lemmatize(word, 'v') for word in word_tokens]\n",
    "        word_tokens = [lemmatizer.lemmatize(word, 'a') for word in word_tokens]\n",
    "        \n",
    "        # remove conjunction words\n",
    "        word_tokens = [word for word in word_tokens if word[-2:] != 'nt']\n",
    "        (data[i]) = ' '.join(word_tokens)\n",
    "    \n",
    "    assert(len(data) == 1)\n",
    "    return set(data[0].split())"
   ]
  },
  {
   "cell_type": "code",
   "execution_count": 5,
   "metadata": {},
   "outputs": [],
   "source": [
    "def get_flat_descriptions_from_folder(folder):\n",
    "    flat_descriptions = []\n",
    "    amtFiles = len(getFilesFromFolder(folder))\n",
    "    indexes = list(sorted([str(i) for i in range(amtFiles)], key= lambda x: int(x)))\n",
    "    \n",
    "    for index in indexes:\n",
    "        filename = folder + \"/{}.txt\".format(index)\n",
    "        with open(filename, 'r') as d_file:\n",
    "            flat_descriptions += [[' '.join(d_file.readlines()).replace(\"\\n\", \"\")]]\n",
    "            \n",
    "    return flat_descriptions"
   ]
  },
  {
   "cell_type": "code",
   "execution_count": 6,
   "metadata": {},
   "outputs": [],
   "source": [
    "# [  [ unprocessed description of image 1  ] , [ unprocessed description of image 2  ]   , ...  ]\n",
    "train_flat_descs = get_flat_descriptions_from_folder(descTrainFolder)\n",
    "test_flat_descs  = get_flat_descriptions_from_folder(descTestFolder)"
   ]
  },
  {
   "cell_type": "code",
   "execution_count": 7,
   "metadata": {},
   "outputs": [],
   "source": [
    "def unique_words_in_desc(desc):\n",
    "    return np.array([list(preprocessing(d)) for d in desc])\n",
    "\n",
    "def word_to_num(descs):\n",
    "    m = Word2Vec(descs, min_count = 1, size = 1, window = 5)\n",
    "    return np.array([np.array([m[d][0] for d in desc]) for desc in descs])\n",
    "\n",
    "def index_words(descs):\n",
    "    word_for_index = {}\n",
    "    words_in_dict = 0\n",
    "    for desc in descs:\n",
    "        for word in desc:\n",
    "            if word_for_index.get(word) is None:\n",
    "                word_for_index[word] = words_in_dict\n",
    "                words_in_dict += 1\n",
    "    return word_for_index, words_in_dict\n",
    "\n",
    "def make_bow(descs, dictionary, amt_words):\n",
    "    train_bow = [[0 for _ in range(amt_words)] for _ in range(len(descs))]\n",
    "    m = Word2Vec(descs, min_count = 1, size = 1, window = 5)\n",
    "    \n",
    "    for i, d in enumerate(descs):\n",
    "        for word in d:\n",
    "            if not dictionary.get(word) is None:\n",
    "                train_bow[i][dictionary[word]] = m[d][0]\n",
    "#             else:\n",
    "#                 print(word)\n",
    "                \n",
    "    return train_bow    "
   ]
  },
  {
   "cell_type": "code",
   "execution_count": 8,
   "metadata": {
    "scrolled": true
   },
   "outputs": [
    {
     "name": "stdout",
     "output_type": "stream",
     "text": [
      "Creating dictionary...\n"
     ]
    }
   ],
   "source": [
    "# [  { processed description of image 1  } , { processed description of image 2  }   , ...  ]\n",
    "train_descs = unique_words_in_desc(train_flat_descs)\n",
    "test_descs  = unique_words_in_desc(test_flat_descs)\n",
    "\n",
    "print(\"Creating dictionary...\")\n",
    "word_for_index, words_in_dict = index_words(train_descs)"
   ]
  },
  {
   "cell_type": "markdown",
   "metadata": {},
   "source": [
    "# Bag of Words"
   ]
  },
  {
   "cell_type": "code",
   "execution_count": 9,
   "metadata": {},
   "outputs": [],
   "source": [
    "# [ [0, 0, 0, 0 float, 0, 0, float, ...], [0, 0, 0, 0 float, 0, 0, float, ...], ...]\n",
    "train_bow = make_bow(train_descs, word_for_index, words_in_dict)"
   ]
  },
  {
   "cell_type": "code",
   "execution_count": 10,
   "metadata": {},
   "outputs": [],
   "source": [
    "# [ [0, 0, 0, 0 float, 0, 0, float, ...], [0, 0, 0, 0 float, 0, 0, float, ...], ...]\n",
    "test_bow = make_bow(test_descs, word_for_index, words_in_dict)"
   ]
  },
  {
   "cell_type": "markdown",
   "metadata": {},
   "source": [
    "# Feature Extraction"
   ]
  },
  {
   "cell_type": "code",
   "execution_count": 11,
   "metadata": {},
   "outputs": [],
   "source": [
    "def get_file_num(filename):\n",
    "    return int(filename.replace(\".jpg\", \"\").replace(\"images_train/\", \"\").replace(\"images_test/\", \"\"))\n",
    "\n",
    "def get_feat_from_file(filename):\n",
    "    with open(filename, 'r') as f:\n",
    "        feats = list(csv.reader(f))\n",
    "    sorted_feats = list(sorted(feats, key= lambda l: get_file_num(l[0])))\n",
    "    \n",
    "    return np.array([s[1:] for s in sorted_feats], dtype='float')"
   ]
  },
  {
   "cell_type": "code",
   "execution_count": 13,
   "metadata": {},
   "outputs": [],
   "source": [
    "resTrainFile = featTrainFolder + \"/features_resnet1000_train.csv\"\n",
    "train_feat = get_feat_from_file(resTrainFile)\n",
    "\n",
    "resTestFile = featTestFolder + \"/features_resnet1000_test.csv\"\n",
    "test_feat = get_feat_from_file(resTestFile)"
   ]
  },
  {
   "cell_type": "markdown",
   "metadata": {},
   "source": [
    "# Predictions"
   ]
  },
  {
   "cell_type": "code",
   "execution_count": 14,
   "metadata": {},
   "outputs": [],
   "source": [
    "def predict_feats_forest(test_bow):\n",
    "    regForest = RandomForestRegressor(max_depth = 40, n_estimators = 100)\n",
    "    regForest.fit(train_bow, train_feat)\n",
    "    preds = regForest.predict(test_bow)\n",
    "    return preds"
   ]
  },
  {
   "cell_type": "code",
   "execution_count": 15,
   "metadata": {},
   "outputs": [],
   "source": [
    "preds = predict_feats_forest(test_bow)"
   ]
  },
  {
   "cell_type": "code",
   "execution_count": 16,
   "metadata": {},
   "outputs": [],
   "source": [
    "from scipy.spatial import distance_matrix\n",
    "dm = distance_matrix(preds, test_feat)"
   ]
  },
  {
   "cell_type": "code",
   "execution_count": 17,
   "metadata": {},
   "outputs": [],
   "source": [
    "id_dists = []\n",
    "for i, d in enumerate(dm):\n",
    "    temp_dists = [(j, d[j]) for j in range(len(d))]\n",
    "    id_dists.append(list(sorted(temp_dists, key= lambda x: abs(x[1])))[:20])"
   ]
  },
  {
   "cell_type": "code",
   "execution_count": 18,
   "metadata": {},
   "outputs": [],
   "source": [
    "top_images = [[\"{}.jpg\".format(id) for id, _ in row] for row in id_dists]"
   ]
  },
  {
   "cell_type": "markdown",
   "metadata": {},
   "source": [
    "# CSV Output"
   ]
  },
  {
   "cell_type": "code",
   "execution_count": 19,
   "metadata": {},
   "outputs": [],
   "source": [
    "def outputCSV(predictions):\n",
    "    with open(\"image_prediction.csv\", \"w\") as outputFile:\n",
    "        headers = [\"Description_ID\", \"Top_20_Image_IDs\"]\n",
    "        fileWriter = csv.DictWriter(outputFile, fieldnames=headers)\n",
    "        fileWriter.writeheader()\n",
    "        for index, pred in enumerate(predictions):\n",
    "            fileWriter.writerow({headers[0]: \"{}.txt\".format(index), headers[1]: ' '.join(predictions[index])})"
   ]
  },
  {
   "cell_type": "code",
   "execution_count": 20,
   "metadata": {},
   "outputs": [],
   "source": [
    "outputCSV(top_images)"
   ]
  },
  {
   "cell_type": "code",
   "execution_count": null,
   "metadata": {},
   "outputs": [],
   "source": []
  }
 ],
 "metadata": {
  "kernelspec": {
   "display_name": "Python 3",
   "language": "python",
   "name": "python3"
  },
  "language_info": {
   "codemirror_mode": {
    "name": "ipython",
    "version": 3
   },
   "file_extension": ".py",
   "mimetype": "text/x-python",
   "name": "python",
   "nbconvert_exporter": "python",
   "pygments_lexer": "ipython3",
   "version": "3.7.4"
  }
 },
 "nbformat": 4,
 "nbformat_minor": 4
}

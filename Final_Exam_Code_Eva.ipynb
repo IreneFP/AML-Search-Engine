{
 "cells": [
  {
   "cell_type": "markdown",
   "metadata": {},
   "source": [
    "https://www.kaggle.com/c/cs5785-fall19-final/"
   ]
  },
  {
   "cell_type": "markdown",
   "metadata": {},
   "source": [
    "# Create an Ensemble Model"
   ]
  },
  {
   "cell_type": "markdown",
   "metadata": {},
   "source": [
    "#### Get the Descriptions and Tags from File"
   ]
  },
  {
   "cell_type": "code",
   "execution_count": 24,
   "metadata": {},
   "outputs": [],
   "source": [
    "import os\n",
    "import numpy as np\n",
    "import gensim\n",
    "from nltk.corpus import stopwords \n",
    "from nltk.tokenize import word_tokenize\n",
    "from nltk.stem import WordNetLemmatizer\n",
    "import string\n",
    "import pandas as pd\n",
    "from sklearn.neighbors import NearestNeighbors"
   ]
  },
  {
   "cell_type": "code",
   "execution_count": 2,
   "metadata": {},
   "outputs": [],
   "source": [
    "def parse_descriptions(data_dir, num_doc):\n",
    "    docs = []\n",
    "    for i in range(num_doc):\n",
    "        path = os.path.join(data_dir, \"%d.txt\" % i)\n",
    "        with open(path) as f:\n",
    "            docs.append(f.read())\n",
    "    return docs"
   ]
  },
  {
   "cell_type": "code",
   "execution_count": 3,
   "metadata": {},
   "outputs": [],
   "source": [
    "train_tags = parse_descriptions(\"cs5785-fall19-final/tags_train\", num_doc=10000)\n",
    "test_tags = parse_descriptions(\"cs5785-fall19-final/tags_test\", num_doc=2000)"
   ]
  },
  {
   "cell_type": "code",
   "execution_count": 4,
   "metadata": {},
   "outputs": [],
   "source": [
    "def parse_tags(tags):\n",
    "    result = []\n",
    "    for doc in tags:\n",
    "        doc = doc.strip('\\n').split('\\n')\n",
    "        cat_it = []\n",
    "        if doc[0] == '':\n",
    "            result.append('no tag')\n",
    "        else:\n",
    "            for tag in doc:\n",
    "                split_tag = tag.split(':')\n",
    "                cat_it.append(split_tag[0])\n",
    "                cat_it.append(split_tag[1])\n",
    "            parsed = (' ').join(list(cat_it))\n",
    "            result.append(parsed)\n",
    "    return np.array(result)"
   ]
  },
  {
   "cell_type": "code",
   "execution_count": 5,
   "metadata": {},
   "outputs": [],
   "source": [
    "train_tags_parsed = parse_tags(train_tags)\n",
    "test_tags_parsed = parse_tags(test_tags)"
   ]
  },
  {
   "cell_type": "code",
   "execution_count": 6,
   "metadata": {},
   "outputs": [],
   "source": [
    "# function to preprocess data\n",
    "def preprocessing(data):\n",
    "    stop_words = set(stopwords.words('english')) # find stop words in English language\n",
    "    lemmatizer = WordNetLemmatizer() # declare nltk lemmatizer\n",
    "\n",
    "    # iterate through every sentence and replace it by itself lemmatized, without punctuation and without stop words\n",
    "    for i in range(len(data)):\n",
    "        sentence_no_punct = ''\n",
    "        # remove punctuation\n",
    "        \n",
    "        for char in data[i]:\n",
    "            if char not in string.punctuation:\n",
    "                sentence_no_punct = sentence_no_punct + char\n",
    "        data[i] = sentence_no_punct\n",
    "\n",
    "        word_tokens = word_tokenize(data[i])\n",
    "    \n",
    "        # remove stop words and lemmatize\n",
    "        word_tokens = [lemmatizer.lemmatize(word) for word in word_tokens if word not in stop_words and len(word) > 1]\n",
    "        word_tokens = [lemmatizer.lemmatize(word, 'v') for word in word_tokens]\n",
    "        word_tokens = [lemmatizer.lemmatize(word, 'a') for word in word_tokens]\n",
    "        \n",
    "        # remove conjunction words\n",
    "        word_tokens = [word for word in word_tokens if word[-2:] != 'nt']\n",
    "        (data[i]) = ' '.join(word_tokens)\n",
    "        \n",
    "    return data"
   ]
  },
  {
   "cell_type": "code",
   "execution_count": 7,
   "metadata": {},
   "outputs": [],
   "source": [
    "train_descs = parse_descriptions('cs5785-fall19-final/descriptions_train', 10000)\n",
    "test_descs  = parse_descriptions('cs5785-fall19-final/descriptions_test', 2000)\n",
    "train_descs = preprocessing(train_descs)\n",
    "test_descs  = preprocessing(test_descs)"
   ]
  },
  {
   "cell_type": "markdown",
   "metadata": {},
   "source": [
    "#### Create the Bag of Words"
   ]
  },
  {
   "cell_type": "code",
   "execution_count": 8,
   "metadata": {},
   "outputs": [],
   "source": [
    "word2vec = gensim.models.KeyedVectors.load_word2vec_format(\"../GoogleNews-vectors-negative300.bin.gz\", binary=True)"
   ]
  },
  {
   "cell_type": "code",
   "execution_count": 9,
   "metadata": {},
   "outputs": [],
   "source": [
    "def doc_to_vec(sentence, word2vec):\n",
    "    # get list of word vectors in sentence\n",
    "    word_vecs = [word2vec.get_vector(w) for w in sentence.split() if w in word2vec.vocab]\n",
    "    # return average\n",
    "    return np.stack(word_vecs).mean(0)"
   ]
  },
  {
   "cell_type": "code",
   "execution_count": 10,
   "metadata": {},
   "outputs": [],
   "source": [
    "x_train = np.array([doc_to_vec(train_descs[i], word2vec) for i in range(len(train_descs))])\n",
    "x_test = np.array([doc_to_vec(d, word2vec) for d in test_descs])"
   ]
  },
  {
   "cell_type": "markdown",
   "metadata": {},
   "source": [
    "#### Get Image Feature Vectors"
   ]
  },
  {
   "cell_type": "code",
   "execution_count": 11,
   "metadata": {},
   "outputs": [],
   "source": [
    "train_feat_sort = pd.read_csv(\"sorted_train_features.csv\", header = None, index_col=None)\n",
    "test_feat_sort = pd.read_csv(\"sorted_test_features.csv\", header = None, index_col=None)\n",
    "\n",
    "#train_inter_feat = pd.read_csv(\"cs5785-fall19-final/features_train/features_resnet1000intermediate_train.csv\", header = None, index_col=None)\n",
    "#test_inter_feat = pd.read_csv(\"cs5785-fall19-final/features_test/features_resnet1000intermediate_test.csv\", header = None, index_col=None)"
   ]
  },
  {
   "cell_type": "code",
   "execution_count": 12,
   "metadata": {},
   "outputs": [],
   "source": [
    "#train_feat_2 = train_feat\n",
    "\n",
    "#for i in range(1000):\n",
    "    #train_feat[0][i] = train_feat[0][i].replace(\"images_train/\", \"\").replace(\".jpg\", \"\")\n",
    "    #train_feat[0][i] = temp\n",
    "\n",
    "#train_feat_sort = train_feat.sort_values(by=0)\n",
    "\n",
    "#for i in range(len(test_feat[0])):\n",
    " #   test_feat[0][i] = int(test_feat[0][i].replace(\"images_test/\", \"\").replace(\".jpg\", \"\"))\n",
    "\n",
    "#test_feat_sort = test_feat.sort_values(by=0)"
   ]
  },
  {
   "cell_type": "code",
   "execution_count": 13,
   "metadata": {},
   "outputs": [],
   "source": [
    "#train_feat_sort = train_feat.sort_values(by=0)"
   ]
  },
  {
   "cell_type": "code",
   "execution_count": 14,
   "metadata": {},
   "outputs": [],
   "source": [
    "#for i in range(len(test_feat[0])):\n",
    "  #  test_feat[0][i] = int(test_feat[0][i].replace(\"images_test/\", \"\").replace(\".jpg\", \"\"))"
   ]
  },
  {
   "cell_type": "code",
   "execution_count": 15,
   "metadata": {},
   "outputs": [],
   "source": [
    "#y_train = train_feat_sort.drop(columns=0).to_numpy()\n",
    "#y_test = test_feat_sort.drop(columns=0).to_numpy()"
   ]
  },
  {
   "cell_type": "code",
   "execution_count": 16,
   "metadata": {},
   "outputs": [],
   "source": [
    "y_train = train_feat_sort.drop(columns=0).to_numpy()\n",
    "y_test = test_feat_sort.drop(columns=0).to_numpy()\n",
    "#y_train_inter = train_inter_feat_sort.drop(columns=0).to_numpy()\n",
    "#y_test_inter = test_inter_feat_sort.drop(columns=0).to_numpy()"
   ]
  },
  {
   "cell_type": "markdown",
   "metadata": {},
   "source": [
    "#### Create A Train/Test Split"
   ]
  },
  {
   "cell_type": "code",
   "execution_count": 17,
   "metadata": {},
   "outputs": [],
   "source": [
    "import random\n",
    "num_train = 8000\n",
    "num_dev = 2000\n",
    "num_test = 2000\n",
    "split = list(range(num_train + num_dev))\n",
    "random.shuffle(split)"
   ]
  },
  {
   "cell_type": "code",
   "execution_count": 18,
   "metadata": {},
   "outputs": [],
   "source": [
    "x_train_dev = x_train[split[:num_train]]\n",
    "y_train_dev = y_train[split[:num_train]]\n",
    "x_test_dev = x_train[split[num_train:]]\n",
    "y_test_dev = y_train[split[num_train:]]\n",
    "\n",
    "train_tags_dev = train_tags_parsed[split[:num_train]]\n",
    "test_tags_dev = train_tags_parsed[split[num_train:]]"
   ]
  },
  {
   "cell_type": "markdown",
   "metadata": {},
   "source": [
    "#### For Later when we need the tags of the whole train and test set"
   ]
  },
  {
   "cell_type": "code",
   "execution_count": 19,
   "metadata": {},
   "outputs": [],
   "source": [
    "tag_train = np.array([doc_to_vec(d, word2vec) for d in train_tags_parsed])\n",
    "tag_test = np.array([doc_to_vec(d, word2vec) for d in test_tags_parsed])"
   ]
  },
  {
   "cell_type": "markdown",
   "metadata": {},
   "source": [
    "#### For Development Right Now when we need the smaller train and test set to check accuracy"
   ]
  },
  {
   "cell_type": "code",
   "execution_count": 20,
   "metadata": {},
   "outputs": [],
   "source": [
    "train_tags_dev = np.array([doc_to_vec(d, word2vec) for d in train_tags_dev])\n",
    "test_tags_dev = np.array([doc_to_vec(d, word2vec) for d in test_tags_dev])"
   ]
  },
  {
   "cell_type": "markdown",
   "metadata": {},
   "source": [
    "### Relate Descriptions and Tags with a Model --- SVM"
   ]
  },
  {
   "cell_type": "code",
   "execution_count": 77,
   "metadata": {},
   "outputs": [],
   "source": [
    "from sklearn.svm import SVR\n",
    "from sklearn.multioutput import MultiOutputRegressor\n",
    "supvm = MultiOutputRegressor(SVR(gamma = 'scale')).fit(x_train_dev, train_tags_dev)\n",
    "tag_preds = supvm.predict(x_test_dev)"
   ]
  },
  {
   "cell_type": "markdown",
   "metadata": {},
   "source": [
    "### Relate Image Features and Descriptions Model"
   ]
  },
  {
   "cell_type": "code",
   "execution_count": 38,
   "metadata": {},
   "outputs": [],
   "source": [
    "from sklearn.neural_network import MLPRegressor\n",
    "\n",
    "clf = MLPRegressor(solver='sgd', alpha=1e-5, hidden_layer_sizes=(300,), random_state=1, max_iter = 1000)\n",
    "clf.fit(x_train_dev, y_train_dev)\n",
    "image_preds = clf.predict(x_test_dev)"
   ]
  },
  {
   "cell_type": "markdown",
   "metadata": {},
   "source": [
    "### Lasso Regressor with Cross-Validation to relate descriptors and tags (maybe try instead of mlp too?)"
   ]
  },
  {
   "cell_type": "code",
   "execution_count": null,
   "metadata": {},
   "outputs": [],
   "source": [
    "from sklearn.linear_model import Lasso\n",
    "from sklearn.model_selection import GridSearchCV\n",
    "\n",
    "lasso = Lasso()\n",
    "parameters = {'alpha': [1e-15, 1e-10, 1e-8, 1e-4, 1e-3, 1e-2, 1, 5, 10, 20]}\n",
    "lasso_regressor = GridSearchCV(lasso, parameters, scoring='neg_mean_squared_error', cv = 5)\n",
    "lasso_regressor.fit(x_train_dev, train_tags_dev)\n",
    "tag_preds = lasso_regressor.predict(x_test_dev)\n",
    "\n",
    "print(lasso_regressor.best_params_)\n",
    "print(lasso_regressor.best_score_)"
   ]
  },
  {
   "cell_type": "markdown",
   "metadata": {},
   "source": [
    "Best lasso params: {'alpha': 1e-08}\n",
    "-0.0024774808902293445"
   ]
  },
  {
   "cell_type": "markdown",
   "metadata": {},
   "source": [
    "### Ridge Regressor with Cross-Validation (not run yet)"
   ]
  },
  {
   "cell_type": "code",
   "execution_count": 61,
   "metadata": {},
   "outputs": [
    {
     "name": "stdout",
     "output_type": "stream",
     "text": [
      "{'alpha': 1}\n",
      "-0.0024467481765896083\n"
     ]
    }
   ],
   "source": [
    "from sklearn.linear_model import Ridge\n",
    "ridge = Ridge()\n",
    "parameters = {'alpha': [1e-15, 1e-10, 1e-8, 1e-4, 1e-3, 1e-2, 1, 5, 10, 20]}\n",
    "\n",
    "ridge_regressor = GridSearchCV(ridge, parameters, scoring='neg_mean_squared_error', cv = 5)\n",
    "ridge_regressor.fit(x_train_dev, train_tags_dev)\n",
    "tag_preds = ridge_regressor.predict(x_test_dev)\n",
    "\n",
    "print(ridge_regressor.best_params_)\n",
    "print(ridge_regressor.best_score_)"
   ]
  },
  {
   "cell_type": "code",
   "execution_count": 60,
   "metadata": {},
   "outputs": [
    {
     "name": "stdout",
     "output_type": "stream",
     "text": [
      "(2000, 999)\n",
      "(2000, 300)\n",
      "(8000, 999)\n",
      "(8000, 300)\n"
     ]
    }
   ],
   "source": [
    "print(tag_preds.shape)\n",
    "print(test_tags_dev.shape)\n",
    "print(y_train_dev.shape)\n",
    "print(x_train_dev.shape)"
   ]
  },
  {
   "cell_type": "markdown",
   "metadata": {},
   "source": [
    "Best Ridge parameters: {'alpha': 1}\n",
    "-0.0024467481765896083"
   ]
  },
  {
   "cell_type": "markdown",
   "metadata": {},
   "source": [
    "### Combine the Models"
   ]
  },
  {
   "cell_type": "markdown",
   "metadata": {},
   "source": [
    "#### Try Evaluating the Nearest Neighbors and Take A New Ranking Based on Both"
   ]
  },
  {
   "cell_type": "code",
   "execution_count": 78,
   "metadata": {},
   "outputs": [],
   "source": [
    "# function to return the number of nearest neighbors specified\n",
    "def knn_function(data, point, neighbors_number):\n",
    "    knn = NearestNeighbors(n_neighbors=neighbors_number)\n",
    "    knn.fit(data)\n",
    "    return knn.kneighbors(point, neighbors_number, return_distance=False)"
   ]
  },
  {
   "cell_type": "code",
   "execution_count": 79,
   "metadata": {},
   "outputs": [],
   "source": [
    "tag_neighbors = knn_function(test_tags_dev, tag_preds, 50)\n",
    "image_neighbors = knn_function(y_test_dev, image_preds, 50)"
   ]
  },
  {
   "cell_type": "code",
   "execution_count": 80,
   "metadata": {},
   "outputs": [],
   "source": [
    "neighbors1 = []\n",
    "for i in range(len(tag_neighbors)):\n",
    "    neighbors1.append(np.array(list(set(tag_neighbors[i]) & set(image_neighbors[i]))[:20]))"
   ]
  },
  {
   "cell_type": "code",
   "execution_count": 81,
   "metadata": {},
   "outputs": [],
   "source": [
    "neighbors1 = np.array(neighbors1)"
   ]
  },
  {
   "cell_type": "markdown",
   "metadata": {},
   "source": [
    "### Evaluate the Model"
   ]
  },
  {
   "cell_type": "code",
   "execution_count": 82,
   "metadata": {},
   "outputs": [],
   "source": [
    "def scores(i):\n",
    "    return (20+1-(i+1))/20"
   ]
  },
  {
   "cell_type": "code",
   "execution_count": 83,
   "metadata": {},
   "outputs": [],
   "source": [
    "def eval_accuracy(ytest, neighbors):\n",
    "    # EVALUATE THE MODEL USING THE MEAN AVERAGE PRECISION AT 20\n",
    "    scs = []\n",
    "    for i in range(len(neighbors)):\n",
    "        good = False\n",
    "        for j, n in enumerate(neighbors[i]):\n",
    "            if i == n:\n",
    "                scs.append(scores(j))\n",
    "                good = True\n",
    "                break\n",
    "        if good == False:\n",
    "            scs.append(0)\n",
    "    return sum(scs)/len(neighbors)"
   ]
  },
  {
   "cell_type": "code",
   "execution_count": 84,
   "metadata": {},
   "outputs": [],
   "source": [
    "#print('accuracy of svm tags', eval_accuracy(y_test_dev, tag_neighbors[:20]))"
   ]
  },
  {
   "cell_type": "code",
   "execution_count": 90,
   "metadata": {},
   "outputs": [
    {
     "name": "stdout",
     "output_type": "stream",
     "text": [
      "accuracy of svm tags 0.0775\n"
     ]
    }
   ],
   "source": [
    "print('accuracy of svm tags', eval_accuracy(y_test_dev, tag_neighbors[:20]))"
   ]
  },
  {
   "cell_type": "code",
   "execution_count": 91,
   "metadata": {},
   "outputs": [
    {
     "name": "stdout",
     "output_type": "stream",
     "text": [
      "accuracy of image features 0.0\n"
     ]
    }
   ],
   "source": [
    "print('accuracy of image features', eval_accuracy(y_test_dev, image_neighbors[:20]))"
   ]
  },
  {
   "cell_type": "code",
   "execution_count": 92,
   "metadata": {},
   "outputs": [],
   "source": [
    "#print('accuracy of svm tags combined with image features', eval_accuracy(y_test_dev, neighbors1))"
   ]
  },
  {
   "cell_type": "code",
   "execution_count": 89,
   "metadata": {},
   "outputs": [
    {
     "name": "stdout",
     "output_type": "stream",
     "text": [
      "accuracy of svm tags combined with image features 0.0184\n"
     ]
    }
   ],
   "source": [
    "print('accuracy of svm tags combined with image features', eval_accuracy(y_test_dev, neighbors1))"
   ]
  },
  {
   "cell_type": "code",
   "execution_count": null,
   "metadata": {},
   "outputs": [],
   "source": []
  }
 ],
 "metadata": {
  "kernelspec": {
   "display_name": "Python 3",
   "language": "python",
   "name": "python3"
  },
  "language_info": {
   "codemirror_mode": {
    "name": "ipython",
    "version": 3
   },
   "file_extension": ".py",
   "mimetype": "text/x-python",
   "name": "python",
   "nbconvert_exporter": "python",
   "pygments_lexer": "ipython3",
   "version": "3.7.3"
  }
 },
 "nbformat": 4,
 "nbformat_minor": 4
}

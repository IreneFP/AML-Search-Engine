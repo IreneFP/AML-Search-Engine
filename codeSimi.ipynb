{
 "cells": [
  {
   "cell_type": "markdown",
   "metadata": {},
   "source": [
    "https://www.kaggle.com/c/cs5785-fall19-final/"
   ]
  },
  {
   "cell_type": "code",
   "execution_count": 1,
   "metadata": {},
   "outputs": [
    {
     "name": "stdout",
     "output_type": "stream",
     "text": [
      "Populating the interactive namespace from numpy and matplotlib\n"
     ]
    }
   ],
   "source": [
    "import numpy as np \n",
    "import pandas as pd\n",
    "import matplotlib.pyplot as plt\n",
    "import matplotlib.image as mpimg\n",
    "import csv\n",
    "import nltk\n",
    "from nltk.corpus import stopwords \n",
    "from nltk.tokenize import word_tokenize\n",
    "from nltk.stem import WordNetLemmatizer\n",
    "import string\n",
    "import sklearn\n",
    "from os import listdir\n",
    "from sklearn.linear_model import LogisticRegression\n",
    "from sklearn.neighbors import NearestNeighbors\n",
    "\n",
    "%pylab inline"
   ]
  },
  {
   "cell_type": "markdown",
   "metadata": {},
   "source": [
    "#### Import Files"
   ]
  },
  {
   "cell_type": "code",
   "execution_count": 2,
   "metadata": {},
   "outputs": [],
   "source": [
    "def get_flat_descriptions_from_folder(folder, num):\n",
    "    descriptions = []\n",
    "    for i in range(num):\n",
    "        with open((folder).format(i), newline='') as f:\n",
    "            desc1 = []\n",
    "            reader = csv.reader(f)\n",
    "            for row in reader:\n",
    "                desc1.append(row)\n",
    "            descriptions.append(desc1)\n",
    "    \n",
    "    # FIRST FLATTENING\n",
    "    descriptions2 = []\n",
    "    for description in descriptions:\n",
    "        descriptions2.append([desc for sublist in description for desc in sublist])\n",
    "        \n",
    "    # MADE THE SENTENCES ALL ONE FOR EACH DESCRIPTION FILE\n",
    "    flat_descriptions = []\n",
    "    for description in descriptions2:\n",
    "        desc1 = []\n",
    "        for sentence in description:\n",
    "            desc1 += sentence.split(' ')\n",
    "        flat_descriptions.append(desc1)\n",
    "    \n",
    "    for i in range(len(flat_descriptions)):\n",
    "        flat_descriptions[i] = (' ').join(flat_descriptions[i]).lower()\n",
    "    \n",
    "    return flat_descriptions"
   ]
  },
  {
   "cell_type": "code",
   "execution_count": 27,
   "metadata": {},
   "outputs": [],
   "source": [
    "# function to preprocess data\n",
    "def preprocessing(data):\n",
    "    stop_words = set(stopwords.words('english')) # find stop words in English language\n",
    "    lemmatizer = WordNetLemmatizer() # declare nltk lemmatizer\n",
    "\n",
    "    # iterate through every sentence and replace it by itself lemmatized, without punctuation and without stop words\n",
    "    for i in range(len(data)):\n",
    "        sentence_no_punct = ''\n",
    "        # remove punctuation\n",
    "        \n",
    "        for char in data[i]:\n",
    "            if char not in string.punctuation:\n",
    "                sentence_no_punct = sentence_no_punct + char\n",
    "        data[i] = sentence_no_punct\n",
    "\n",
    "        word_tokens = word_tokenize(data[i])\n",
    "    \n",
    "        # remove stop words and lemmatize\n",
    "        word_tokens = [lemmatizer.lemmatize(word) for word in word_tokens if word not in stop_words and len(word) > 1]\n",
    "        word_tokens = [lemmatizer.lemmatize(word, 'v') for word in word_tokens]\n",
    "        word_tokens = [lemmatizer.lemmatize(word, 'a') for word in word_tokens]\n",
    "        \n",
    "        # remove conjunction words\n",
    "        word_tokens = [word for word in word_tokens if word[-2:] != 'nt']\n",
    "        (data[i]) = ' '.join(word_tokens)\n",
    "        \n",
    "    return data"
   ]
  },
  {
   "cell_type": "code",
   "execution_count": 4,
   "metadata": {},
   "outputs": [],
   "source": [
    "# [  [ unprocessed description of image 1  ] , [ unprocessed description of image 2  ]   , ...  ]\n",
    "train_flat_descs = get_flat_descriptions_from_folder('cs5785-fall19-final/descriptions_train/{}.txt', 10000)\n",
    "test_flat_descs  = get_flat_descriptions_from_folder('cs5785-fall19-final/descriptions_test/{}.txt', 2000)"
   ]
  },
  {
   "cell_type": "code",
   "execution_count": 5,
   "metadata": {},
   "outputs": [],
   "source": [
    "# [  [ processed description of image 1  ] , [ processed description of image 2  ]   , ...  ]\n",
    "train_descs = preprocessing(train_flat_descs)\n",
    "test_descs  = preprocessing(test_flat_descs)"
   ]
  },
  {
   "cell_type": "markdown",
   "metadata": {},
   "source": [
    "#### Bag Of Words Features"
   ]
  },
  {
   "cell_type": "code",
   "execution_count": 6,
   "metadata": {},
   "outputs": [],
   "source": [
    "# CREATE THE BAG OF WORDS DICTIONARY\n",
    "def create_bow(train_descs):\n",
    "    BOW = {}\n",
    "    for description in train_descs:\n",
    "        sentence_lst = description.split(' ')\n",
    "        for word in sentence_lst:\n",
    "            BOW[word] = 0\n",
    "    BOW['null'] = 0\n",
    "    return BOW"
   ]
  },
  {
   "cell_type": "code",
   "execution_count": 7,
   "metadata": {},
   "outputs": [],
   "source": [
    "def create_bow_vectors(data, BOW):\n",
    "    feature_vectors = []\n",
    "    for description in data:\n",
    "        feat_vec = BOW.copy()\n",
    "        sentence_lst = description.split(' ')\n",
    "        for word in sentence_lst:\n",
    "            if word in feat_vec:\n",
    "                feat_vec[word] += 1\n",
    "            else:\n",
    "                feat_vec['null'] += 1       \n",
    "        feature_vectors.append(feat_vec)\n",
    "\n",
    "    # TURN DICTIONARIES INTO A MATRIX with each row as one description\n",
    "    feature_vector_matrix = []\n",
    "    for feature_vec in feature_vectors:\n",
    "        feature_vector_matrix.append(list(feature_vec.values()))\n",
    "\n",
    "    # NORMALIZE THE FEATURES\n",
    "    feature_vector_matrix = sklearn.preprocessing.normalize(feature_vector_matrix) # default is L2 norm\n",
    "    return feature_vector_matrix"
   ]
  },
  {
   "cell_type": "markdown",
   "metadata": {},
   "source": [
    "#### Get Image Features"
   ]
  },
  {
   "cell_type": "code",
   "execution_count": 6,
   "metadata": {},
   "outputs": [],
   "source": [
    "train_feat = pd.read_csv(\"cs5785-fall19-final/features_train/features_resnet1000_train.csv\", header = None, index_col=None)\n",
    "test_feat = pd.read_csv(\"cs5785-fall19-final/features_test/features_resnet1000_test.csv\", header = None, index_col=None)"
   ]
  },
  {
   "cell_type": "code",
   "execution_count": 7,
   "metadata": {},
   "outputs": [
    {
     "name": "stderr",
     "output_type": "stream",
     "text": [
      "C:\\Users\\simir\\Anaconda3\\lib\\site-packages\\ipykernel_launcher.py:2: SettingWithCopyWarning: \n",
      "A value is trying to be set on a copy of a slice from a DataFrame\n",
      "\n",
      "See the caveats in the documentation: http://pandas.pydata.org/pandas-docs/stable/user_guide/indexing.html#returning-a-view-versus-a-copy\n",
      "  \n",
      "C:\\Users\\simir\\Anaconda3\\lib\\site-packages\\ipykernel_launcher.py:7: SettingWithCopyWarning: \n",
      "A value is trying to be set on a copy of a slice from a DataFrame\n",
      "\n",
      "See the caveats in the documentation: http://pandas.pydata.org/pandas-docs/stable/user_guide/indexing.html#returning-a-view-versus-a-copy\n",
      "  import sys\n"
     ]
    }
   ],
   "source": [
    "for i in range(len(train_feat[0])):\n",
    "    train_feat[0][i] = int(train_feat[0][i].replace(\"images_train/\", \"\").replace(\".jpg\", \"\"))\n",
    "\n",
    "train_feat_sort = train_feat.sort_values(by=0)\n",
    "\n",
    "for i in range(len(test_feat[0])):\n",
    "    test_feat[0][i] = int(test_feat[0][i].replace(\"images_test/\", \"\").replace(\".jpg\", \"\"))\n",
    "\n",
    "test_feat_sort = test_feat.sort_values(by=0)"
   ]
  },
  {
   "cell_type": "markdown",
   "metadata": {},
   "source": [
    "## Do MLP with Proper KNN Scoring"
   ]
  },
  {
   "cell_type": "code",
   "execution_count": 9,
   "metadata": {},
   "outputs": [],
   "source": [
    "# function to return the number of nearest neighbors specified\n",
    "def knn_function(data, point, neighbors_number):\n",
    "    knn = NearestNeighbors(n_neighbors=neighbors_number, algorithm='ball_tree')\n",
    "    knn.fit(data)\n",
    "    return knn.kneighbors(point, neighbors_number)"
   ]
  },
  {
   "cell_type": "code",
   "execution_count": 8,
   "metadata": {},
   "outputs": [],
   "source": [
    "def scores(i):\n",
    "    return (20+1-(i+1))/20"
   ]
  },
  {
   "cell_type": "code",
   "execution_count": null,
   "metadata": {},
   "outputs": [],
   "source": [
    "def find_neighbors_and_eval_accuracy(ytest, ypred):\n",
    "    # FIND NEAREST NEIGHBORS\n",
    "    neighbors = knn_function(ytest, ypred, 20)\n",
    "    # EVALUATE THE MODEL USING THE MEAN AVERAGE PRECISION AT 20\n",
    "    scs = []\n",
    "    for i in range(len(ypred)):\n",
    "        good = False\n",
    "        for j, n in enumerate(neighbors[i]):\n",
    "            if i == n:\n",
    "                scs.append(scores(j))\n",
    "                good = True\n",
    "                break\n",
    "        if good == False:\n",
    "            scs.append(0)\n",
    "    return sum(scs)/len(ypred)"
   ]
  },
  {
   "cell_type": "code",
   "execution_count": 23,
   "metadata": {},
   "outputs": [],
   "source": [
    "from sklearn.model_selection import KFold\n",
    "from sklearn.neural_network import MLPRegressor\n",
    "\n",
    "cv = KFold(3)\n",
    "\n",
    "X = np.array(train_descs)\n",
    "y = train_feat_sort.drop(columns=0).to_numpy()\n",
    "accuracies = []\n",
    "\n",
    "for train, test in cv.split(X, y):\n",
    "    # FIND THE BAG OF WORDS\n",
    "    BOW = create_bow(X[train])\n",
    "    X_train = create_bow_vectors(X[train], BOW)\n",
    "    X_test = create_bow_vectors(X[test], BOW)\n",
    "    # FIND THE MODEL\n",
    "    clf = MLPRegressor(solver='sgd', alpha=1e-5, hidden_layer_sizes=(10,), random_state=1, max_iter = 1000)\n",
    "    # FIT THE MODEL\n",
    "    clf.fit(X_train, y[train])\n",
    "    # PREDICT\n",
    "    predictions = clf.predict(X_test)\n",
    "    # FIND NEAREST NEIGHBORS\n",
    "    neighbors = knn_function(y[test], predictions, 20)\n",
    "    # EVALUATE THE MODEL USING THE MEAN AVERAGE PRECISION AT 20\n",
    "    scs = []\n",
    "    for i in range(len(predictions)):\n",
    "        good = False\n",
    "        for j, n in enumerate(neighbors[i]):\n",
    "            if i == n:\n",
    "                scs.append(scores(j))\n",
    "                good = True\n",
    "                break\n",
    "        if good == False:\n",
    "            scs.append(0)\n",
    "    accuracies.append(sum(scs)/len(predictions))"
   ]
  },
  {
   "cell_type": "code",
   "execution_count": 25,
   "metadata": {},
   "outputs": [
    {
     "data": {
      "text/plain": [
       "0.09035502230486997"
      ]
     },
     "execution_count": 25,
     "metadata": {},
     "output_type": "execute_result"
    }
   ],
   "source": [
    "np.mean(accuracies)"
   ]
  },
  {
   "cell_type": "markdown",
   "metadata": {},
   "source": [
    "## Train On Whole Set and Run On Test Data for the First MLP Model with BOW and KNN"
   ]
  },
  {
   "cell_type": "code",
   "execution_count": 12,
   "metadata": {},
   "outputs": [],
   "source": [
    "BOW = create_bow(train_descs)"
   ]
  },
  {
   "cell_type": "code",
   "execution_count": 13,
   "metadata": {},
   "outputs": [],
   "source": [
    "feature_vector_matrix = create_bow_vectors(train_descs, BOW)"
   ]
  },
  {
   "cell_type": "code",
   "execution_count": 14,
   "metadata": {},
   "outputs": [],
   "source": [
    "feature_vector_matrix_test = create_bow_vectors(test_descs, BOW)"
   ]
  },
  {
   "cell_type": "code",
   "execution_count": 15,
   "metadata": {},
   "outputs": [],
   "source": [
    "from sklearn.neural_network import MLPRegressor\n",
    "\n",
    "X = feature_vector_matrix\n",
    "X_test = feature_vector_matrix_test\n",
    "y = train_feat_sort.drop(columns=0).to_numpy()\n",
    "y_test = test_feat_sort.drop(columns=0).to_numpy()"
   ]
  },
  {
   "cell_type": "code",
   "execution_count": 16,
   "metadata": {},
   "outputs": [],
   "source": [
    "clf = MLPRegressor(solver='sgd', alpha=1e-5, hidden_layer_sizes=(10,), random_state=1, max_iter = 1000)\n",
    "clf.fit(X, y)\n",
    "predictions = clf.predict(X_test)\n",
    "neighbors = knn_function(y_test, predictions, 20)"
   ]
  },
  {
   "cell_type": "code",
   "execution_count": 17,
   "metadata": {},
   "outputs": [],
   "source": [
    "neighbors_adjusted = []\n",
    "file_list = []\n",
    "for i, row in enumerate(neighbors):\n",
    "    newlst = []\n",
    "    for val in row:\n",
    "        newlst.append(str(val)+'.jpg')\n",
    "    neighbors_adjusted.append((' ').join(newlst))\n",
    "    file_list.append(str(i)+'.txt')"
   ]
  },
  {
   "cell_type": "code",
   "execution_count": 18,
   "metadata": {},
   "outputs": [],
   "source": [
    "df = pd.DataFrame(zip(file_list, neighbors_adjusted), columns = ['Descritpion_ID', 'Top_20_Image_IDs'])"
   ]
  },
  {
   "cell_type": "code",
   "execution_count": 19,
   "metadata": {},
   "outputs": [],
   "source": [
    "df.to_csv('MLP_neuralnet.csv', index = False)"
   ]
  },
  {
   "cell_type": "markdown",
   "metadata": {},
   "source": [
    "This only gave 5.3% accuracy on kaggle. We need a better method."
   ]
  },
  {
   "cell_type": "markdown",
   "metadata": {},
   "source": [
    "## Try Using Sum Squared Distance Instead of KNN"
   ]
  },
  {
   "cell_type": "code",
   "execution_count": 9,
   "metadata": {},
   "outputs": [],
   "source": [
    "def dist(x1, x2):\n",
    "    return sum((x1 - x2) ** 2) ** 0.5\n",
    "\n",
    "def evaluate_model_with_error(ytest, ypred):\n",
    "    # EVALUATE THE MODEL USING SUM SQUARED ERROR\n",
    "    scores1 = []\n",
    "    for i in range(len(ypred)):\n",
    "        distances = []\n",
    "        for j in range(len(ytest)):\n",
    "            distances.append(dist(ypred[i], ytest[j]))\n",
    "        pred_dist_idx = list(np.argsort(distances))\n",
    "        dev_pos = pred_dist_idx.index(i)\n",
    "        if dev_pos < 20:\n",
    "            scores1.append(scores(dev_pos))\n",
    "        else:\n",
    "            scores1.append(0.0)\n",
    "    return np.mean(scores1)"
   ]
  },
  {
   "cell_type": "markdown",
   "metadata": {},
   "source": [
    "## Word To Vec"
   ]
  },
  {
   "cell_type": "code",
   "execution_count": 10,
   "metadata": {},
   "outputs": [],
   "source": [
    "import os\n",
    "import csv\n",
    "import random\n",
    "import gensim\n",
    "import numpy as np"
   ]
  },
  {
   "cell_type": "code",
   "execution_count": 11,
   "metadata": {},
   "outputs": [],
   "source": [
    "word2vec = gensim.models.KeyedVectors.load_word2vec_format(\"GoogleNews-vectors-negative300.bin.gz\", binary=True)"
   ]
  },
  {
   "cell_type": "code",
   "execution_count": 12,
   "metadata": {},
   "outputs": [],
   "source": [
    "def doc_to_vec(sentence, word2vec):\n",
    "    # get list of word vectors in sentence\n",
    "    word_vecs = [word2vec.get_vector(w) for w in sentence.split() if w in word2vec.vocab]\n",
    "    # return average\n",
    "    return np.stack(word_vecs).mean(0)"
   ]
  },
  {
   "cell_type": "code",
   "execution_count": 13,
   "metadata": {},
   "outputs": [],
   "source": [
    "x_train = np.array([doc_to_vec(train_flat_descs[i], word2vec) for i in range(len(train_flat_descs))])\n",
    "x_test = np.array([doc_to_vec(d, word2vec) for d in test_flat_descs])"
   ]
  },
  {
   "cell_type": "code",
   "execution_count": 14,
   "metadata": {},
   "outputs": [],
   "source": [
    "y_train = train_feat_sort.drop(columns=0).to_numpy()\n",
    "y_test = test_feat_sort.drop(columns=0).to_numpy()"
   ]
  },
  {
   "cell_type": "code",
   "execution_count": 18,
   "metadata": {},
   "outputs": [],
   "source": [
    "from sklearn.neural_network import MLPRegressor\n",
    "# train test split\n",
    "from sklearn.model_selection import train_test_split\n",
    "Xtrain, Xtest, Ytrain, Ytest = train_test_split(x_train, y_train)\n",
    "\n",
    "accuracies = []\n",
    "\n",
    "clf = MLPRegressor(solver='sgd', alpha=1e-5, hidden_layer_sizes=(10,), random_state=1, max_iter = 1000)\n",
    "clf.fit(Xtrain, Ytrain)\n",
    "predictions = clf.predict(Xtest)"
   ]
  },
  {
   "cell_type": "code",
   "execution_count": 19,
   "metadata": {},
   "outputs": [
    {
     "name": "stdout",
     "output_type": "stream",
     "text": [
      "0\n",
      "500\n",
      "1000\n",
      "1500\n",
      "2000\n"
     ]
    },
    {
     "data": {
      "text/plain": [
       "0.12522"
      ]
     },
     "execution_count": 19,
     "metadata": {},
     "output_type": "execute_result"
    }
   ],
   "source": [
    "scores1 = []\n",
    "for i in range(len(predictions)):\n",
    "    # find distances to every point\n",
    "    distances = []\n",
    "    for j in range(len(predictions)):\n",
    "        distances.append(dist(predictions[i], Ytest[j]))\n",
    "    if i % 500 == 0: # make sure its working\n",
    "        print(i)\n",
    "    pred_dist_idx = list(np.argsort(distances))\n",
    "    dev_pos = pred_dist_idx.index(i)\n",
    "    if dev_pos < 20:\n",
    "        scores1.append(scores(dev_pos))\n",
    "    else:\n",
    "        scores1.append(0.0)\n",
    "np.mean(scores1)"
   ]
  },
  {
   "cell_type": "markdown",
   "metadata": {},
   "source": [
    "### Best Model!!!!!!!!!!!!!!!"
   ]
  },
  {
   "cell_type": "code",
   "execution_count": 22,
   "metadata": {},
   "outputs": [],
   "source": [
    "Xtrain, Xtest, Ytrain, Ytest = train_test_split(x_train, y_train)\n",
    "\n",
    "clf = MLPRegressor(solver='sgd', alpha=1e-5, hidden_layer_sizes=(100,), random_state=1, max_iter = 1000)\n",
    "clf.fit(Xtrain, Ytrain)\n",
    "predictions = clf.predict(Xtest)"
   ]
  },
  {
   "cell_type": "code",
   "execution_count": 23,
   "metadata": {},
   "outputs": [
    {
     "name": "stdout",
     "output_type": "stream",
     "text": [
      "0\n",
      "500\n",
      "1000\n",
      "1500\n",
      "2000\n"
     ]
    },
    {
     "data": {
      "text/plain": [
       "0.32193999999999995"
      ]
     },
     "execution_count": 23,
     "metadata": {},
     "output_type": "execute_result"
    }
   ],
   "source": [
    "scores1 = []\n",
    "for i in range(len(predictions)):\n",
    "    # find distances to every point\n",
    "    distances = []\n",
    "    for j in range(len(predictions)):\n",
    "        distances.append(dist(predictions[i], Ytest[j]))\n",
    "    if i % 500 == 0: # make sure its working\n",
    "        print(i)\n",
    "    pred_dist_idx = list(np.argsort(distances))\n",
    "    dev_pos = pred_dist_idx.index(i)\n",
    "    if dev_pos < 20:\n",
    "        scores1.append(scores(dev_pos))\n",
    "    else:\n",
    "        scores1.append(0.0)\n",
    "np.mean(scores1)"
   ]
  },
  {
   "cell_type": "markdown",
   "metadata": {},
   "source": [
    "### Add another layer? Nope Didn't Help"
   ]
  },
  {
   "cell_type": "code",
   "execution_count": 24,
   "metadata": {},
   "outputs": [],
   "source": [
    "Xtrain, Xtest, Ytrain, Ytest = train_test_split(x_train, y_train)\n",
    "\n",
    "clf = MLPRegressor(solver='sgd', alpha=1e-5, hidden_layer_sizes=(100,200), random_state=1, max_iter = 1000)\n",
    "clf.fit(Xtrain, Ytrain)\n",
    "predictions = clf.predict(Xtest)"
   ]
  },
  {
   "cell_type": "code",
   "execution_count": 25,
   "metadata": {},
   "outputs": [
    {
     "name": "stdout",
     "output_type": "stream",
     "text": [
      "0\n",
      "500\n",
      "1000\n",
      "1500\n",
      "2000\n"
     ]
    },
    {
     "data": {
      "text/plain": [
       "0.3149"
      ]
     },
     "execution_count": 25,
     "metadata": {},
     "output_type": "execute_result"
    }
   ],
   "source": [
    "scores1 = []\n",
    "for i in range(len(predictions)):\n",
    "    # find distances to every point\n",
    "    distances = []\n",
    "    for j in range(len(predictions)):\n",
    "        distances.append(dist(predictions[i], Ytest[j]))\n",
    "    if i % 500 == 0: # make sure its working\n",
    "        print(i)\n",
    "    pred_dist_idx = list(np.argsort(distances))\n",
    "    dev_pos = pred_dist_idx.index(i)\n",
    "    if dev_pos < 20:\n",
    "        scores1.append(scores(dev_pos))\n",
    "    else:\n",
    "        scores1.append(0.0)\n",
    "np.mean(scores1)"
   ]
  },
  {
   "cell_type": "markdown",
   "metadata": {},
   "source": [
    "This was not as good as the one layer model."
   ]
  },
  {
   "cell_type": "markdown",
   "metadata": {},
   "source": [
    "## Get the Top 20 images for the test set using the best model"
   ]
  },
  {
   "cell_type": "code",
   "execution_count": 28,
   "metadata": {},
   "outputs": [],
   "source": [
    "clf = MLPRegressor(solver='sgd', alpha=1e-5, hidden_layer_sizes=(100,), random_state=1, max_iter = 1000)\n",
    "clf.fit(x_train, y_train)\n",
    "predictions = clf.predict(x_test)\n",
    "\n",
    "preds = []\n",
    "for i in range(len(predictions)):\n",
    "    distances = []\n",
    "    for j in range(len(y_test)):\n",
    "        distances.append(dist(predictions[i], y_test[j]))\n",
    "    test_idx = list(np.argsort(distances))\n",
    "    row = [str(i)+'.jpg' for i in test_idx[:20]]\n",
    "    preds.append(\" \".join(row))"
   ]
  },
  {
   "cell_type": "code",
   "execution_count": 29,
   "metadata": {},
   "outputs": [],
   "source": [
    "file_list = []\n",
    "for i, row in enumerate(preds):\n",
    "    file_list.append(str(i)+'.txt')"
   ]
  },
  {
   "cell_type": "code",
   "execution_count": 30,
   "metadata": {},
   "outputs": [],
   "source": [
    "df = pd.DataFrame(zip(file_list, preds), columns = ['Descritpion_ID', 'Top_20_Image_IDs'])"
   ]
  },
  {
   "cell_type": "code",
   "execution_count": 31,
   "metadata": {},
   "outputs": [],
   "source": [
    "df.to_csv('MLP_multilayerNeuralnet_wordnet.csv', index = False)"
   ]
  },
  {
   "cell_type": "markdown",
   "metadata": {},
   "source": [
    "# Use Tags and Create an Ensemble Model"
   ]
  },
  {
   "cell_type": "markdown",
   "metadata": {},
   "source": [
    "#### Get the Descriptions and Tags from File"
   ]
  },
  {
   "cell_type": "code",
   "execution_count": 237,
   "metadata": {},
   "outputs": [],
   "source": [
    "def parse_descriptions(data_dir, num_doc):\n",
    "    docs = []\n",
    "    for i in range(num_doc):\n",
    "        path = os.path.join(data_dir, \"%d.txt\" % i)\n",
    "        with open(path) as f:\n",
    "            docs.append(f.read())\n",
    "    return docs"
   ]
  },
  {
   "cell_type": "code",
   "execution_count": 238,
   "metadata": {},
   "outputs": [],
   "source": [
    "train_tags = parse_descriptions(\"cs5785-fall19-final/tags_train\", num_doc=10000)\n",
    "test_tags = parse_descriptions(\"cs5785-fall19-final/tags_test\", num_doc=2000)"
   ]
  },
  {
   "cell_type": "code",
   "execution_count": 262,
   "metadata": {},
   "outputs": [],
   "source": [
    "def parse_tags(tags):\n",
    "    result = []\n",
    "    for doc in tags:\n",
    "        doc = doc.strip('\\n').split('\\n')\n",
    "        cat_it = []\n",
    "        if doc[0] == '':\n",
    "            result.append('no tag')\n",
    "        else:\n",
    "            for tag in doc:\n",
    "                split_tag = tag.split(':')\n",
    "                cat_it.append(split_tag[0])\n",
    "                cat_it.append(split_tag[1])\n",
    "            parsed = (' ').join(list(cat_it))\n",
    "            result.append(parsed)\n",
    "    return np.array(result)"
   ]
  },
  {
   "cell_type": "code",
   "execution_count": 263,
   "metadata": {},
   "outputs": [],
   "source": [
    "train_tags_parsed = parse_tags(train_tags)\n",
    "test_tags_parsed = parse_tags(test_tags)"
   ]
  },
  {
   "cell_type": "code",
   "execution_count": 226,
   "metadata": {},
   "outputs": [],
   "source": [
    "train_descs = parse_descriptions('cs5785-fall19-final/descriptions_train', 10000)\n",
    "test_descs  = parse_descriptions('cs5785-fall19-final/descriptions_test', 2000)\n",
    "train_descs = preprocessing(train_descs)\n",
    "test_descs  = preprocessing(test_descs)"
   ]
  },
  {
   "cell_type": "markdown",
   "metadata": {},
   "source": [
    "#### Create the Bag of Words"
   ]
  },
  {
   "cell_type": "code",
   "execution_count": null,
   "metadata": {},
   "outputs": [],
   "source": [
    "import gensim\n",
    "word2vec = gensim.models.KeyedVectors.load_word2vec_format(\"GoogleNews-vectors-negative300.bin.gz\", binary=True)"
   ]
  },
  {
   "cell_type": "code",
   "execution_count": 335,
   "metadata": {},
   "outputs": [],
   "source": [
    "x_train = np.array([doc_to_vec(train_descs[i], word2vec) for i in range(len(train_descs))])\n",
    "x_test = np.array([doc_to_vec(d, word2vec) for d in test_descs])"
   ]
  },
  {
   "cell_type": "markdown",
   "metadata": {},
   "source": [
    "#### Get Image Feature Vectors"
   ]
  },
  {
   "cell_type": "code",
   "execution_count": 229,
   "metadata": {},
   "outputs": [],
   "source": [
    "train_feat = pd.read_csv(\"cs5785-fall19-final/features_train/features_resnet1000_train.csv\", header = None, index_col=None)\n",
    "test_feat = pd.read_csv(\"cs5785-fall19-final/features_test/features_resnet1000_test.csv\", header = None, index_col=None)"
   ]
  },
  {
   "cell_type": "code",
   "execution_count": 230,
   "metadata": {},
   "outputs": [
    {
     "name": "stderr",
     "output_type": "stream",
     "text": [
      "C:\\Users\\simir\\Anaconda3\\lib\\site-packages\\ipykernel_launcher.py:2: SettingWithCopyWarning: \n",
      "A value is trying to be set on a copy of a slice from a DataFrame\n",
      "\n",
      "See the caveats in the documentation: http://pandas.pydata.org/pandas-docs/stable/user_guide/indexing.html#returning-a-view-versus-a-copy\n",
      "  \n",
      "C:\\Users\\simir\\Anaconda3\\lib\\site-packages\\ipykernel_launcher.py:7: SettingWithCopyWarning: \n",
      "A value is trying to be set on a copy of a slice from a DataFrame\n",
      "\n",
      "See the caveats in the documentation: http://pandas.pydata.org/pandas-docs/stable/user_guide/indexing.html#returning-a-view-versus-a-copy\n",
      "  import sys\n"
     ]
    }
   ],
   "source": [
    "for i in range(len(train_feat[0])):\n",
    "    train_feat[0][i] = int(train_feat[0][i].replace(\"images_train/\", \"\").replace(\".jpg\", \"\"))\n",
    "\n",
    "train_feat_sort = train_feat.sort_values(by=0)\n",
    "\n",
    "for i in range(len(test_feat[0])):\n",
    "    test_feat[0][i] = int(test_feat[0][i].replace(\"images_test/\", \"\").replace(\".jpg\", \"\"))\n",
    "\n",
    "test_feat_sort = test_feat.sort_values(by=0)"
   ]
  },
  {
   "cell_type": "code",
   "execution_count": 231,
   "metadata": {},
   "outputs": [],
   "source": [
    "y_train = train_feat_sort.drop(columns=0).to_numpy()\n",
    "y_test = test_feat_sort.drop(columns=0).to_numpy()"
   ]
  },
  {
   "cell_type": "markdown",
   "metadata": {},
   "source": [
    "#### Create A Train/Test Split"
   ]
  },
  {
   "cell_type": "code",
   "execution_count": 312,
   "metadata": {},
   "outputs": [],
   "source": [
    "import random\n",
    "num_train = 8000\n",
    "num_dev = 2000\n",
    "num_test = 2000\n",
    "split = list(range(num_train + num_dev))\n",
    "random.shuffle(split)"
   ]
  },
  {
   "cell_type": "code",
   "execution_count": 339,
   "metadata": {},
   "outputs": [],
   "source": [
    "x_train_dev = x_train[split[:num_train]]\n",
    "y_train_dev = y_train[split[:num_train]]\n",
    "x_test_dev = x_train[split[num_train:]]\n",
    "y_test_dev = y_train[split[num_train:]]\n",
    "\n",
    "train_tags_dev = train_tags_parsed[split[:num_train]]\n",
    "test_tags_dev = train_tags_parsed[split[num_train:]]"
   ]
  },
  {
   "cell_type": "markdown",
   "metadata": {},
   "source": [
    "#### For Later when we need the tags of the whole train and test set"
   ]
  },
  {
   "cell_type": "code",
   "execution_count": 336,
   "metadata": {},
   "outputs": [],
   "source": [
    "tag_train = np.array([doc_to_vec(d, word2vec) for d in train_tags_parsed])\n",
    "tag_test = np.array([doc_to_vec(d, word2vec) for d in test_tags_parsed])"
   ]
  },
  {
   "cell_type": "markdown",
   "metadata": {},
   "source": [
    "#### For Development Right Now when we need the smaller train and test set to check accuracy"
   ]
  },
  {
   "cell_type": "code",
   "execution_count": 340,
   "metadata": {},
   "outputs": [],
   "source": [
    "train_tags_dev = np.array([tag_to_vec(d, word2vec) for d in train_tags_dev])\n",
    "test_tags_dev = np.array([tag_to_vec(d, word2vec) for d in test_tags_dev])"
   ]
  },
  {
   "cell_type": "markdown",
   "metadata": {},
   "source": [
    "### Relate Descriptions and Tags with a Model --- SVM"
   ]
  },
  {
   "cell_type": "code",
   "execution_count": 343,
   "metadata": {},
   "outputs": [],
   "source": [
    "from sklearn.svm import SVR\n",
    "from sklearn.multioutput import MultiOutputRegressor\n",
    "supvm = MultiOutputRegressor(SVR(gamma = 'scale')).fit(x_train_dev, train_tags_dev)\n",
    "tag_preds = supvm.predict(x_test_dev)"
   ]
  },
  {
   "cell_type": "markdown",
   "metadata": {},
   "source": [
    "### Relate Image Features and Descriptions Model"
   ]
  },
  {
   "cell_type": "code",
   "execution_count": 346,
   "metadata": {},
   "outputs": [],
   "source": [
    "from sklearn.neural_network import MLPRegressor\n",
    "\n",
    "clf = MLPRegressor(solver='sgd', alpha=1e-5, hidden_layer_sizes=(300,), random_state=1, max_iter = 1000)\n",
    "clf.fit(x_train_dev, y_train_dev)\n",
    "image_preds = clf.predict(x_test_dev)"
   ]
  },
  {
   "cell_type": "markdown",
   "metadata": {},
   "source": [
    "### Add Some Additional Models??? Perhaps Use the Other Feature Vectors We Have?"
   ]
  },
  {
   "cell_type": "code",
   "execution_count": null,
   "metadata": {},
   "outputs": [],
   "source": []
  },
  {
   "cell_type": "markdown",
   "metadata": {},
   "source": [
    "### Combine the Models"
   ]
  },
  {
   "cell_type": "markdown",
   "metadata": {},
   "source": [
    "#### Try Averaging"
   ]
  },
  {
   "cell_type": "code",
   "execution_count": 355,
   "metadata": {},
   "outputs": [
    {
     "ename": "ValueError",
     "evalue": "could not broadcast input array from shape (2000,300) into shape (2000)",
     "output_type": "error",
     "traceback": [
      "\u001b[1;31m---------------------------------------------------------------------------\u001b[0m",
      "\u001b[1;31mValueError\u001b[0m                                Traceback (most recent call last)",
      "\u001b[1;32m<ipython-input-355-c77c86c1b2d1>\u001b[0m in \u001b[0;36m<module>\u001b[1;34m\u001b[0m\n\u001b[1;32m----> 1\u001b[1;33m \u001b[0mpredictions1\u001b[0m \u001b[1;33m=\u001b[0m \u001b[0mnp\u001b[0m\u001b[1;33m.\u001b[0m\u001b[0mmean\u001b[0m\u001b[1;33m(\u001b[0m\u001b[0mnp\u001b[0m\u001b[1;33m.\u001b[0m\u001b[0marray\u001b[0m\u001b[1;33m(\u001b[0m\u001b[1;33m[\u001b[0m\u001b[0mtag_preds\u001b[0m\u001b[1;33m,\u001b[0m \u001b[0mimage_preds\u001b[0m\u001b[1;33m]\u001b[0m\u001b[1;33m)\u001b[0m\u001b[1;33m,\u001b[0m \u001b[0maxis\u001b[0m \u001b[1;33m=\u001b[0m \u001b[1;36m0\u001b[0m\u001b[1;33m)\u001b[0m\u001b[1;33m\u001b[0m\u001b[1;33m\u001b[0m\u001b[0m\n\u001b[0m",
      "\u001b[1;31mValueError\u001b[0m: could not broadcast input array from shape (2000,300) into shape (2000)"
     ]
    }
   ],
   "source": [
    "predictions1 = np.mean(np.array([tag_preds, image_preds]), axis = 0)"
   ]
  },
  {
   "cell_type": "markdown",
   "metadata": {},
   "source": [
    "#### Try Evaluating the Nearest Neighbors and Take A New Ranking Based on Both"
   ]
  },
  {
   "cell_type": "code",
   "execution_count": 365,
   "metadata": {},
   "outputs": [],
   "source": [
    "# function to return the number of nearest neighbors specified\n",
    "def knn_function(data, point, neighbors_number):\n",
    "    knn = NearestNeighbors(n_neighbors=neighbors_number)\n",
    "    knn.fit(data)\n",
    "    return knn.kneighbors(point, neighbors_number, return_distance=False)"
   ]
  },
  {
   "cell_type": "code",
   "execution_count": 366,
   "metadata": {},
   "outputs": [],
   "source": [
    "tag_neighbors = knn_function(test_tags_dev, tag_preds, 50)\n",
    "image_neighbors = knn_function(y_test_dev, image_preds, 50)"
   ]
  },
  {
   "cell_type": "code",
   "execution_count": 381,
   "metadata": {},
   "outputs": [],
   "source": [
    "neighbors1 = []\n",
    "for i in range(len(tag_neighbors)):\n",
    "    neighbors1.append(np.array(list(set(tag_neighbors[i]) & set(image_neighbors[i]))[:20]))"
   ]
  },
  {
   "cell_type": "code",
   "execution_count": 382,
   "metadata": {},
   "outputs": [],
   "source": [
    "neighbors1 = np.array(neighbors1)"
   ]
  },
  {
   "cell_type": "code",
   "execution_count": 384,
   "metadata": {},
   "outputs": [],
   "source": [
    "def scores(i):\n",
    "    return (20+1-(i+1))/20"
   ]
  },
  {
   "cell_type": "code",
   "execution_count": 391,
   "metadata": {},
   "outputs": [],
   "source": [
    "def eval_accuracy(ytest, neighbors):\n",
    "    # EVALUATE THE MODEL USING THE MEAN AVERAGE PRECISION AT 20\n",
    "    scs = []\n",
    "    for i in range(len(neighbors)):\n",
    "        good = False\n",
    "        for j, n in enumerate(neighbors[i]):\n",
    "            if i == n:\n",
    "                scs.append(scores(j))\n",
    "                good = True\n",
    "                break\n",
    "        if good == False:\n",
    "            scs.append(0)\n",
    "    return sum(scs)/len(neighbors)"
   ]
  },
  {
   "cell_type": "code",
   "execution_count": 397,
   "metadata": {},
   "outputs": [
    {
     "name": "stdout",
     "output_type": "stream",
     "text": [
      "accuracy of svm tags 0.161825\n"
     ]
    }
   ],
   "source": [
    "print('accuracy of svm tags', eval_accuracy(y_test_dev, tag_neighbors))"
   ]
  },
  {
   "cell_type": "code",
   "execution_count": 395,
   "metadata": {},
   "outputs": [
    {
     "name": "stdout",
     "output_type": "stream",
     "text": [
      "accuracy of image features 0.2572\n"
     ]
    }
   ],
   "source": [
    "print('accuracy of image features', eval_accuracy(y_test_dev, image_neighbors))"
   ]
  },
  {
   "cell_type": "code",
   "execution_count": 396,
   "metadata": {},
   "outputs": [
    {
     "name": "stdout",
     "output_type": "stream",
     "text": [
      "accuracy of svm tags combined with image features 0.323625\n"
     ]
    }
   ],
   "source": [
    "print('accuracy of svm tags combined with image features', eval_accuracy(y_test_dev, neighbors1))"
   ]
  }
 ],
 "metadata": {
  "kernelspec": {
   "display_name": "Python 3",
   "language": "python",
   "name": "python3"
  },
  "language_info": {
   "codemirror_mode": {
    "name": "ipython",
    "version": 3
   },
   "file_extension": ".py",
   "mimetype": "text/x-python",
   "name": "python",
   "nbconvert_exporter": "python",
   "pygments_lexer": "ipython3",
   "version": "3.7.5"
  }
 },
 "nbformat": 4,
 "nbformat_minor": 4
}

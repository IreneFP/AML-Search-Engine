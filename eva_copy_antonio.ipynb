{
 "cells": [
  {
   "cell_type": "markdown",
   "metadata": {},
   "source": [
    "# BOW + Models"
   ]
  },
  {
   "cell_type": "markdown",
   "metadata": {},
   "source": [
    "# Imports"
   ]
  },
  {
   "cell_type": "code",
   "execution_count": 1,
   "metadata": {},
   "outputs": [],
   "source": [
    "import numpy as np\n",
    "import matplotlib.pyplot as plt\n",
    "import pandas as pd\n",
    "from os import listdir\n",
    "import nltk\n",
    "from nltk.corpus import stopwords \n",
    "from nltk.tokenize import word_tokenize\n",
    "from nltk.stem import WordNetLemmatizer\n",
    "import string\n",
    "import csv\n",
    "import gensim\n",
    "from gensim.models import Word2Vec\n",
    "import sklearn.preprocessing\n",
    "from sklearn.model_selection import train_test_split\n",
    "from scipy.spatial.distance import cdist\n",
    "from sklearn.neural_network import MLPRegressor\n",
    "\n",
    "# import warnings filter\n",
    "from warnings import simplefilter\n",
    "# ignore all future warnings\n",
    "simplefilter(action='ignore', category=FutureWarning)\n",
    "simplefilter(action='ignore', category=DeprecationWarning)"
   ]
  },
  {
   "cell_type": "markdown",
   "metadata": {},
   "source": [
    "# Definitions and Data Load"
   ]
  },
  {
   "cell_type": "code",
   "execution_count": 14,
   "metadata": {},
   "outputs": [],
   "source": [
    "dataFolder = \"cs5785-fall19-final\"\n",
    "\n",
    "descTrainFolder = dataFolder + \"/descriptions_train\"\n",
    "descTestFolder = dataFolder + \"/descriptions_test\"\n",
    "\n",
    "featTrainFolder = dataFolder + \"/features_train\"\n",
    "featTestFolder = dataFolder + \"/features_test\"\n",
    "\n",
    "imagesTrainFolder = dataFolder + \"/images_train\"\n",
    "imagesTestFolder = dataFolder + \"/images_test\"\n",
    "\n",
    "tagsTrainFolder = dataFolder + \"/tags_train\"\n",
    "tagsTestFolder = dataFolder + \"/tags_test\"\n",
    "\n",
    "folders = [descTrainFolder,   descTestFolder,   featTrainFolder, featTestFolder, \n",
    "           imagesTrainFolder, imagesTestFolder, tagsTrainFolder, tagsTestFolder]\n",
    "\n",
    "word2vec = gensim.models.KeyedVectors.load_word2vec_format(\"../GoogleNews-vectors-negative300.bin.gz\", binary=True)"
   ]
  },
  {
   "cell_type": "code",
   "execution_count": 15,
   "metadata": {},
   "outputs": [],
   "source": [
    "def getFilesFromFolder(folder):\n",
    "    return listdir(folder)"
   ]
  },
  {
   "cell_type": "code",
   "execution_count": 16,
   "metadata": {},
   "outputs": [],
   "source": [
    "def dist_matrix(x1, x2):\n",
    "    return cdist(x1,x2,'cosine')"
   ]
  },
  {
   "cell_type": "code",
   "execution_count": 17,
   "metadata": {},
   "outputs": [],
   "source": [
    "# Formatting predictions for csv output\n",
    "def output_format(dm):\n",
    "    id_dists = []\n",
    "    for i, d in enumerate(dm):\n",
    "        temp_dists = [(j, d[j]) for j in range(len(d))]\n",
    "        id_dists.append(list(sorted(temp_dists, key= lambda x: abs(x[1])))[:20])\n",
    "    return [[\"{}.jpg\".format(id) for id, _ in row] for row in id_dists]"
   ]
  },
  {
   "cell_type": "code",
   "execution_count": 18,
   "metadata": {},
   "outputs": [],
   "source": [
    "def outputCSV(predictions):\n",
    "    with open(\"image_prediction.csv\", \"w\") as outputFile:\n",
    "        headers = [\"Description_ID\", \"Top_20_Image_IDs\"]\n",
    "        fileWriter = csv.DictWriter(outputFile, fieldnames=headers)\n",
    "        fileWriter.writeheader()\n",
    "        for index, pred in enumerate(predictions):\n",
    "            fileWriter.writerow({headers[0]: \"{}.txt\".format(index), headers[1]: ' '.join(predictions[index])})"
   ]
  },
  {
   "cell_type": "code",
   "execution_count": 19,
   "metadata": {},
   "outputs": [],
   "source": [
    "def get_acc_from_dm(dm):\n",
    "    val_scores = []\n",
    "    val_pos_list = []\n",
    "\n",
    "    for i in range(len(yval)):\n",
    "        pred_dist_idx = list(np.argsort(dm[i]))\n",
    "        val_pos = pred_dist_idx.index(i)\n",
    "        val_pos_list.append(val_pos)\n",
    "        if val_pos < 20:\n",
    "            val_scores.append(1 / (val_pos + 1))\n",
    "        else:\n",
    "            val_scores.append(0.0)\n",
    "\n",
    "    print(\"Development MAP@20:\", np.mean(val_scores))\n",
    "    print(\"Mean index of true image\", np.mean(val_pos_list))\n",
    "    print(\"Median index of true image\", np.median(val_pos_list))"
   ]
  },
  {
   "cell_type": "markdown",
   "metadata": {},
   "source": [
    "# Preprocess data"
   ]
  },
  {
   "cell_type": "code",
   "execution_count": 20,
   "metadata": {},
   "outputs": [],
   "source": [
    "# function to preprocess data\n",
    "def preprocessing(data):\n",
    "    stop_words = set(stopwords.words('english')) # find stop words in English language\n",
    "    lemmatizer = WordNetLemmatizer() # declare nltk lemmatizer\n",
    "\n",
    "    # iterate through every sentence and replace it by itself lemmatized, without punctuation and without stop words\n",
    "    for i in range(len(data)):\n",
    "        sentence_no_punct = ''\n",
    "        \n",
    "        # remove punctuation\n",
    "        for char in data[i]:\n",
    "            if char not in string.punctuation:\n",
    "                sentence_no_punct = sentence_no_punct + char\n",
    "        data[i] = sentence_no_punct\n",
    "\n",
    "        \"\"\"\n",
    "        Analyzing if words are upper/lower case is more for analyzing the intensity of the sentiment rather than classifying it. \n",
    "        \"\"\"\n",
    "        word_tokens = list(map(lambda r: r.lower(), word_tokenize(data[i])))\n",
    "        \n",
    "    \n",
    "        # remove stop words and lemmatize\n",
    "        word_tokens = [lemmatizer.lemmatize(word) for word in word_tokens if word not in stop_words and len(word) > 1]\n",
    "        word_tokens = [lemmatizer.lemmatize(word, 'v') for word in word_tokens]\n",
    "        word_tokens = [lemmatizer.lemmatize(word, 'a') for word in word_tokens]\n",
    "        \n",
    "        # remove conjunction words\n",
    "        word_tokens = [word for word in word_tokens if word[-2:] != 'nt']\n",
    "        data[i] = ' '.join(word_tokens)\n",
    "    \n",
    "    assert(len(data) == 1)\n",
    "    return \" \".join(set(data[0].split()))"
   ]
  },
  {
   "cell_type": "code",
   "execution_count": 24,
   "metadata": {},
   "outputs": [],
   "source": [
    "def get_flat_descriptions_from_folder(folder):\n",
    "    flat_descriptions = []\n",
    "    amtFiles = len(getFilesFromFolder(folder))\n",
    "    indexes = list(sorted([str(i) for i in range(amtFiles)], key= lambda x: int(x)))\n",
    "    \n",
    "    for index in indexes:\n",
    "        filename = folder + \"/{}.txt\".format(index)\n",
    "        with open(filename, 'r') as d_file:\n",
    "            flat_descriptions += [[' '.join(d_file.readlines()).replace(\"\\n\", \"\")]]\n",
    "            \n",
    "    return flat_descriptions"
   ]
  },
  {
   "cell_type": "code",
   "execution_count": 25,
   "metadata": {},
   "outputs": [],
   "source": [
    "# [  [ unprocessed description of image 1  ] , [ unprocessed description of image 2  ]   , ...  ]\n",
    "train_flat_descs = get_flat_descriptions_from_folder(descTrainFolder)\n",
    "test_flat_descs  = get_flat_descriptions_from_folder(descTestFolder)"
   ]
  },
  {
   "cell_type": "code",
   "execution_count": 26,
   "metadata": {},
   "outputs": [],
   "source": [
    "def unique_words_in_desc(desc):\n",
    "    return [preprocessing(d) for d in desc]"
   ]
  },
  {
   "cell_type": "code",
   "execution_count": 27,
   "metadata": {
    "scrolled": true
   },
   "outputs": [],
   "source": [
    "# [  { processed description of image 1  } , { processed description of image 2  }   , ...  ]\n",
    "train_descs = unique_words_in_desc(train_flat_descs)\n",
    "test_descs = unique_words_in_desc(test_flat_descs)"
   ]
  },
  {
   "cell_type": "markdown",
   "metadata": {},
   "source": [
    "## Bag of Words"
   ]
  },
  {
   "cell_type": "code",
   "execution_count": 28,
   "metadata": {},
   "outputs": [],
   "source": [
    "# CREATE THE BAG OF WORDS DICTIONARY\n",
    "def create_bow(train_descs):\n",
    "    BOW = {'null' : 0}\n",
    "    for description in train_descs:\n",
    "        sentence_lst = description.split(' ')\n",
    "        for word in sentence_lst:\n",
    "            BOW[word] = 0\n",
    "    return BOW\n",
    "\n",
    "def create_bow_vectors(data, BOW):\n",
    "    feature_vectors = []\n",
    "    for description in data:\n",
    "        feat_vec = BOW.copy()\n",
    "        sentence_lst = description.split(' ')\n",
    "        for word in sentence_lst:\n",
    "            if word in feat_vec:\n",
    "                feat_vec[word] += 1\n",
    "            else:\n",
    "                feat_vec['null'] += 1       \n",
    "        feature_vectors.append(feat_vec)\n",
    "\n",
    "    # TURN DICTIONARIES INTO A MATRIX with each row as one description\n",
    "    feature_vector_matrix = []\n",
    "    for feature_vec in feature_vectors:\n",
    "        feature_vector_matrix.append(list(feature_vec.values()))\n",
    "\n",
    "    # NORMALIZE THE FEATURES\n",
    "    feature_vector_matrix = sklearn.preprocessing.normalize(feature_vector_matrix) # default is L2 norm\n",
    "    return feature_vector_matrix"
   ]
  },
  {
   "cell_type": "code",
   "execution_count": 29,
   "metadata": {},
   "outputs": [],
   "source": [
    "BOW = create_bow(train_descs)"
   ]
  },
  {
   "cell_type": "code",
   "execution_count": 30,
   "metadata": {},
   "outputs": [],
   "source": [
    "train_bow = create_bow_vectors(train_descs, BOW)\n",
    "test_bow  = create_bow_vectors(test_descs, BOW)"
   ]
  },
  {
   "cell_type": "markdown",
   "metadata": {},
   "source": [
    "## Feature Extraction"
   ]
  },
  {
   "cell_type": "code",
   "execution_count": 32,
   "metadata": {},
   "outputs": [],
   "source": [
    "def get_file_num(filename):\n",
    "    return int(filename.replace(\".jpg\", \"\").replace(\"images_train/\", \"\").replace(\"images_test/\", \"\"))\n",
    "\n",
    "def get_feat_from_file(filename):\n",
    "    with open(filename, 'r') as f:\n",
    "        feats = list(csv.reader(f))\n",
    "    sorted_feats = list(sorted(feats, key= lambda l: get_file_num(l[0])))\n",
    "    \n",
    "    return sklearn.preprocessing.normalize([s[1:] for s in sorted_feats])"
   ]
  },
  {
   "cell_type": "code",
   "execution_count": 33,
   "metadata": {},
   "outputs": [],
   "source": [
    "resTrainFile = featTrainFolder + \"/features_resnet1000_train.csv\"\n",
    "train_feat = get_feat_from_file(resTrainFile)\n",
    "\n",
    "resTestFile = featTestFolder + \"/features_resnet1000_test.csv\"\n",
    "test_feat = get_feat_from_file(resTestFile)"
   ]
  },
  {
   "cell_type": "markdown",
   "metadata": {},
   "source": [
    "# PCA "
   ]
  },
  {
   "cell_type": "code",
   "execution_count": 34,
   "metadata": {},
   "outputs": [],
   "source": [
    "from sklearn.decomposition import PCA\n",
    "def _PCA(train_feat, n):\n",
    "    pca = PCA(n_components = n)\n",
    "    pca.fit(train_feat)\n",
    "    return pca"
   ]
  },
  {
   "cell_type": "code",
   "execution_count": 35,
   "metadata": {},
   "outputs": [],
   "source": [
    "pca = _PCA(train_feat, 0.96)\n",
    "train_feat_pca = pca.transform(train_feat)\n",
    "test_feat_pca  = pca.transform(test_feat)"
   ]
  },
  {
   "cell_type": "code",
   "execution_count": 36,
   "metadata": {},
   "outputs": [
    {
     "data": {
      "text/plain": [
       "121"
      ]
     },
     "execution_count": 36,
     "metadata": {},
     "output_type": "execute_result"
    }
   ],
   "source": [
    "pca.n_components_"
   ]
  },
  {
   "cell_type": "markdown",
   "metadata": {},
   "source": [
    "# Predicion Models"
   ]
  },
  {
   "cell_type": "markdown",
   "metadata": {},
   "source": [
    "## Kernel Ridge Regression"
   ]
  },
  {
   "cell_type": "code",
   "execution_count": 37,
   "metadata": {},
   "outputs": [],
   "source": [
    "from sklearn.kernel_ridge import KernelRidge\n",
    "def kernel_ridge(xtrain, ytrain):\n",
    "    kr = KernelRidge()\n",
    "#     kr.fit(train_bow, train_feat_pca)\n",
    "    kr.fit(xtrain, ytrain)\n",
    "    return kr"
   ]
  },
  {
   "cell_type": "markdown",
   "metadata": {},
   "source": [
    "### Uncomment when using actual test data"
   ]
  },
  {
   "cell_type": "code",
   "execution_count": 38,
   "metadata": {},
   "outputs": [],
   "source": [
    "# kr = kernel_ridge(train_bow, train_feat_pca)\n",
    "# preds = kr.predict(test_bow)\n",
    "# dm = dist_matrix(preds, test_feat_pca)\n",
    "# top_images = output_format(dm)\n",
    "# outputCSV(top_images)"
   ]
  },
  {
   "cell_type": "markdown",
   "metadata": {},
   "source": [
    "## Multi Layer Perception (MLP)"
   ]
  },
  {
   "cell_type": "code",
   "execution_count": 39,
   "metadata": {},
   "outputs": [],
   "source": [
    "def MLP(xtrain, ytrain):\n",
    "    mlp = MLPRegressor(solver='adam', alpha=1e-5, hidden_layer_sizes=(200,), random_state=1, max_iter = 1000)\n",
    "    mlp.fit(xtrain, ytrain)\n",
    "    return mlp"
   ]
  },
  {
   "cell_type": "markdown",
   "metadata": {},
   "source": [
    "### Uncomment when using actual test data"
   ]
  },
  {
   "cell_type": "code",
   "execution_count": null,
   "metadata": {},
   "outputs": [],
   "source": [
    "# mlp = MLP(train_bow, train_feat_pca)\n",
    "# preds = mlp.predict(test_bow)\n",
    "# dm = dist_matrix(preds, test_feat_pca)\n",
    "# top_images = output_format(dm)\n",
    "# outputCSV(top_images)"
   ]
  },
  {
   "cell_type": "markdown",
   "metadata": {},
   "source": [
    "# Train Test Split"
   ]
  },
  {
   "cell_type": "code",
   "execution_count": 40,
   "metadata": {},
   "outputs": [],
   "source": [
    "pca = _PCA(train_feat, 0.96)\n",
    "train_feat_pca = pca.transform(train_feat)\n",
    "test_feat_pca  = pca.transform(test_feat)"
   ]
  },
  {
   "cell_type": "code",
   "execution_count": 313,
   "metadata": {},
   "outputs": [],
   "source": [
    "xtrain, xval, ytrain, yval = train_test_split(train_bow, train_feat_pca)"
   ]
  },
  {
   "cell_type": "markdown",
   "metadata": {},
   "source": [
    "## Testing Kernel Ridge"
   ]
  },
  {
   "cell_type": "code",
   "execution_count": 288,
   "metadata": {},
   "outputs": [
    {
     "name": "stdout",
     "output_type": "stream",
     "text": [
      "Development MAP@20: 0.21858927504384165\n",
      "Mean index of true image 53.2132\n",
      "Median index of true image 13.0\n"
     ]
    }
   ],
   "source": [
    "kr2 = kernel_ridge(xtrain, ytrain)\n",
    "yval_pred = kr2.predict(xval)\n",
    "dm2 = dist_matrix(yval_pred, yval)\n",
    "get_acc_from_dm(dm2)"
   ]
  },
  {
   "cell_type": "code",
   "execution_count": 289,
   "metadata": {},
   "outputs": [
    {
     "data": {
      "text/plain": [
       "'\\npca(0.97) - [20.8, 21]%\\npca(0.96) ~ 22%\\npca(0.95) - [20.3, 20.5]%\\npca(0.94) - [21.5, 21.6]%\\n'"
      ]
     },
     "execution_count": 289,
     "metadata": {},
     "output_type": "execute_result"
    }
   ],
   "source": [
    "''' Yeaaaaaaa\n",
    "pca(0.97) - [20.8, 21]%\n",
    "pca(0.96) ~ 22%\n",
    "pca(0.95) - [20.3, 20.5]%\n",
    "pca(0.94) - [21.5, 21.6]%\n",
    "'''"
   ]
  },
  {
   "cell_type": "markdown",
   "metadata": {},
   "source": [
    "## Testing MLP"
   ]
  },
  {
   "cell_type": "code",
   "execution_count": 314,
   "metadata": {},
   "outputs": [
    {
     "name": "stdout",
     "output_type": "stream",
     "text": [
      "Development MAP@20: 0.19158342680539275\n",
      "Mean index of true image 56.0416\n",
      "Median index of true image 14.0\n"
     ]
    }
   ],
   "source": [
    "mlp = MLP(xtrain, ytrain)\n",
    "yval_pred = mlp.predict(xval)\n",
    "dm2 = dist_matrix(yval_pred, yval)\n",
    "get_acc_from_dm(dm2)"
   ]
  },
  {
   "cell_type": "code",
   "execution_count": 291,
   "metadata": {},
   "outputs": [
    {
     "data": {
      "text/plain": [
       "'\\npca(0.97) - [17.0]%\\npca(0.96) ~ [17.8, 18.2]%\\n\\n'"
      ]
     },
     "execution_count": 291,
     "metadata": {},
     "output_type": "execute_result"
    }
   ],
   "source": [
    "''' Not convinvced\n",
    "pca(0.97) - [17.0]%, 100 layers\n",
    "pca(0.97) - [18.3]%, 200 layers\n",
    "pca(0.96) ~ [17.8, 18.2]%, 100 layers\n",
    "pca(0.96) - [19.1, 19.1]%, 200 layers\n",
    "\n",
    "'''"
   ]
  }
 ],
 "metadata": {
  "kernelspec": {
   "display_name": "Python 3",
   "language": "python",
   "name": "python3"
  },
  "language_info": {
   "codemirror_mode": {
    "name": "ipython",
    "version": 3
   },
   "file_extension": ".py",
   "mimetype": "text/x-python",
   "name": "python",
   "nbconvert_exporter": "python",
   "pygments_lexer": "ipython3",
   "version": "3.7.3"
  }
 },
 "nbformat": 4,
 "nbformat_minor": 4
}

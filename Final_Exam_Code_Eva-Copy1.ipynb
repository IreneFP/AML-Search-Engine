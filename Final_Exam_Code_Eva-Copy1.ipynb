{
 "cells": [
  {
   "cell_type": "markdown",
   "metadata": {},
   "source": [
    "https://www.kaggle.com/c/cs5785-fall19-final/"
   ]
  },
  {
   "cell_type": "markdown",
   "metadata": {},
   "source": [
    "# Create an Ensemble Model"
   ]
  },
  {
   "cell_type": "markdown",
   "metadata": {},
   "source": [
    "#### Get the Descriptions and Tags from File"
   ]
  },
  {
   "cell_type": "code",
   "execution_count": 9,
   "metadata": {},
   "outputs": [],
   "source": [
    "import os\n",
    "import numpy as np\n",
    "import gensim\n",
    "from nltk.corpus import stopwords \n",
    "from nltk.tokenize import word_tokenize\n",
    "from nltk.stem import WordNetLemmatizer\n",
    "import string\n",
    "import pandas as pd\n",
    "from sklearn.neighbors import NearestNeighbors\n",
    "from sklearn import preprocessing"
   ]
  },
  {
   "cell_type": "code",
   "execution_count": 10,
   "metadata": {},
   "outputs": [],
   "source": [
    "def parse_descriptions(data_dir, num_doc):\n",
    "    docs = []\n",
    "    for i in range(num_doc):\n",
    "        path = os.path.join(data_dir, \"%d.txt\" % i)\n",
    "        with open(path) as f:\n",
    "            docs.append(f.read())\n",
    "    return docs"
   ]
  },
  {
   "cell_type": "code",
   "execution_count": 11,
   "metadata": {},
   "outputs": [],
   "source": [
    "train_tags = parse_descriptions(\"cs5785-fall19-final/tags_train\", num_doc=10000)\n",
    "test_tags = parse_descriptions(\"cs5785-fall19-final/tags_test\", num_doc=2000)"
   ]
  },
  {
   "cell_type": "code",
   "execution_count": 12,
   "metadata": {},
   "outputs": [],
   "source": [
    "def parse_tags(tags):\n",
    "    result = []\n",
    "    for doc in tags:\n",
    "        doc = doc.strip('\\n').split('\\n')\n",
    "        cat_it = []\n",
    "        if doc[0] == '':\n",
    "            result.append('no tag')\n",
    "        else:\n",
    "            for tag in doc:\n",
    "                split_tag = tag.split(':')\n",
    "                cat_it.append(split_tag[0])\n",
    "                cat_it.append(split_tag[1])\n",
    "            parsed = (' ').join(list(cat_it))\n",
    "            result.append(parsed)\n",
    "    return np.array(result)"
   ]
  },
  {
   "cell_type": "code",
   "execution_count": 13,
   "metadata": {},
   "outputs": [],
   "source": [
    "train_tags_parsed = parse_tags(train_tags)\n",
    "test_tags_parsed = parse_tags(test_tags)"
   ]
  },
  {
   "cell_type": "code",
   "execution_count": 14,
   "metadata": {},
   "outputs": [],
   "source": [
    "# function to preprocess data\n",
    "def preprocessing(data):\n",
    "    stop_words = set(stopwords.words('english')) # find stop words in English language\n",
    "    lemmatizer = WordNetLemmatizer() # declare nltk lemmatizer\n",
    "\n",
    "    # iterate through every sentence and replace it by itself lemmatized, without punctuation and without stop words\n",
    "    for i in range(len(data)):\n",
    "        sentence_no_punct = ''\n",
    "        # remove punctuation\n",
    "        \n",
    "        for char in data[i]:\n",
    "            if char not in string.punctuation:\n",
    "                sentence_no_punct = sentence_no_punct + char\n",
    "        data[i] = sentence_no_punct\n",
    "\n",
    "        word_tokens = word_tokenize(data[i])\n",
    "    \n",
    "        # remove stop words and lemmatize\n",
    "        word_tokens = [lemmatizer.lemmatize(word) for word in word_tokens if word not in stop_words and len(word) > 1]\n",
    "        word_tokens = [lemmatizer.lemmatize(word, 'v') for word in word_tokens]\n",
    "        word_tokens = [lemmatizer.lemmatize(word, 'a') for word in word_tokens]\n",
    "        \n",
    "        # remove conjunction words\n",
    "        word_tokens = [word for word in word_tokens if word[-2:] != 'nt']\n",
    "        (data[i]) = ' '.join(word_tokens)\n",
    "        \n",
    "    return data"
   ]
  },
  {
   "cell_type": "code",
   "execution_count": 15,
   "metadata": {},
   "outputs": [],
   "source": [
    "train_descs = parse_descriptions('cs5785-fall19-final/descriptions_train', 10000)\n",
    "test_descs  = parse_descriptions('cs5785-fall19-final/descriptions_test', 2000)\n",
    "train_descs = preprocessing(train_descs)\n",
    "test_descs  = preprocessing(test_descs)"
   ]
  },
  {
   "cell_type": "markdown",
   "metadata": {},
   "source": [
    "#### Create the Bag of Words"
   ]
  },
  {
   "cell_type": "code",
   "execution_count": 16,
   "metadata": {},
   "outputs": [
    {
     "ename": "MemoryError",
     "evalue": "",
     "output_type": "error",
     "traceback": [
      "\u001b[1;31m---------------------------------------------------------------------------\u001b[0m",
      "\u001b[1;31mMemoryError\u001b[0m                               Traceback (most recent call last)",
      "\u001b[1;32m<ipython-input-16-af85c323b672>\u001b[0m in \u001b[0;36m<module>\u001b[1;34m\u001b[0m\n\u001b[1;32m----> 1\u001b[1;33m \u001b[0mword2vec\u001b[0m \u001b[1;33m=\u001b[0m \u001b[0mgensim\u001b[0m\u001b[1;33m.\u001b[0m\u001b[0mmodels\u001b[0m\u001b[1;33m.\u001b[0m\u001b[0mKeyedVectors\u001b[0m\u001b[1;33m.\u001b[0m\u001b[0mload_word2vec_format\u001b[0m\u001b[1;33m(\u001b[0m\u001b[1;34m\"../GoogleNews-vectors-negative300.bin.gz\"\u001b[0m\u001b[1;33m,\u001b[0m \u001b[0mbinary\u001b[0m\u001b[1;33m=\u001b[0m\u001b[1;32mTrue\u001b[0m\u001b[1;33m)\u001b[0m\u001b[1;33m\u001b[0m\u001b[1;33m\u001b[0m\u001b[0m\n\u001b[0m",
      "\u001b[1;32m~\\Anaconda3\\lib\\site-packages\\gensim\\models\\keyedvectors.py\u001b[0m in \u001b[0;36mload_word2vec_format\u001b[1;34m(cls, fname, fvocab, binary, encoding, unicode_errors, limit, datatype)\u001b[0m\n\u001b[0;32m   1496\u001b[0m         return _load_word2vec_format(\n\u001b[0;32m   1497\u001b[0m             \u001b[0mcls\u001b[0m\u001b[1;33m,\u001b[0m \u001b[0mfname\u001b[0m\u001b[1;33m,\u001b[0m \u001b[0mfvocab\u001b[0m\u001b[1;33m=\u001b[0m\u001b[0mfvocab\u001b[0m\u001b[1;33m,\u001b[0m \u001b[0mbinary\u001b[0m\u001b[1;33m=\u001b[0m\u001b[0mbinary\u001b[0m\u001b[1;33m,\u001b[0m \u001b[0mencoding\u001b[0m\u001b[1;33m=\u001b[0m\u001b[0mencoding\u001b[0m\u001b[1;33m,\u001b[0m \u001b[0municode_errors\u001b[0m\u001b[1;33m=\u001b[0m\u001b[0municode_errors\u001b[0m\u001b[1;33m,\u001b[0m\u001b[1;33m\u001b[0m\u001b[1;33m\u001b[0m\u001b[0m\n\u001b[1;32m-> 1498\u001b[1;33m             limit=limit, datatype=datatype)\n\u001b[0m\u001b[0;32m   1499\u001b[0m \u001b[1;33m\u001b[0m\u001b[0m\n\u001b[0;32m   1500\u001b[0m     \u001b[1;32mdef\u001b[0m \u001b[0mget_keras_embedding\u001b[0m\u001b[1;33m(\u001b[0m\u001b[0mself\u001b[0m\u001b[1;33m,\u001b[0m \u001b[0mtrain_embeddings\u001b[0m\u001b[1;33m=\u001b[0m\u001b[1;32mFalse\u001b[0m\u001b[1;33m)\u001b[0m\u001b[1;33m:\u001b[0m\u001b[1;33m\u001b[0m\u001b[1;33m\u001b[0m\u001b[0m\n",
      "\u001b[1;32m~\\Anaconda3\\lib\\site-packages\\gensim\\models\\utils_any2vec.py\u001b[0m in \u001b[0;36m_load_word2vec_format\u001b[1;34m(cls, fname, fvocab, binary, encoding, unicode_errors, limit, datatype)\u001b[0m\n\u001b[0;32m    347\u001b[0m         \u001b[0mresult\u001b[0m \u001b[1;33m=\u001b[0m \u001b[0mcls\u001b[0m\u001b[1;33m(\u001b[0m\u001b[0mvector_size\u001b[0m\u001b[1;33m)\u001b[0m\u001b[1;33m\u001b[0m\u001b[1;33m\u001b[0m\u001b[0m\n\u001b[0;32m    348\u001b[0m         \u001b[0mresult\u001b[0m\u001b[1;33m.\u001b[0m\u001b[0mvector_size\u001b[0m \u001b[1;33m=\u001b[0m \u001b[0mvector_size\u001b[0m\u001b[1;33m\u001b[0m\u001b[1;33m\u001b[0m\u001b[0m\n\u001b[1;32m--> 349\u001b[1;33m         \u001b[0mresult\u001b[0m\u001b[1;33m.\u001b[0m\u001b[0mvectors\u001b[0m \u001b[1;33m=\u001b[0m \u001b[0mzeros\u001b[0m\u001b[1;33m(\u001b[0m\u001b[1;33m(\u001b[0m\u001b[0mvocab_size\u001b[0m\u001b[1;33m,\u001b[0m \u001b[0mvector_size\u001b[0m\u001b[1;33m)\u001b[0m\u001b[1;33m,\u001b[0m \u001b[0mdtype\u001b[0m\u001b[1;33m=\u001b[0m\u001b[0mdatatype\u001b[0m\u001b[1;33m)\u001b[0m\u001b[1;33m\u001b[0m\u001b[1;33m\u001b[0m\u001b[0m\n\u001b[0m\u001b[0;32m    350\u001b[0m \u001b[1;33m\u001b[0m\u001b[0m\n\u001b[0;32m    351\u001b[0m         \u001b[1;32mdef\u001b[0m \u001b[0madd_word\u001b[0m\u001b[1;33m(\u001b[0m\u001b[0mword\u001b[0m\u001b[1;33m,\u001b[0m \u001b[0mweights\u001b[0m\u001b[1;33m)\u001b[0m\u001b[1;33m:\u001b[0m\u001b[1;33m\u001b[0m\u001b[1;33m\u001b[0m\u001b[0m\n",
      "\u001b[1;31mMemoryError\u001b[0m: "
     ]
    }
   ],
   "source": [
    "word2vec = gensim.models.KeyedVectors.load_word2vec_format(\"../GoogleNews-vectors-negative300.bin.gz\", binary=True)"
   ]
  },
  {
   "cell_type": "code",
   "execution_count": null,
   "metadata": {},
   "outputs": [],
   "source": [
    "def doc_to_vec(sentence, word2vec):\n",
    "    # get list of word vectors in sentence\n",
    "    word_vecs = [word2vec.get_vector(w) for w in sentence.split() if w in word2vec.vocab]\n",
    "    # return average\n",
    "    return np.stack(word_vecs).mean(0)"
   ]
  },
  {
   "cell_type": "code",
   "execution_count": null,
   "metadata": {},
   "outputs": [],
   "source": [
    "x_train = np.array([doc_to_vec(train_descs[i], word2vec) for i in range(len(train_descs))])\n",
    "x_test = np.array([doc_to_vec(d, word2vec) for d in test_descs])"
   ]
  },
  {
   "cell_type": "markdown",
   "metadata": {},
   "source": [
    "#### Get Image Feature Vectors"
   ]
  },
  {
   "cell_type": "code",
   "execution_count": null,
   "metadata": {},
   "outputs": [],
   "source": [
    "train_feat_sort = pd.read_csv(\"sorted_train_features.csv\", header = None, index_col=None)\n",
    "test_feat_sort = pd.read_csv(\"sorted_test_features.csv\", header = None, index_col=None)\n",
    "\n",
    "train_feat_sort_norm = preprocessing.StandardScaler().fit_transform(train_feat_sort)\n",
    "test_feat_sort_norm = preprocessing.StandardScaler().fit_transform(test_feat_sort)\n",
    "\n",
    "#train_inter_feat = pd.read_csv(\"cs5785-fall19-final/features_train/features_resnet1000intermediate_train.csv\", header = None, index_col=None)\n",
    "#test_inter_feat = pd.read_csv(\"cs5785-fall19-final/features_test/features_resnet1000intermediate_test.csv\", header = None, index_col=None)"
   ]
  },
  {
   "cell_type": "code",
   "execution_count": 12,
   "metadata": {},
   "outputs": [],
   "source": [
    "#train_feat_2 = train_feat\n",
    "\n",
    "#for i in range(1000):\n",
    "    #train_feat[0][i] = train_feat[0][i].replace(\"images_train/\", \"\").replace(\".jpg\", \"\")\n",
    "    #train_feat[0][i] = temp\n",
    "\n",
    "#train_feat_sort = train_feat.sort_values(by=0)\n",
    "\n",
    "#for i in range(len(test_feat[0])):\n",
    " #   test_feat[0][i] = int(test_feat[0][i].replace(\"images_test/\", \"\").replace(\".jpg\", \"\"))\n",
    "\n",
    "#test_feat_sort = test_feat.sort_values(by=0)"
   ]
  },
  {
   "cell_type": "code",
   "execution_count": 13,
   "metadata": {},
   "outputs": [],
   "source": [
    "#train_feat_sort = train_feat.sort_values(by=0)"
   ]
  },
  {
   "cell_type": "code",
   "execution_count": 14,
   "metadata": {},
   "outputs": [],
   "source": [
    "#for i in range(len(test_feat[0])):\n",
    "  #  test_feat[0][i] = int(test_feat[0][i].replace(\"images_test/\", \"\").replace(\".jpg\", \"\"))"
   ]
  },
  {
   "cell_type": "code",
   "execution_count": 15,
   "metadata": {},
   "outputs": [],
   "source": [
    "#y_train = train_feat_sort.drop(columns=0).to_numpy()\n",
    "#y_test = test_feat_sort.drop(columns=0).to_numpy()"
   ]
  },
  {
   "cell_type": "code",
   "execution_count": 55,
   "metadata": {},
   "outputs": [],
   "source": [
    "y_train = train_feat_sort_norm\n",
    "#.to_numpy()\n",
    "y_test = test_feat_sort_norm\n",
    "#.to_numpy()\n",
    "#y_train_inter = train_inter_feat_sort.drop(columns=0).to_numpy()\n",
    "#y_test_inter = test_inter_feat_sort.drop(columns=0).to_numpy()"
   ]
  },
  {
   "cell_type": "markdown",
   "metadata": {},
   "source": [
    "#### Create A Train/Test Split"
   ]
  },
  {
   "cell_type": "code",
   "execution_count": 56,
   "metadata": {},
   "outputs": [],
   "source": [
    "import random\n",
    "num_train = 8000\n",
    "num_dev = 2000\n",
    "num_test = 2000\n",
    "split = list(range(num_train + num_dev))\n",
    "random.shuffle(split)"
   ]
  },
  {
   "cell_type": "code",
   "execution_count": 57,
   "metadata": {},
   "outputs": [],
   "source": [
    "x_train_dev = x_train[split[:num_train]]\n",
    "y_train_dev = y_train[split[:num_train]]\n",
    "x_test_dev = x_train[split[num_train:]]\n",
    "y_test_dev = y_train[split[num_train:]]\n",
    "\n",
    "train_tags_dev = train_tags_parsed[split[:num_train]]\n",
    "test_tags_dev = train_tags_parsed[split[num_train:]]"
   ]
  },
  {
   "cell_type": "markdown",
   "metadata": {},
   "source": [
    "#### For Later when we need the tags of the whole train and test set"
   ]
  },
  {
   "cell_type": "code",
   "execution_count": 58,
   "metadata": {},
   "outputs": [],
   "source": [
    "tag_train = np.array([doc_to_vec(d, word2vec) for d in train_tags_parsed])\n",
    "tag_test = np.array([doc_to_vec(d, word2vec) for d in test_tags_parsed])"
   ]
  },
  {
   "cell_type": "markdown",
   "metadata": {},
   "source": [
    "#### For Development Right Now when we need the smaller train and test set to check accuracy"
   ]
  },
  {
   "cell_type": "code",
   "execution_count": 59,
   "metadata": {},
   "outputs": [],
   "source": [
    "train_tags_dev = np.array([doc_to_vec(d, word2vec) for d in train_tags_dev])\n",
    "test_tags_dev = np.array([doc_to_vec(d, word2vec) for d in test_tags_dev])"
   ]
  },
  {
   "cell_type": "markdown",
   "metadata": {},
   "source": [
    "### Relate Descriptions and Tags with a Model --- SVM"
   ]
  },
  {
   "cell_type": "code",
   "execution_count": 60,
   "metadata": {},
   "outputs": [],
   "source": [
    "from sklearn.svm import SVR\n",
    "from sklearn.multioutput import MultiOutputRegressor\n",
    "supvm = MultiOutputRegressor(SVR(gamma = 'scale')).fit(x_train_dev, train_tags_dev)\n",
    "tag_preds = supvm.predict(x_test_dev)"
   ]
  },
  {
   "cell_type": "markdown",
   "metadata": {},
   "source": [
    "### Relate Image Features and Descriptions Model"
   ]
  },
  {
   "cell_type": "code",
   "execution_count": 61,
   "metadata": {},
   "outputs": [],
   "source": [
    "from sklearn.neural_network import MLPRegressor\n",
    "\n",
    "clf = MLPRegressor(solver='sgd', alpha=1e-5, hidden_layer_sizes=(300,), random_state=1, max_iter = 1000)\n",
    "clf.fit(x_train_dev, y_train_dev)\n",
    "image_preds = clf.predict(x_test_dev)"
   ]
  },
  {
   "cell_type": "markdown",
   "metadata": {},
   "source": [
    "### Lasso Regressor with Cross-Validation to relate descriptors and tags (maybe try instead of mlp too?)"
   ]
  },
  {
   "cell_type": "code",
   "execution_count": null,
   "metadata": {},
   "outputs": [
    {
     "name": "stderr",
     "output_type": "stream",
     "text": [
      "C:\\Users\\evatr\\Anaconda3\\lib\\site-packages\\sklearn\\linear_model\\coordinate_descent.py:475: ConvergenceWarning: Objective did not converge. You might want to increase the number of iterations. Duality gap: 8.71668529510498, tolerance: 0.007413450628519058\n",
      "  positive)\n",
      "C:\\Users\\evatr\\Anaconda3\\lib\\site-packages\\sklearn\\linear_model\\coordinate_descent.py:475: ConvergenceWarning: Objective did not converge. You might want to increase the number of iterations. Duality gap: 13.11668586730957, tolerance: 0.009150476194918156\n",
      "  positive)\n",
      "C:\\Users\\evatr\\Anaconda3\\lib\\site-packages\\sklearn\\linear_model\\coordinate_descent.py:475: ConvergenceWarning: Objective did not converge. You might want to increase the number of iterations. Duality gap: 6.8411030769348145, tolerance: 0.006710357498377562\n",
      "  positive)\n",
      "C:\\Users\\evatr\\Anaconda3\\lib\\site-packages\\sklearn\\linear_model\\coordinate_descent.py:475: ConvergenceWarning: Objective did not converge. You might want to increase the number of iterations. Duality gap: 8.686788558959961, tolerance: 0.006000122986733913\n",
      "  positive)\n",
      "C:\\Users\\evatr\\Anaconda3\\lib\\site-packages\\sklearn\\linear_model\\coordinate_descent.py:475: ConvergenceWarning: Objective did not converge. You might want to increase the number of iterations. Duality gap: 6.626230716705322, tolerance: 0.003895015688613057\n",
      "  positive)\n",
      "C:\\Users\\evatr\\Anaconda3\\lib\\site-packages\\sklearn\\linear_model\\coordinate_descent.py:475: ConvergenceWarning: Objective did not converge. You might want to increase the number of iterations. Duality gap: 8.31708812713623, tolerance: 0.005841809790581465\n",
      "  positive)\n",
      "C:\\Users\\evatr\\Anaconda3\\lib\\site-packages\\sklearn\\linear_model\\coordinate_descent.py:475: ConvergenceWarning: Objective did not converge. You might want to increase the number of iterations. Duality gap: 5.664555072784424, tolerance: 0.0045457822270691395\n",
      "  positive)\n",
      "C:\\Users\\evatr\\Anaconda3\\lib\\site-packages\\sklearn\\linear_model\\coordinate_descent.py:475: ConvergenceWarning: Objective did not converge. You might want to increase the number of iterations. Duality gap: 7.137216567993164, tolerance: 0.0036527656484395266\n",
      "  positive)\n",
      "C:\\Users\\evatr\\Anaconda3\\lib\\site-packages\\sklearn\\linear_model\\coordinate_descent.py:475: ConvergenceWarning: Objective did not converge. You might want to increase the number of iterations. Duality gap: 8.250618934631348, tolerance: 0.006710212677717209\n",
      "  positive)\n",
      "C:\\Users\\evatr\\Anaconda3\\lib\\site-packages\\sklearn\\linear_model\\coordinate_descent.py:475: ConvergenceWarning: Objective did not converge. You might want to increase the number of iterations. Duality gap: 10.472457885742188, tolerance: 0.008919143117964268\n",
      "  positive)\n",
      "C:\\Users\\evatr\\Anaconda3\\lib\\site-packages\\sklearn\\linear_model\\coordinate_descent.py:475: ConvergenceWarning: Objective did not converge. You might want to increase the number of iterations. Duality gap: 6.913632869720459, tolerance: 0.005067841149866581\n",
      "  positive)\n",
      "C:\\Users\\evatr\\Anaconda3\\lib\\site-packages\\sklearn\\linear_model\\coordinate_descent.py:475: ConvergenceWarning: Objective did not converge. You might want to increase the number of iterations. Duality gap: 8.185513496398926, tolerance: 0.007071471773087978\n",
      "  positive)\n",
      "C:\\Users\\evatr\\Anaconda3\\lib\\site-packages\\sklearn\\linear_model\\coordinate_descent.py:475: ConvergenceWarning: Objective did not converge. You might want to increase the number of iterations. Duality gap: 4.946092128753662, tolerance: 0.0038430572021752596\n",
      "  positive)\n",
      "C:\\Users\\evatr\\Anaconda3\\lib\\site-packages\\sklearn\\linear_model\\coordinate_descent.py:475: ConvergenceWarning: Objective did not converge. You might want to increase the number of iterations. Duality gap: 5.889435768127441, tolerance: 0.004144592210650444\n",
      "  positive)\n",
      "C:\\Users\\evatr\\Anaconda3\\lib\\site-packages\\sklearn\\linear_model\\coordinate_descent.py:475: ConvergenceWarning: Objective did not converge. You might want to increase the number of iterations. Duality gap: 8.092507362365723, tolerance: 0.00610861973837018\n",
      "  positive)\n",
      "C:\\Users\\evatr\\Anaconda3\\lib\\site-packages\\sklearn\\linear_model\\coordinate_descent.py:475: ConvergenceWarning: Objective did not converge. You might want to increase the number of iterations. Duality gap: 8.367416381835938, tolerance: 0.005636671092361212\n",
      "  positive)\n",
      "C:\\Users\\evatr\\Anaconda3\\lib\\site-packages\\sklearn\\linear_model\\coordinate_descent.py:475: ConvergenceWarning: Objective did not converge. You might want to increase the number of iterations. Duality gap: 8.541261672973633, tolerance: 0.0058868951164186\n",
      "  positive)\n",
      "C:\\Users\\evatr\\Anaconda3\\lib\\site-packages\\sklearn\\linear_model\\coordinate_descent.py:475: ConvergenceWarning: Objective did not converge. You might want to increase the number of iterations. Duality gap: 4.550235748291016, tolerance: 0.0035683985333889723\n",
      "  positive)\n",
      "C:\\Users\\evatr\\Anaconda3\\lib\\site-packages\\sklearn\\linear_model\\coordinate_descent.py:475: ConvergenceWarning: Objective did not converge. You might want to increase the number of iterations. Duality gap: 7.696985244750977, tolerance: 0.00591023126617074\n",
      "  positive)\n",
      "C:\\Users\\evatr\\Anaconda3\\lib\\site-packages\\sklearn\\linear_model\\coordinate_descent.py:475: ConvergenceWarning: Objective did not converge. You might want to increase the number of iterations. Duality gap: 5.889089584350586, tolerance: 0.003382741939276457\n",
      "  positive)\n",
      "C:\\Users\\evatr\\Anaconda3\\lib\\site-packages\\sklearn\\linear_model\\coordinate_descent.py:475: ConvergenceWarning: Objective did not converge. You might want to increase the number of iterations. Duality gap: 5.780242443084717, tolerance: 0.0034466322977095842\n",
      "  positive)\n",
      "C:\\Users\\evatr\\Anaconda3\\lib\\site-packages\\sklearn\\linear_model\\coordinate_descent.py:475: ConvergenceWarning: Objective did not converge. You might want to increase the number of iterations. Duality gap: 11.564568519592285, tolerance: 0.007651896681636572\n",
      "  positive)\n",
      "C:\\Users\\evatr\\Anaconda3\\lib\\site-packages\\sklearn\\linear_model\\coordinate_descent.py:475: ConvergenceWarning: Objective did not converge. You might want to increase the number of iterations. Duality gap: 9.059784889221191, tolerance: 0.007043904159218073\n",
      "  positive)\n",
      "C:\\Users\\evatr\\Anaconda3\\lib\\site-packages\\sklearn\\linear_model\\coordinate_descent.py:475: ConvergenceWarning: Objective did not converge. You might want to increase the number of iterations. Duality gap: 8.45944595336914, tolerance: 0.004526544827967882\n",
      "  positive)\n",
      "C:\\Users\\evatr\\Anaconda3\\lib\\site-packages\\sklearn\\linear_model\\coordinate_descent.py:475: ConvergenceWarning: Objective did not converge. You might want to increase the number of iterations. Duality gap: 6.051197528839111, tolerance: 0.003516194876283407\n",
      "  positive)\n",
      "C:\\Users\\evatr\\Anaconda3\\lib\\site-packages\\sklearn\\linear_model\\coordinate_descent.py:475: ConvergenceWarning: Objective did not converge. You might want to increase the number of iterations. Duality gap: 4.467395305633545, tolerance: 0.002896965714171529\n",
      "  positive)\n",
      "C:\\Users\\evatr\\Anaconda3\\lib\\site-packages\\sklearn\\linear_model\\coordinate_descent.py:475: ConvergenceWarning: Objective did not converge. You might want to increase the number of iterations. Duality gap: 4.537203788757324, tolerance: 0.0027285930700600147\n",
      "  positive)\n",
      "C:\\Users\\evatr\\Anaconda3\\lib\\site-packages\\sklearn\\linear_model\\coordinate_descent.py:475: ConvergenceWarning: Objective did not converge. You might want to increase the number of iterations. Duality gap: 4.290530204772949, tolerance: 0.003688748460263014\n",
      "  positive)\n",
      "C:\\Users\\evatr\\Anaconda3\\lib\\site-packages\\sklearn\\linear_model\\coordinate_descent.py:475: ConvergenceWarning: Objective did not converge. You might want to increase the number of iterations. Duality gap: 12.39609146118164, tolerance: 0.009082897566258907\n",
      "  positive)\n",
      "C:\\Users\\evatr\\Anaconda3\\lib\\site-packages\\sklearn\\linear_model\\coordinate_descent.py:475: ConvergenceWarning: Objective did not converge. You might want to increase the number of iterations. Duality gap: 5.400815486907959, tolerance: 0.004236856009811163\n",
      "  positive)\n",
      "C:\\Users\\evatr\\Anaconda3\\lib\\site-packages\\sklearn\\linear_model\\coordinate_descent.py:475: ConvergenceWarning: Objective did not converge. You might want to increase the number of iterations. Duality gap: 3.724390745162964, tolerance: 0.0022410238161683083\n",
      "  positive)\n"
     ]
    },
    {
     "name": "stderr",
     "output_type": "stream",
     "text": [
      "C:\\Users\\evatr\\Anaconda3\\lib\\site-packages\\sklearn\\linear_model\\coordinate_descent.py:475: ConvergenceWarning: Objective did not converge. You might want to increase the number of iterations. Duality gap: 5.869208812713623, tolerance: 0.0036929138004779816\n",
      "  positive)\n",
      "C:\\Users\\evatr\\Anaconda3\\lib\\site-packages\\sklearn\\linear_model\\coordinate_descent.py:475: ConvergenceWarning: Objective did not converge. You might want to increase the number of iterations. Duality gap: 9.220155715942383, tolerance: 0.00452329171821475\n",
      "  positive)\n",
      "C:\\Users\\evatr\\Anaconda3\\lib\\site-packages\\sklearn\\linear_model\\coordinate_descent.py:475: ConvergenceWarning: Objective did not converge. You might want to increase the number of iterations. Duality gap: 7.763033390045166, tolerance: 0.006217338610440493\n",
      "  positive)\n",
      "C:\\Users\\evatr\\Anaconda3\\lib\\site-packages\\sklearn\\linear_model\\coordinate_descent.py:475: ConvergenceWarning: Objective did not converge. You might want to increase the number of iterations. Duality gap: 4.183635711669922, tolerance: 0.0033177619334310293\n",
      "  positive)\n",
      "C:\\Users\\evatr\\Anaconda3\\lib\\site-packages\\sklearn\\linear_model\\coordinate_descent.py:475: ConvergenceWarning: Objective did not converge. You might want to increase the number of iterations. Duality gap: 13.34207534790039, tolerance: 0.008729614317417145\n",
      "  positive)\n",
      "C:\\Users\\evatr\\Anaconda3\\lib\\site-packages\\sklearn\\linear_model\\coordinate_descent.py:475: ConvergenceWarning: Objective did not converge. You might want to increase the number of iterations. Duality gap: 4.800604343414307, tolerance: 0.0028122866060584784\n",
      "  positive)\n",
      "C:\\Users\\evatr\\Anaconda3\\lib\\site-packages\\sklearn\\linear_model\\coordinate_descent.py:475: ConvergenceWarning: Objective did not converge. You might want to increase the number of iterations. Duality gap: 5.361198425292969, tolerance: 0.0027735962066799402\n",
      "  positive)\n",
      "C:\\Users\\evatr\\Anaconda3\\lib\\site-packages\\sklearn\\linear_model\\coordinate_descent.py:475: ConvergenceWarning: Objective did not converge. You might want to increase the number of iterations. Duality gap: 7.413773059844971, tolerance: 0.00416908785700798\n",
      "  positive)\n",
      "C:\\Users\\evatr\\Anaconda3\\lib\\site-packages\\sklearn\\linear_model\\coordinate_descent.py:475: ConvergenceWarning: Objective did not converge. You might want to increase the number of iterations. Duality gap: 9.70506763458252, tolerance: 0.006469296757131815\n",
      "  positive)\n",
      "C:\\Users\\evatr\\Anaconda3\\lib\\site-packages\\sklearn\\linear_model\\coordinate_descent.py:475: ConvergenceWarning: Objective did not converge. You might want to increase the number of iterations. Duality gap: 5.863528728485107, tolerance: 0.004124477971345186\n",
      "  positive)\n",
      "C:\\Users\\evatr\\Anaconda3\\lib\\site-packages\\sklearn\\linear_model\\coordinate_descent.py:475: ConvergenceWarning: Objective did not converge. You might want to increase the number of iterations. Duality gap: 5.84915828704834, tolerance: 0.0031979065388441086\n",
      "  positive)\n",
      "C:\\Users\\evatr\\Anaconda3\\lib\\site-packages\\sklearn\\linear_model\\coordinate_descent.py:475: ConvergenceWarning: Objective did not converge. You might want to increase the number of iterations. Duality gap: 5.6005449295043945, tolerance: 0.004378208424896002\n",
      "  positive)\n",
      "C:\\Users\\evatr\\Anaconda3\\lib\\site-packages\\sklearn\\linear_model\\coordinate_descent.py:475: ConvergenceWarning: Objective did not converge. You might want to increase the number of iterations. Duality gap: 7.930643558502197, tolerance: 0.004791577812284231\n",
      "  positive)\n",
      "C:\\Users\\evatr\\Anaconda3\\lib\\site-packages\\sklearn\\linear_model\\coordinate_descent.py:475: ConvergenceWarning: Objective did not converge. You might want to increase the number of iterations. Duality gap: 10.328229904174805, tolerance: 0.006334191188216209\n",
      "  positive)\n",
      "C:\\Users\\evatr\\Anaconda3\\lib\\site-packages\\sklearn\\linear_model\\coordinate_descent.py:475: ConvergenceWarning: Objective did not converge. You might want to increase the number of iterations. Duality gap: 8.027682304382324, tolerance: 0.004843467380851507\n",
      "  positive)\n",
      "C:\\Users\\evatr\\Anaconda3\\lib\\site-packages\\sklearn\\linear_model\\coordinate_descent.py:475: ConvergenceWarning: Objective did not converge. You might want to increase the number of iterations. Duality gap: 9.703590393066406, tolerance: 0.008517734706401825\n",
      "  positive)\n",
      "C:\\Users\\evatr\\Anaconda3\\lib\\site-packages\\sklearn\\linear_model\\coordinate_descent.py:475: ConvergenceWarning: Objective did not converge. You might want to increase the number of iterations. Duality gap: 5.430205821990967, tolerance: 0.004429794382303953\n",
      "  positive)\n",
      "C:\\Users\\evatr\\Anaconda3\\lib\\site-packages\\sklearn\\linear_model\\coordinate_descent.py:475: ConvergenceWarning: Objective did not converge. You might want to increase the number of iterations. Duality gap: 9.206530570983887, tolerance: 0.005192374810576439\n",
      "  positive)\n",
      "C:\\Users\\evatr\\Anaconda3\\lib\\site-packages\\sklearn\\linear_model\\coordinate_descent.py:475: ConvergenceWarning: Objective did not converge. You might want to increase the number of iterations. Duality gap: 5.143722057342529, tolerance: 0.003233959199860692\n",
      "  positive)\n",
      "C:\\Users\\evatr\\Anaconda3\\lib\\site-packages\\sklearn\\linear_model\\coordinate_descent.py:475: ConvergenceWarning: Objective did not converge. You might want to increase the number of iterations. Duality gap: 8.456706047058105, tolerance: 0.00458567263558507\n",
      "  positive)\n",
      "C:\\Users\\evatr\\Anaconda3\\lib\\site-packages\\sklearn\\linear_model\\coordinate_descent.py:475: ConvergenceWarning: Objective did not converge. You might want to increase the number of iterations. Duality gap: 7.369631767272949, tolerance: 0.0056762355379760265\n",
      "  positive)\n",
      "C:\\Users\\evatr\\Anaconda3\\lib\\site-packages\\sklearn\\linear_model\\coordinate_descent.py:475: ConvergenceWarning: Objective did not converge. You might want to increase the number of iterations. Duality gap: 5.932611465454102, tolerance: 0.004611133597791195\n",
      "  positive)\n",
      "C:\\Users\\evatr\\Anaconda3\\lib\\site-packages\\sklearn\\linear_model\\coordinate_descent.py:475: ConvergenceWarning: Objective did not converge. You might want to increase the number of iterations. Duality gap: 5.718977451324463, tolerance: 0.004566597752273083\n",
      "  positive)\n",
      "C:\\Users\\evatr\\Anaconda3\\lib\\site-packages\\sklearn\\linear_model\\coordinate_descent.py:475: ConvergenceWarning: Objective did not converge. You might want to increase the number of iterations. Duality gap: 6.953624248504639, tolerance: 0.004643655847758055\n",
      "  positive)\n",
      "C:\\Users\\evatr\\Anaconda3\\lib\\site-packages\\sklearn\\linear_model\\coordinate_descent.py:475: ConvergenceWarning: Objective did not converge. You might want to increase the number of iterations. Duality gap: 5.238669395446777, tolerance: 0.0039293537847697735\n",
      "  positive)\n",
      "C:\\Users\\evatr\\Anaconda3\\lib\\site-packages\\sklearn\\linear_model\\coordinate_descent.py:475: ConvergenceWarning: Objective did not converge. You might want to increase the number of iterations. Duality gap: 5.122313976287842, tolerance: 0.0029618036933243275\n",
      "  positive)\n",
      "C:\\Users\\evatr\\Anaconda3\\lib\\site-packages\\sklearn\\linear_model\\coordinate_descent.py:475: ConvergenceWarning: Objective did not converge. You might want to increase the number of iterations. Duality gap: 8.869264602661133, tolerance: 0.005875710863620043\n",
      "  positive)\n",
      "C:\\Users\\evatr\\Anaconda3\\lib\\site-packages\\sklearn\\linear_model\\coordinate_descent.py:475: ConvergenceWarning: Objective did not converge. You might want to increase the number of iterations. Duality gap: 7.422762393951416, tolerance: 0.006203116849064827\n",
      "  positive)\n",
      "C:\\Users\\evatr\\Anaconda3\\lib\\site-packages\\sklearn\\linear_model\\coordinate_descent.py:475: ConvergenceWarning: Objective did not converge. You might want to increase the number of iterations. Duality gap: 7.468017101287842, tolerance: 0.005626634228974581\n",
      "  positive)\n",
      "C:\\Users\\evatr\\Anaconda3\\lib\\site-packages\\sklearn\\linear_model\\coordinate_descent.py:475: ConvergenceWarning: Objective did not converge. You might want to increase the number of iterations. Duality gap: 7.3170881271362305, tolerance: 0.005156020168215036\n",
      "  positive)\n",
      "C:\\Users\\evatr\\Anaconda3\\lib\\site-packages\\sklearn\\linear_model\\coordinate_descent.py:475: ConvergenceWarning: Objective did not converge. You might want to increase the number of iterations. Duality gap: 9.087458610534668, tolerance: 0.005037850234657526\n",
      "  positive)\n"
     ]
    },
    {
     "name": "stderr",
     "output_type": "stream",
     "text": [
      "C:\\Users\\evatr\\Anaconda3\\lib\\site-packages\\sklearn\\linear_model\\coordinate_descent.py:475: ConvergenceWarning: Objective did not converge. You might want to increase the number of iterations. Duality gap: 9.411209106445312, tolerance: 0.0056986818090081215\n",
      "  positive)\n",
      "C:\\Users\\evatr\\Anaconda3\\lib\\site-packages\\sklearn\\linear_model\\coordinate_descent.py:475: ConvergenceWarning: Objective did not converge. You might want to increase the number of iterations. Duality gap: 5.713284969329834, tolerance: 0.003885691286996007\n",
      "  positive)\n",
      "C:\\Users\\evatr\\Anaconda3\\lib\\site-packages\\sklearn\\linear_model\\coordinate_descent.py:475: ConvergenceWarning: Objective did not converge. You might want to increase the number of iterations. Duality gap: 6.311177730560303, tolerance: 0.0030910067725926638\n",
      "  positive)\n",
      "C:\\Users\\evatr\\Anaconda3\\lib\\site-packages\\sklearn\\linear_model\\coordinate_descent.py:475: ConvergenceWarning: Objective did not converge. You might want to increase the number of iterations. Duality gap: 15.228461265563965, tolerance: 0.012178261764347553\n",
      "  positive)\n",
      "C:\\Users\\evatr\\Anaconda3\\lib\\site-packages\\sklearn\\linear_model\\coordinate_descent.py:475: ConvergenceWarning: Objective did not converge. You might want to increase the number of iterations. Duality gap: 7.618811130523682, tolerance: 0.004913571290671825\n",
      "  positive)\n",
      "C:\\Users\\evatr\\Anaconda3\\lib\\site-packages\\sklearn\\linear_model\\coordinate_descent.py:475: ConvergenceWarning: Objective did not converge. You might want to increase the number of iterations. Duality gap: 6.6702141761779785, tolerance: 0.005525629501789808\n",
      "  positive)\n",
      "C:\\Users\\evatr\\Anaconda3\\lib\\site-packages\\sklearn\\linear_model\\coordinate_descent.py:475: ConvergenceWarning: Objective did not converge. You might want to increase the number of iterations. Duality gap: 5.935196399688721, tolerance: 0.004686028230935335\n",
      "  positive)\n",
      "C:\\Users\\evatr\\Anaconda3\\lib\\site-packages\\sklearn\\linear_model\\coordinate_descent.py:475: ConvergenceWarning: Objective did not converge. You might want to increase the number of iterations. Duality gap: 4.313716411590576, tolerance: 0.0027529990766197443\n",
      "  positive)\n",
      "C:\\Users\\evatr\\Anaconda3\\lib\\site-packages\\sklearn\\linear_model\\coordinate_descent.py:475: ConvergenceWarning: Objective did not converge. You might want to increase the number of iterations. Duality gap: 7.011743545532227, tolerance: 0.005378330126404762\n",
      "  positive)\n",
      "C:\\Users\\evatr\\Anaconda3\\lib\\site-packages\\sklearn\\linear_model\\coordinate_descent.py:475: ConvergenceWarning: Objective did not converge. You might want to increase the number of iterations. Duality gap: 5.715296268463135, tolerance: 0.002780217444524169\n",
      "  positive)\n",
      "C:\\Users\\evatr\\Anaconda3\\lib\\site-packages\\sklearn\\linear_model\\coordinate_descent.py:475: ConvergenceWarning: Objective did not converge. You might want to increase the number of iterations. Duality gap: 7.81725549697876, tolerance: 0.006306178402155638\n",
      "  positive)\n",
      "C:\\Users\\evatr\\Anaconda3\\lib\\site-packages\\sklearn\\linear_model\\coordinate_descent.py:475: ConvergenceWarning: Objective did not converge. You might want to increase the number of iterations. Duality gap: 4.375284194946289, tolerance: 0.002351377857849002\n",
      "  positive)\n",
      "C:\\Users\\evatr\\Anaconda3\\lib\\site-packages\\sklearn\\linear_model\\coordinate_descent.py:475: ConvergenceWarning: Objective did not converge. You might want to increase the number of iterations. Duality gap: 6.834515571594238, tolerance: 0.004730347543954849\n",
      "  positive)\n",
      "C:\\Users\\evatr\\Anaconda3\\lib\\site-packages\\sklearn\\linear_model\\coordinate_descent.py:475: ConvergenceWarning: Objective did not converge. You might want to increase the number of iterations. Duality gap: 4.887596607208252, tolerance: 0.002807028591632843\n",
      "  positive)\n",
      "C:\\Users\\evatr\\Anaconda3\\lib\\site-packages\\sklearn\\linear_model\\coordinate_descent.py:475: ConvergenceWarning: Objective did not converge. You might want to increase the number of iterations. Duality gap: 7.4285078048706055, tolerance: 0.004912697710096836\n",
      "  positive)\n",
      "C:\\Users\\evatr\\Anaconda3\\lib\\site-packages\\sklearn\\linear_model\\coordinate_descent.py:475: ConvergenceWarning: Objective did not converge. You might want to increase the number of iterations. Duality gap: 3.595719814300537, tolerance: 0.0020379654597491026\n",
      "  positive)\n",
      "C:\\Users\\evatr\\Anaconda3\\lib\\site-packages\\sklearn\\linear_model\\coordinate_descent.py:475: ConvergenceWarning: Objective did not converge. You might want to increase the number of iterations. Duality gap: 4.415959358215332, tolerance: 0.0025088293477892876\n",
      "  positive)\n",
      "C:\\Users\\evatr\\Anaconda3\\lib\\site-packages\\sklearn\\linear_model\\coordinate_descent.py:475: ConvergenceWarning: Objective did not converge. You might want to increase the number of iterations. Duality gap: 11.0158109664917, tolerance: 0.00511373532935977\n",
      "  positive)\n",
      "C:\\Users\\evatr\\Anaconda3\\lib\\site-packages\\sklearn\\linear_model\\coordinate_descent.py:475: ConvergenceWarning: Objective did not converge. You might want to increase the number of iterations. Duality gap: 9.624185562133789, tolerance: 0.006622849032282829\n",
      "  positive)\n",
      "C:\\Users\\evatr\\Anaconda3\\lib\\site-packages\\sklearn\\linear_model\\coordinate_descent.py:475: ConvergenceWarning: Objective did not converge. You might want to increase the number of iterations. Duality gap: 6.77898645401001, tolerance: 0.0038996438961476088\n",
      "  positive)\n",
      "C:\\Users\\evatr\\Anaconda3\\lib\\site-packages\\sklearn\\linear_model\\coordinate_descent.py:475: ConvergenceWarning: Objective did not converge. You might want to increase the number of iterations. Duality gap: 7.9404683113098145, tolerance: 0.004079898819327354\n",
      "  positive)\n",
      "C:\\Users\\evatr\\Anaconda3\\lib\\site-packages\\sklearn\\linear_model\\coordinate_descent.py:475: ConvergenceWarning: Objective did not converge. You might want to increase the number of iterations. Duality gap: 10.762819290161133, tolerance: 0.008336856961250305\n",
      "  positive)\n",
      "C:\\Users\\evatr\\Anaconda3\\lib\\site-packages\\sklearn\\linear_model\\coordinate_descent.py:475: ConvergenceWarning: Objective did not converge. You might want to increase the number of iterations. Duality gap: 6.0726189613342285, tolerance: 0.0028594485484063625\n",
      "  positive)\n",
      "C:\\Users\\evatr\\Anaconda3\\lib\\site-packages\\sklearn\\linear_model\\coordinate_descent.py:475: ConvergenceWarning: Objective did not converge. You might want to increase the number of iterations. Duality gap: 7.208199501037598, tolerance: 0.003911071456968784\n",
      "  positive)\n",
      "C:\\Users\\evatr\\Anaconda3\\lib\\site-packages\\sklearn\\linear_model\\coordinate_descent.py:475: ConvergenceWarning: Objective did not converge. You might want to increase the number of iterations. Duality gap: 5.6068034172058105, tolerance: 0.003202082822099328\n",
      "  positive)\n",
      "C:\\Users\\evatr\\Anaconda3\\lib\\site-packages\\sklearn\\linear_model\\coordinate_descent.py:475: ConvergenceWarning: Objective did not converge. You might want to increase the number of iterations. Duality gap: 5.045533180236816, tolerance: 0.0022104543168097734\n",
      "  positive)\n",
      "C:\\Users\\evatr\\Anaconda3\\lib\\site-packages\\sklearn\\linear_model\\coordinate_descent.py:475: ConvergenceWarning: Objective did not converge. You might want to increase the number of iterations. Duality gap: 5.643086910247803, tolerance: 0.003129218704998493\n",
      "  positive)\n",
      "C:\\Users\\evatr\\Anaconda3\\lib\\site-packages\\sklearn\\linear_model\\coordinate_descent.py:475: ConvergenceWarning: Objective did not converge. You might want to increase the number of iterations. Duality gap: 7.571784973144531, tolerance: 0.004795584827661514\n",
      "  positive)\n",
      "C:\\Users\\evatr\\Anaconda3\\lib\\site-packages\\sklearn\\linear_model\\coordinate_descent.py:475: ConvergenceWarning: Objective did not converge. You might want to increase the number of iterations. Duality gap: 5.618409633636475, tolerance: 0.0020442374516278505\n",
      "  positive)\n",
      "C:\\Users\\evatr\\Anaconda3\\lib\\site-packages\\sklearn\\linear_model\\coordinate_descent.py:475: ConvergenceWarning: Objective did not converge. You might want to increase the number of iterations. Duality gap: 8.0419921875, tolerance: 0.006336376070976257\n",
      "  positive)\n",
      "C:\\Users\\evatr\\Anaconda3\\lib\\site-packages\\sklearn\\linear_model\\coordinate_descent.py:475: ConvergenceWarning: Objective did not converge. You might want to increase the number of iterations. Duality gap: 6.930290222167969, tolerance: 0.003922437783330679\n",
      "  positive)\n"
     ]
    },
    {
     "name": "stderr",
     "output_type": "stream",
     "text": [
      "C:\\Users\\evatr\\Anaconda3\\lib\\site-packages\\sklearn\\linear_model\\coordinate_descent.py:475: ConvergenceWarning: Objective did not converge. You might want to increase the number of iterations. Duality gap: 5.139682292938232, tolerance: 0.002637703437358141\n",
      "  positive)\n",
      "C:\\Users\\evatr\\Anaconda3\\lib\\site-packages\\sklearn\\linear_model\\coordinate_descent.py:475: ConvergenceWarning: Objective did not converge. You might want to increase the number of iterations. Duality gap: 5.37741756439209, tolerance: 0.0032606632448732853\n",
      "  positive)\n",
      "C:\\Users\\evatr\\Anaconda3\\lib\\site-packages\\sklearn\\linear_model\\coordinate_descent.py:475: ConvergenceWarning: Objective did not converge. You might want to increase the number of iterations. Duality gap: 7.292389869689941, tolerance: 0.004157987888902426\n",
      "  positive)\n",
      "C:\\Users\\evatr\\Anaconda3\\lib\\site-packages\\sklearn\\linear_model\\coordinate_descent.py:475: ConvergenceWarning: Objective did not converge. You might want to increase the number of iterations. Duality gap: 4.251410484313965, tolerance: 0.0030510611832141876\n",
      "  positive)\n",
      "C:\\Users\\evatr\\Anaconda3\\lib\\site-packages\\sklearn\\linear_model\\coordinate_descent.py:475: ConvergenceWarning: Objective did not converge. You might want to increase the number of iterations. Duality gap: 11.589029312133789, tolerance: 0.006900118663907051\n",
      "  positive)\n",
      "C:\\Users\\evatr\\Anaconda3\\lib\\site-packages\\sklearn\\linear_model\\coordinate_descent.py:475: ConvergenceWarning: Objective did not converge. You might want to increase the number of iterations. Duality gap: 6.552722930908203, tolerance: 0.004157049581408501\n",
      "  positive)\n",
      "C:\\Users\\evatr\\Anaconda3\\lib\\site-packages\\sklearn\\linear_model\\coordinate_descent.py:475: ConvergenceWarning: Objective did not converge. You might want to increase the number of iterations. Duality gap: 6.322171211242676, tolerance: 0.004978416487574577\n",
      "  positive)\n",
      "C:\\Users\\evatr\\Anaconda3\\lib\\site-packages\\sklearn\\linear_model\\coordinate_descent.py:475: ConvergenceWarning: Objective did not converge. You might want to increase the number of iterations. Duality gap: 5.282710075378418, tolerance: 0.0034706881269812584\n",
      "  positive)\n",
      "C:\\Users\\evatr\\Anaconda3\\lib\\site-packages\\sklearn\\linear_model\\coordinate_descent.py:475: ConvergenceWarning: Objective did not converge. You might want to increase the number of iterations. Duality gap: 5.848690509796143, tolerance: 0.0033199156168848276\n",
      "  positive)\n",
      "C:\\Users\\evatr\\Anaconda3\\lib\\site-packages\\sklearn\\linear_model\\coordinate_descent.py:475: ConvergenceWarning: Objective did not converge. You might want to increase the number of iterations. Duality gap: 3.066265821456909, tolerance: 0.0015994892455637455\n",
      "  positive)\n",
      "C:\\Users\\evatr\\Anaconda3\\lib\\site-packages\\sklearn\\linear_model\\coordinate_descent.py:475: ConvergenceWarning: Objective did not converge. You might want to increase the number of iterations. Duality gap: 6.449316024780273, tolerance: 0.004120084922760725\n",
      "  positive)\n",
      "C:\\Users\\evatr\\Anaconda3\\lib\\site-packages\\sklearn\\linear_model\\coordinate_descent.py:475: ConvergenceWarning: Objective did not converge. You might want to increase the number of iterations. Duality gap: 7.533498287200928, tolerance: 0.0069790189154446125\n",
      "  positive)\n",
      "C:\\Users\\evatr\\Anaconda3\\lib\\site-packages\\sklearn\\linear_model\\coordinate_descent.py:475: ConvergenceWarning: Objective did not converge. You might want to increase the number of iterations. Duality gap: 5.952292442321777, tolerance: 0.004788597114384174\n",
      "  positive)\n",
      "C:\\Users\\evatr\\Anaconda3\\lib\\site-packages\\sklearn\\linear_model\\coordinate_descent.py:475: ConvergenceWarning: Objective did not converge. You might want to increase the number of iterations. Duality gap: 6.141602993011475, tolerance: 0.0030360009986907244\n",
      "  positive)\n",
      "C:\\Users\\evatr\\Anaconda3\\lib\\site-packages\\sklearn\\linear_model\\coordinate_descent.py:475: ConvergenceWarning: Objective did not converge. You might want to increase the number of iterations. Duality gap: 6.462717056274414, tolerance: 0.003973133862018585\n",
      "  positive)\n",
      "C:\\Users\\evatr\\Anaconda3\\lib\\site-packages\\sklearn\\linear_model\\coordinate_descent.py:475: ConvergenceWarning: Objective did not converge. You might want to increase the number of iterations. Duality gap: 12.379594802856445, tolerance: 0.007930650375783443\n",
      "  positive)\n",
      "C:\\Users\\evatr\\Anaconda3\\lib\\site-packages\\sklearn\\linear_model\\coordinate_descent.py:475: ConvergenceWarning: Objective did not converge. You might want to increase the number of iterations. Duality gap: 5.531623363494873, tolerance: 0.0024622732307761908\n",
      "  positive)\n",
      "C:\\Users\\evatr\\Anaconda3\\lib\\site-packages\\sklearn\\linear_model\\coordinate_descent.py:475: ConvergenceWarning: Objective did not converge. You might want to increase the number of iterations. Duality gap: 9.499845504760742, tolerance: 0.0062573752366006374\n",
      "  positive)\n",
      "C:\\Users\\evatr\\Anaconda3\\lib\\site-packages\\sklearn\\linear_model\\coordinate_descent.py:475: ConvergenceWarning: Objective did not converge. You might want to increase the number of iterations. Duality gap: 6.275635242462158, tolerance: 0.0036946628242731094\n",
      "  positive)\n",
      "C:\\Users\\evatr\\Anaconda3\\lib\\site-packages\\sklearn\\linear_model\\coordinate_descent.py:475: ConvergenceWarning: Objective did not converge. You might want to increase the number of iterations. Duality gap: 7.220300674438477, tolerance: 0.005513269454240799\n",
      "  positive)\n",
      "C:\\Users\\evatr\\Anaconda3\\lib\\site-packages\\sklearn\\linear_model\\coordinate_descent.py:475: ConvergenceWarning: Objective did not converge. You might want to increase the number of iterations. Duality gap: 6.81724214553833, tolerance: 0.005138732958585024\n",
      "  positive)\n",
      "C:\\Users\\evatr\\Anaconda3\\lib\\site-packages\\sklearn\\linear_model\\coordinate_descent.py:475: ConvergenceWarning: Objective did not converge. You might want to increase the number of iterations. Duality gap: 8.475541114807129, tolerance: 0.007043571211397648\n",
      "  positive)\n",
      "C:\\Users\\evatr\\Anaconda3\\lib\\site-packages\\sklearn\\linear_model\\coordinate_descent.py:475: ConvergenceWarning: Objective did not converge. You might want to increase the number of iterations. Duality gap: 8.115009307861328, tolerance: 0.006167969200760126\n",
      "  positive)\n",
      "C:\\Users\\evatr\\Anaconda3\\lib\\site-packages\\sklearn\\linear_model\\coordinate_descent.py:475: ConvergenceWarning: Objective did not converge. You might want to increase the number of iterations. Duality gap: 4.405913352966309, tolerance: 0.003740502055734396\n",
      "  positive)\n",
      "C:\\Users\\evatr\\Anaconda3\\lib\\site-packages\\sklearn\\linear_model\\coordinate_descent.py:475: ConvergenceWarning: Objective did not converge. You might want to increase the number of iterations. Duality gap: 8.756064414978027, tolerance: 0.004327388480305672\n",
      "  positive)\n",
      "C:\\Users\\evatr\\Anaconda3\\lib\\site-packages\\sklearn\\linear_model\\coordinate_descent.py:475: ConvergenceWarning: Objective did not converge. You might want to increase the number of iterations. Duality gap: 5.2789692878723145, tolerance: 0.002929268404841423\n",
      "  positive)\n",
      "C:\\Users\\evatr\\Anaconda3\\lib\\site-packages\\sklearn\\linear_model\\coordinate_descent.py:475: ConvergenceWarning: Objective did not converge. You might want to increase the number of iterations. Duality gap: 6.65651798248291, tolerance: 0.004531968850642443\n",
      "  positive)\n",
      "C:\\Users\\evatr\\Anaconda3\\lib\\site-packages\\sklearn\\linear_model\\coordinate_descent.py:475: ConvergenceWarning: Objective did not converge. You might want to increase the number of iterations. Duality gap: 5.5688982009887695, tolerance: 0.0035941977985203266\n",
      "  positive)\n",
      "C:\\Users\\evatr\\Anaconda3\\lib\\site-packages\\sklearn\\linear_model\\coordinate_descent.py:475: ConvergenceWarning: Objective did not converge. You might want to increase the number of iterations. Duality gap: 5.1693620681762695, tolerance: 0.0032856925390660763\n",
      "  positive)\n",
      "C:\\Users\\evatr\\Anaconda3\\lib\\site-packages\\sklearn\\linear_model\\coordinate_descent.py:475: ConvergenceWarning: Objective did not converge. You might want to increase the number of iterations. Duality gap: 11.337543487548828, tolerance: 0.008822307921946049\n",
      "  positive)\n",
      "C:\\Users\\evatr\\Anaconda3\\lib\\site-packages\\sklearn\\linear_model\\coordinate_descent.py:475: ConvergenceWarning: Objective did not converge. You might want to increase the number of iterations. Duality gap: 7.882158279418945, tolerance: 0.004584119655191898\n",
      "  positive)\n"
     ]
    },
    {
     "name": "stderr",
     "output_type": "stream",
     "text": [
      "C:\\Users\\evatr\\Anaconda3\\lib\\site-packages\\sklearn\\linear_model\\coordinate_descent.py:475: ConvergenceWarning: Objective did not converge. You might want to increase the number of iterations. Duality gap: 7.9323954582214355, tolerance: 0.0036537935957312584\n",
      "  positive)\n",
      "C:\\Users\\evatr\\Anaconda3\\lib\\site-packages\\sklearn\\linear_model\\coordinate_descent.py:475: ConvergenceWarning: Objective did not converge. You might want to increase the number of iterations. Duality gap: 6.051733493804932, tolerance: 0.0035701796878129244\n",
      "  positive)\n",
      "C:\\Users\\evatr\\Anaconda3\\lib\\site-packages\\sklearn\\linear_model\\coordinate_descent.py:475: ConvergenceWarning: Objective did not converge. You might want to increase the number of iterations. Duality gap: 7.79444694519043, tolerance: 0.0058977012522518635\n",
      "  positive)\n",
      "C:\\Users\\evatr\\Anaconda3\\lib\\site-packages\\sklearn\\linear_model\\coordinate_descent.py:475: ConvergenceWarning: Objective did not converge. You might want to increase the number of iterations. Duality gap: 4.863162517547607, tolerance: 0.003669553203508258\n",
      "  positive)\n",
      "C:\\Users\\evatr\\Anaconda3\\lib\\site-packages\\sklearn\\linear_model\\coordinate_descent.py:475: ConvergenceWarning: Objective did not converge. You might want to increase the number of iterations. Duality gap: 4.633338928222656, tolerance: 0.003017007140442729\n",
      "  positive)\n",
      "C:\\Users\\evatr\\Anaconda3\\lib\\site-packages\\sklearn\\linear_model\\coordinate_descent.py:475: ConvergenceWarning: Objective did not converge. You might want to increase the number of iterations. Duality gap: 6.754543304443359, tolerance: 0.0049048070795834064\n",
      "  positive)\n",
      "C:\\Users\\evatr\\Anaconda3\\lib\\site-packages\\sklearn\\linear_model\\coordinate_descent.py:475: ConvergenceWarning: Objective did not converge. You might want to increase the number of iterations. Duality gap: 6.038175106048584, tolerance: 0.004234433639794588\n",
      "  positive)\n",
      "C:\\Users\\evatr\\Anaconda3\\lib\\site-packages\\sklearn\\linear_model\\coordinate_descent.py:475: ConvergenceWarning: Objective did not converge. You might want to increase the number of iterations. Duality gap: 6.298670768737793, tolerance: 0.005018177442252636\n",
      "  positive)\n",
      "C:\\Users\\evatr\\Anaconda3\\lib\\site-packages\\sklearn\\linear_model\\coordinate_descent.py:475: ConvergenceWarning: Objective did not converge. You might want to increase the number of iterations. Duality gap: 7.309471607208252, tolerance: 0.0038631712086498737\n",
      "  positive)\n",
      "C:\\Users\\evatr\\Anaconda3\\lib\\site-packages\\sklearn\\linear_model\\coordinate_descent.py:475: ConvergenceWarning: Objective did not converge. You might want to increase the number of iterations. Duality gap: 8.077077865600586, tolerance: 0.006450514774769545\n",
      "  positive)\n",
      "C:\\Users\\evatr\\Anaconda3\\lib\\site-packages\\sklearn\\linear_model\\coordinate_descent.py:475: ConvergenceWarning: Objective did not converge. You might want to increase the number of iterations. Duality gap: 6.147008895874023, tolerance: 0.0036550043150782585\n",
      "  positive)\n",
      "C:\\Users\\evatr\\Anaconda3\\lib\\site-packages\\sklearn\\linear_model\\coordinate_descent.py:475: ConvergenceWarning: Objective did not converge. You might want to increase the number of iterations. Duality gap: 14.631031036376953, tolerance: 0.010214686393737793\n",
      "  positive)\n",
      "C:\\Users\\evatr\\Anaconda3\\lib\\site-packages\\sklearn\\linear_model\\coordinate_descent.py:475: ConvergenceWarning: Objective did not converge. You might want to increase the number of iterations. Duality gap: 5.590429782867432, tolerance: 0.002801261143758893\n",
      "  positive)\n",
      "C:\\Users\\evatr\\Anaconda3\\lib\\site-packages\\sklearn\\linear_model\\coordinate_descent.py:475: ConvergenceWarning: Objective did not converge. You might want to increase the number of iterations. Duality gap: 10.347397804260254, tolerance: 0.00664210319519043\n",
      "  positive)\n",
      "C:\\Users\\evatr\\Anaconda3\\lib\\site-packages\\sklearn\\linear_model\\coordinate_descent.py:475: ConvergenceWarning: Objective did not converge. You might want to increase the number of iterations. Duality gap: 5.709272861480713, tolerance: 0.004302869085222483\n",
      "  positive)\n",
      "C:\\Users\\evatr\\Anaconda3\\lib\\site-packages\\sklearn\\linear_model\\coordinate_descent.py:475: ConvergenceWarning: Objective did not converge. You might want to increase the number of iterations. Duality gap: 7.141088485717773, tolerance: 0.003973501734435558\n",
      "  positive)\n",
      "C:\\Users\\evatr\\Anaconda3\\lib\\site-packages\\sklearn\\linear_model\\coordinate_descent.py:475: ConvergenceWarning: Objective did not converge. You might want to increase the number of iterations. Duality gap: 7.819212913513184, tolerance: 0.005203913897275925\n",
      "  positive)\n",
      "C:\\Users\\evatr\\Anaconda3\\lib\\site-packages\\sklearn\\linear_model\\coordinate_descent.py:475: ConvergenceWarning: Objective did not converge. You might want to increase the number of iterations. Duality gap: 5.708013534545898, tolerance: 0.003363996045663953\n",
      "  positive)\n",
      "C:\\Users\\evatr\\Anaconda3\\lib\\site-packages\\sklearn\\linear_model\\coordinate_descent.py:475: ConvergenceWarning: Objective did not converge. You might want to increase the number of iterations. Duality gap: 5.710710525512695, tolerance: 0.0032310355454683304\n",
      "  positive)\n",
      "C:\\Users\\evatr\\Anaconda3\\lib\\site-packages\\sklearn\\linear_model\\coordinate_descent.py:475: ConvergenceWarning: Objective did not converge. You might want to increase the number of iterations. Duality gap: 8.245134353637695, tolerance: 0.006635671015828848\n",
      "  positive)\n",
      "C:\\Users\\evatr\\Anaconda3\\lib\\site-packages\\sklearn\\linear_model\\coordinate_descent.py:475: ConvergenceWarning: Objective did not converge. You might want to increase the number of iterations. Duality gap: 4.658320903778076, tolerance: 0.002487734192982316\n",
      "  positive)\n",
      "C:\\Users\\evatr\\Anaconda3\\lib\\site-packages\\sklearn\\linear_model\\coordinate_descent.py:475: ConvergenceWarning: Objective did not converge. You might want to increase the number of iterations. Duality gap: 5.38917350769043, tolerance: 0.0032401205971837044\n",
      "  positive)\n",
      "C:\\Users\\evatr\\Anaconda3\\lib\\site-packages\\sklearn\\linear_model\\coordinate_descent.py:475: ConvergenceWarning: Objective did not converge. You might want to increase the number of iterations. Duality gap: 4.443631172180176, tolerance: 0.0023334852885454893\n",
      "  positive)\n",
      "C:\\Users\\evatr\\Anaconda3\\lib\\site-packages\\sklearn\\linear_model\\coordinate_descent.py:475: ConvergenceWarning: Objective did not converge. You might want to increase the number of iterations. Duality gap: 4.559430122375488, tolerance: 0.003270561806857586\n",
      "  positive)\n",
      "C:\\Users\\evatr\\Anaconda3\\lib\\site-packages\\sklearn\\linear_model\\coordinate_descent.py:475: ConvergenceWarning: Objective did not converge. You might want to increase the number of iterations. Duality gap: 6.32289981842041, tolerance: 0.0035051286686211824\n",
      "  positive)\n",
      "C:\\Users\\evatr\\Anaconda3\\lib\\site-packages\\sklearn\\linear_model\\coordinate_descent.py:475: ConvergenceWarning: Objective did not converge. You might want to increase the number of iterations. Duality gap: 9.67894172668457, tolerance: 0.005997056607156992\n",
      "  positive)\n",
      "C:\\Users\\evatr\\Anaconda3\\lib\\site-packages\\sklearn\\linear_model\\coordinate_descent.py:475: ConvergenceWarning: Objective did not converge. You might want to increase the number of iterations. Duality gap: 4.666710376739502, tolerance: 0.0033943739254027605\n",
      "  positive)\n",
      "C:\\Users\\evatr\\Anaconda3\\lib\\site-packages\\sklearn\\linear_model\\coordinate_descent.py:475: ConvergenceWarning: Objective did not converge. You might want to increase the number of iterations. Duality gap: 4.801692008972168, tolerance: 0.002839047461748123\n",
      "  positive)\n",
      "C:\\Users\\evatr\\Anaconda3\\lib\\site-packages\\sklearn\\linear_model\\coordinate_descent.py:475: ConvergenceWarning: Objective did not converge. You might want to increase the number of iterations. Duality gap: 10.746891975402832, tolerance: 0.01015912089496851\n",
      "  positive)\n",
      "C:\\Users\\evatr\\Anaconda3\\lib\\site-packages\\sklearn\\linear_model\\coordinate_descent.py:475: ConvergenceWarning: Objective did not converge. You might want to increase the number of iterations. Duality gap: 4.654322624206543, tolerance: 0.0027021775022149086\n",
      "  positive)\n",
      "C:\\Users\\evatr\\Anaconda3\\lib\\site-packages\\sklearn\\linear_model\\coordinate_descent.py:475: ConvergenceWarning: Objective did not converge. You might want to increase the number of iterations. Duality gap: 6.40960693359375, tolerance: 0.0032708258368074894\n",
      "  positive)\n"
     ]
    },
    {
     "name": "stderr",
     "output_type": "stream",
     "text": [
      "C:\\Users\\evatr\\Anaconda3\\lib\\site-packages\\sklearn\\linear_model\\coordinate_descent.py:475: ConvergenceWarning: Objective did not converge. You might want to increase the number of iterations. Duality gap: 3.282700538635254, tolerance: 0.002241407288238406\n",
      "  positive)\n",
      "C:\\Users\\evatr\\Anaconda3\\lib\\site-packages\\sklearn\\linear_model\\coordinate_descent.py:475: ConvergenceWarning: Objective did not converge. You might want to increase the number of iterations. Duality gap: 11.849515914916992, tolerance: 0.006285924464464188\n",
      "  positive)\n",
      "C:\\Users\\evatr\\Anaconda3\\lib\\site-packages\\sklearn\\linear_model\\coordinate_descent.py:475: ConvergenceWarning: Objective did not converge. You might want to increase the number of iterations. Duality gap: 5.466245174407959, tolerance: 0.0027495971880853176\n",
      "  positive)\n",
      "C:\\Users\\evatr\\Anaconda3\\lib\\site-packages\\sklearn\\linear_model\\coordinate_descent.py:475: ConvergenceWarning: Objective did not converge. You might want to increase the number of iterations. Duality gap: 6.667177677154541, tolerance: 0.004286125302314758\n",
      "  positive)\n",
      "C:\\Users\\evatr\\Anaconda3\\lib\\site-packages\\sklearn\\linear_model\\coordinate_descent.py:475: ConvergenceWarning: Objective did not converge. You might want to increase the number of iterations. Duality gap: 6.358068466186523, tolerance: 0.0037413465324789286\n",
      "  positive)\n",
      "C:\\Users\\evatr\\Anaconda3\\lib\\site-packages\\sklearn\\linear_model\\coordinate_descent.py:475: ConvergenceWarning: Objective did not converge. You might want to increase the number of iterations. Duality gap: 4.891127586364746, tolerance: 0.0030618398450315\n",
      "  positive)\n",
      "C:\\Users\\evatr\\Anaconda3\\lib\\site-packages\\sklearn\\linear_model\\coordinate_descent.py:475: ConvergenceWarning: Objective did not converge. You might want to increase the number of iterations. Duality gap: 6.713216781616211, tolerance: 0.0038839587941765785\n",
      "  positive)\n",
      "C:\\Users\\evatr\\Anaconda3\\lib\\site-packages\\sklearn\\linear_model\\coordinate_descent.py:475: ConvergenceWarning: Objective did not converge. You might want to increase the number of iterations. Duality gap: 6.566277027130127, tolerance: 0.004804742988198996\n",
      "  positive)\n",
      "C:\\Users\\evatr\\Anaconda3\\lib\\site-packages\\sklearn\\linear_model\\coordinate_descent.py:475: ConvergenceWarning: Objective did not converge. You might want to increase the number of iterations. Duality gap: 9.636507987976074, tolerance: 0.005949498154222965\n",
      "  positive)\n",
      "C:\\Users\\evatr\\Anaconda3\\lib\\site-packages\\sklearn\\linear_model\\coordinate_descent.py:475: ConvergenceWarning: Objective did not converge. You might want to increase the number of iterations. Duality gap: 10.844913482666016, tolerance: 0.0055643608793616295\n",
      "  positive)\n",
      "C:\\Users\\evatr\\Anaconda3\\lib\\site-packages\\sklearn\\linear_model\\coordinate_descent.py:475: ConvergenceWarning: Objective did not converge. You might want to increase the number of iterations. Duality gap: 6.589443683624268, tolerance: 0.003013787092640996\n",
      "  positive)\n",
      "C:\\Users\\evatr\\Anaconda3\\lib\\site-packages\\sklearn\\linear_model\\coordinate_descent.py:475: ConvergenceWarning: Objective did not converge. You might want to increase the number of iterations. Duality gap: 5.766079425811768, tolerance: 0.0029658894054591656\n",
      "  positive)\n",
      "C:\\Users\\evatr\\Anaconda3\\lib\\site-packages\\sklearn\\linear_model\\coordinate_descent.py:475: ConvergenceWarning: Objective did not converge. You might want to increase the number of iterations. Duality gap: 7.832150936126709, tolerance: 0.003986123017966747\n",
      "  positive)\n",
      "C:\\Users\\evatr\\Anaconda3\\lib\\site-packages\\sklearn\\linear_model\\coordinate_descent.py:475: ConvergenceWarning: Objective did not converge. You might want to increase the number of iterations. Duality gap: 5.988837242126465, tolerance: 0.002897718222811818\n",
      "  positive)\n",
      "C:\\Users\\evatr\\Anaconda3\\lib\\site-packages\\sklearn\\linear_model\\coordinate_descent.py:475: ConvergenceWarning: Objective did not converge. You might want to increase the number of iterations. Duality gap: 5.90642786026001, tolerance: 0.004051520489156246\n",
      "  positive)\n",
      "C:\\Users\\evatr\\Anaconda3\\lib\\site-packages\\sklearn\\linear_model\\coordinate_descent.py:475: ConvergenceWarning: Objective did not converge. You might want to increase the number of iterations. Duality gap: 4.952671527862549, tolerance: 0.0036042844876646996\n",
      "  positive)\n",
      "C:\\Users\\evatr\\Anaconda3\\lib\\site-packages\\sklearn\\linear_model\\coordinate_descent.py:475: ConvergenceWarning: Objective did not converge. You might want to increase the number of iterations. Duality gap: 4.467250347137451, tolerance: 0.0020658541470766068\n",
      "  positive)\n",
      "C:\\Users\\evatr\\Anaconda3\\lib\\site-packages\\sklearn\\linear_model\\coordinate_descent.py:475: ConvergenceWarning: Objective did not converge. You might want to increase the number of iterations. Duality gap: 4.013863563537598, tolerance: 0.00303941429592669\n",
      "  positive)\n",
      "C:\\Users\\evatr\\Anaconda3\\lib\\site-packages\\sklearn\\linear_model\\coordinate_descent.py:475: ConvergenceWarning: Objective did not converge. You might want to increase the number of iterations. Duality gap: 10.666763305664062, tolerance: 0.009391329251229763\n",
      "  positive)\n",
      "C:\\Users\\evatr\\Anaconda3\\lib\\site-packages\\sklearn\\linear_model\\coordinate_descent.py:475: ConvergenceWarning: Objective did not converge. You might want to increase the number of iterations. Duality gap: 5.557199478149414, tolerance: 0.003050815314054489\n",
      "  positive)\n",
      "C:\\Users\\evatr\\Anaconda3\\lib\\site-packages\\sklearn\\linear_model\\coordinate_descent.py:475: ConvergenceWarning: Objective did not converge. You might want to increase the number of iterations. Duality gap: 6.390797138214111, tolerance: 0.0030951290391385555\n",
      "  positive)\n",
      "C:\\Users\\evatr\\Anaconda3\\lib\\site-packages\\sklearn\\linear_model\\coordinate_descent.py:475: ConvergenceWarning: Objective did not converge. You might want to increase the number of iterations. Duality gap: 5.460566520690918, tolerance: 0.0033518255222588778\n",
      "  positive)\n",
      "C:\\Users\\evatr\\Anaconda3\\lib\\site-packages\\sklearn\\linear_model\\coordinate_descent.py:475: ConvergenceWarning: Objective did not converge. You might want to increase the number of iterations. Duality gap: 10.003053665161133, tolerance: 0.005026691127568483\n",
      "  positive)\n",
      "C:\\Users\\evatr\\Anaconda3\\lib\\site-packages\\sklearn\\linear_model\\coordinate_descent.py:475: ConvergenceWarning: Objective did not converge. You might want to increase the number of iterations. Duality gap: 9.937031745910645, tolerance: 0.00639584194868803\n",
      "  positive)\n",
      "C:\\Users\\evatr\\Anaconda3\\lib\\site-packages\\sklearn\\linear_model\\coordinate_descent.py:475: ConvergenceWarning: Objective did not converge. You might want to increase the number of iterations. Duality gap: 5.976795196533203, tolerance: 0.003047857666388154\n",
      "  positive)\n",
      "C:\\Users\\evatr\\Anaconda3\\lib\\site-packages\\sklearn\\linear_model\\coordinate_descent.py:475: ConvergenceWarning: Objective did not converge. You might want to increase the number of iterations. Duality gap: 8.580888748168945, tolerance: 0.007483295165002346\n",
      "  positive)\n",
      "C:\\Users\\evatr\\Anaconda3\\lib\\site-packages\\sklearn\\linear_model\\coordinate_descent.py:475: ConvergenceWarning: Objective did not converge. You might want to increase the number of iterations. Duality gap: 5.421217441558838, tolerance: 0.0031030105892568827\n",
      "  positive)\n",
      "C:\\Users\\evatr\\Anaconda3\\lib\\site-packages\\sklearn\\linear_model\\coordinate_descent.py:475: ConvergenceWarning: Objective did not converge. You might want to increase the number of iterations. Duality gap: 5.240050792694092, tolerance: 0.0038041372317820787\n",
      "  positive)\n",
      "C:\\Users\\evatr\\Anaconda3\\lib\\site-packages\\sklearn\\linear_model\\coordinate_descent.py:475: ConvergenceWarning: Objective did not converge. You might want to increase the number of iterations. Duality gap: 4.919856071472168, tolerance: 0.0030476993415504694\n",
      "  positive)\n",
      "C:\\Users\\evatr\\Anaconda3\\lib\\site-packages\\sklearn\\linear_model\\coordinate_descent.py:475: ConvergenceWarning: Objective did not converge. You might want to increase the number of iterations. Duality gap: 4.454727649688721, tolerance: 0.0018951949896290898\n",
      "  positive)\n",
      "C:\\Users\\evatr\\Anaconda3\\lib\\site-packages\\sklearn\\linear_model\\coordinate_descent.py:475: ConvergenceWarning: Objective did not converge. You might want to increase the number of iterations. Duality gap: 5.441332817077637, tolerance: 0.002706872532144189\n",
      "  positive)\n"
     ]
    },
    {
     "name": "stderr",
     "output_type": "stream",
     "text": [
      "C:\\Users\\evatr\\Anaconda3\\lib\\site-packages\\sklearn\\linear_model\\coordinate_descent.py:475: ConvergenceWarning: Objective did not converge. You might want to increase the number of iterations. Duality gap: 6.34655237197876, tolerance: 0.004093493334949017\n",
      "  positive)\n",
      "C:\\Users\\evatr\\Anaconda3\\lib\\site-packages\\sklearn\\linear_model\\coordinate_descent.py:475: ConvergenceWarning: Objective did not converge. You might want to increase the number of iterations. Duality gap: 7.660140514373779, tolerance: 0.003935432992875576\n",
      "  positive)\n",
      "C:\\Users\\evatr\\Anaconda3\\lib\\site-packages\\sklearn\\linear_model\\coordinate_descent.py:475: ConvergenceWarning: Objective did not converge. You might want to increase the number of iterations. Duality gap: 11.018454551696777, tolerance: 0.006939701735973358\n",
      "  positive)\n",
      "C:\\Users\\evatr\\Anaconda3\\lib\\site-packages\\sklearn\\linear_model\\coordinate_descent.py:475: ConvergenceWarning: Objective did not converge. You might want to increase the number of iterations. Duality gap: 8.362271308898926, tolerance: 0.006049084477126598\n",
      "  positive)\n",
      "C:\\Users\\evatr\\Anaconda3\\lib\\site-packages\\sklearn\\linear_model\\coordinate_descent.py:475: ConvergenceWarning: Objective did not converge. You might want to increase the number of iterations. Duality gap: 6.477578163146973, tolerance: 0.0038159582763910294\n",
      "  positive)\n",
      "C:\\Users\\evatr\\Anaconda3\\lib\\site-packages\\sklearn\\linear_model\\coordinate_descent.py:475: ConvergenceWarning: Objective did not converge. You might want to increase the number of iterations. Duality gap: 10.783111572265625, tolerance: 0.007188478484749794\n",
      "  positive)\n",
      "C:\\Users\\evatr\\Anaconda3\\lib\\site-packages\\sklearn\\linear_model\\coordinate_descent.py:475: ConvergenceWarning: Objective did not converge. You might want to increase the number of iterations. Duality gap: 3.548675298690796, tolerance: 0.0025803553871810436\n",
      "  positive)\n",
      "C:\\Users\\evatr\\Anaconda3\\lib\\site-packages\\sklearn\\linear_model\\coordinate_descent.py:475: ConvergenceWarning: Objective did not converge. You might want to increase the number of iterations. Duality gap: 8.53124713897705, tolerance: 0.005336913745850325\n",
      "  positive)\n",
      "C:\\Users\\evatr\\Anaconda3\\lib\\site-packages\\sklearn\\linear_model\\coordinate_descent.py:475: ConvergenceWarning: Objective did not converge. You might want to increase the number of iterations. Duality gap: 4.952723026275635, tolerance: 0.002794093918055296\n",
      "  positive)\n",
      "C:\\Users\\evatr\\Anaconda3\\lib\\site-packages\\sklearn\\linear_model\\coordinate_descent.py:475: ConvergenceWarning: Objective did not converge. You might want to increase the number of iterations. Duality gap: 5.955645561218262, tolerance: 0.004517347551882267\n",
      "  positive)\n",
      "C:\\Users\\evatr\\Anaconda3\\lib\\site-packages\\sklearn\\linear_model\\coordinate_descent.py:475: ConvergenceWarning: Objective did not converge. You might want to increase the number of iterations. Duality gap: 4.100050926208496, tolerance: 0.002385105239227414\n",
      "  positive)\n",
      "C:\\Users\\evatr\\Anaconda3\\lib\\site-packages\\sklearn\\linear_model\\coordinate_descent.py:475: ConvergenceWarning: Objective did not converge. You might want to increase the number of iterations. Duality gap: 4.833684921264648, tolerance: 0.00332618854008615\n",
      "  positive)\n",
      "C:\\Users\\evatr\\Anaconda3\\lib\\site-packages\\sklearn\\linear_model\\coordinate_descent.py:475: ConvergenceWarning: Objective did not converge. You might want to increase the number of iterations. Duality gap: 5.909096717834473, tolerance: 0.0028938620816916227\n",
      "  positive)\n",
      "C:\\Users\\evatr\\Anaconda3\\lib\\site-packages\\sklearn\\linear_model\\coordinate_descent.py:475: ConvergenceWarning: Objective did not converge. You might want to increase the number of iterations. Duality gap: 6.35078239440918, tolerance: 0.003594816429540515\n",
      "  positive)\n",
      "C:\\Users\\evatr\\Anaconda3\\lib\\site-packages\\sklearn\\linear_model\\coordinate_descent.py:475: ConvergenceWarning: Objective did not converge. You might want to increase the number of iterations. Duality gap: 10.632791519165039, tolerance: 0.008240778930485249\n",
      "  positive)\n",
      "C:\\Users\\evatr\\Anaconda3\\lib\\site-packages\\sklearn\\linear_model\\coordinate_descent.py:475: ConvergenceWarning: Objective did not converge. You might want to increase the number of iterations. Duality gap: 9.025334358215332, tolerance: 0.008399559184908867\n",
      "  positive)\n",
      "C:\\Users\\evatr\\Anaconda3\\lib\\site-packages\\sklearn\\linear_model\\coordinate_descent.py:475: ConvergenceWarning: Objective did not converge. You might want to increase the number of iterations. Duality gap: 5.3024678230285645, tolerance: 0.002370715606957674\n",
      "  positive)\n",
      "C:\\Users\\evatr\\Anaconda3\\lib\\site-packages\\sklearn\\linear_model\\coordinate_descent.py:475: ConvergenceWarning: Objective did not converge. You might want to increase the number of iterations. Duality gap: 5.40599250793457, tolerance: 0.0031756118405610323\n",
      "  positive)\n",
      "C:\\Users\\evatr\\Anaconda3\\lib\\site-packages\\sklearn\\linear_model\\coordinate_descent.py:475: ConvergenceWarning: Objective did not converge. You might want to increase the number of iterations. Duality gap: 8.775338172912598, tolerance: 0.005177464801818132\n",
      "  positive)\n",
      "C:\\Users\\evatr\\Anaconda3\\lib\\site-packages\\sklearn\\linear_model\\coordinate_descent.py:475: ConvergenceWarning: Objective did not converge. You might want to increase the number of iterations. Duality gap: 4.446678161621094, tolerance: 0.003604533616453409\n",
      "  positive)\n",
      "C:\\Users\\evatr\\Anaconda3\\lib\\site-packages\\sklearn\\linear_model\\coordinate_descent.py:475: ConvergenceWarning: Objective did not converge. You might want to increase the number of iterations. Duality gap: 6.502078056335449, tolerance: 0.00433335080742836\n",
      "  positive)\n",
      "C:\\Users\\evatr\\Anaconda3\\lib\\site-packages\\sklearn\\linear_model\\coordinate_descent.py:475: ConvergenceWarning: Objective did not converge. You might want to increase the number of iterations. Duality gap: 7.6032843589782715, tolerance: 0.005727637093514204\n",
      "  positive)\n",
      "C:\\Users\\evatr\\Anaconda3\\lib\\site-packages\\sklearn\\linear_model\\coordinate_descent.py:475: ConvergenceWarning: Objective did not converge. You might want to increase the number of iterations. Duality gap: 8.078229904174805, tolerance: 0.00519541185349226\n",
      "  positive)\n",
      "C:\\Users\\evatr\\Anaconda3\\lib\\site-packages\\sklearn\\linear_model\\coordinate_descent.py:475: ConvergenceWarning: Objective did not converge. You might want to increase the number of iterations. Duality gap: 8.999032020568848, tolerance: 0.005191710311919451\n",
      "  positive)\n",
      "C:\\Users\\evatr\\Anaconda3\\lib\\site-packages\\sklearn\\linear_model\\coordinate_descent.py:475: ConvergenceWarning: Objective did not converge. You might want to increase the number of iterations. Duality gap: 17.803279876708984, tolerance: 0.017000028863549232\n",
      "  positive)\n",
      "C:\\Users\\evatr\\Anaconda3\\lib\\site-packages\\sklearn\\linear_model\\coordinate_descent.py:475: ConvergenceWarning: Objective did not converge. You might want to increase the number of iterations. Duality gap: 5.339552402496338, tolerance: 0.002278900006785989\n",
      "  positive)\n",
      "C:\\Users\\evatr\\Anaconda3\\lib\\site-packages\\sklearn\\linear_model\\coordinate_descent.py:475: ConvergenceWarning: Objective did not converge. You might want to increase the number of iterations. Duality gap: 4.110492706298828, tolerance: 0.0021793486084789038\n",
      "  positive)\n",
      "C:\\Users\\evatr\\Anaconda3\\lib\\site-packages\\sklearn\\linear_model\\coordinate_descent.py:475: ConvergenceWarning: Objective did not converge. You might want to increase the number of iterations. Duality gap: 7.8060221672058105, tolerance: 0.004519253503531218\n",
      "  positive)\n",
      "C:\\Users\\evatr\\Anaconda3\\lib\\site-packages\\sklearn\\linear_model\\coordinate_descent.py:475: ConvergenceWarning: Objective did not converge. You might want to increase the number of iterations. Duality gap: 8.823463439941406, tolerance: 0.008136158809065819\n",
      "  positive)\n",
      "C:\\Users\\evatr\\Anaconda3\\lib\\site-packages\\sklearn\\linear_model\\coordinate_descent.py:475: ConvergenceWarning: Objective did not converge. You might want to increase the number of iterations. Duality gap: 4.55462646484375, tolerance: 0.002370558911934495\n",
      "  positive)\n",
      "C:\\Users\\evatr\\Anaconda3\\lib\\site-packages\\sklearn\\linear_model\\coordinate_descent.py:475: ConvergenceWarning: Objective did not converge. You might want to increase the number of iterations. Duality gap: 13.538909912109375, tolerance: 0.01017710193991661\n",
      "  positive)\n"
     ]
    },
    {
     "name": "stderr",
     "output_type": "stream",
     "text": [
      "C:\\Users\\evatr\\Anaconda3\\lib\\site-packages\\sklearn\\linear_model\\coordinate_descent.py:475: ConvergenceWarning: Objective did not converge. You might want to increase the number of iterations. Duality gap: 12.273722648620605, tolerance: 0.009189294651150703\n",
      "  positive)\n",
      "C:\\Users\\evatr\\Anaconda3\\lib\\site-packages\\sklearn\\linear_model\\coordinate_descent.py:475: ConvergenceWarning: Objective did not converge. You might want to increase the number of iterations. Duality gap: 8.42491340637207, tolerance: 0.0065773893147706985\n",
      "  positive)\n",
      "C:\\Users\\evatr\\Anaconda3\\lib\\site-packages\\sklearn\\linear_model\\coordinate_descent.py:475: ConvergenceWarning: Objective did not converge. You might want to increase the number of iterations. Duality gap: 5.458651065826416, tolerance: 0.0029879093635827303\n",
      "  positive)\n",
      "C:\\Users\\evatr\\Anaconda3\\lib\\site-packages\\sklearn\\linear_model\\coordinate_descent.py:475: ConvergenceWarning: Objective did not converge. You might want to increase the number of iterations. Duality gap: 6.521994590759277, tolerance: 0.004831349011510611\n",
      "  positive)\n",
      "C:\\Users\\evatr\\Anaconda3\\lib\\site-packages\\sklearn\\linear_model\\coordinate_descent.py:475: ConvergenceWarning: Objective did not converge. You might want to increase the number of iterations. Duality gap: 8.79348373413086, tolerance: 0.005999650340527296\n",
      "  positive)\n",
      "C:\\Users\\evatr\\Anaconda3\\lib\\site-packages\\sklearn\\linear_model\\coordinate_descent.py:475: ConvergenceWarning: Objective did not converge. You might want to increase the number of iterations. Duality gap: 11.764859199523926, tolerance: 0.008989036083221436\n",
      "  positive)\n",
      "C:\\Users\\evatr\\Anaconda3\\lib\\site-packages\\sklearn\\linear_model\\coordinate_descent.py:475: ConvergenceWarning: Objective did not converge. You might want to increase the number of iterations. Duality gap: 7.361346244812012, tolerance: 0.00561119057238102\n",
      "  positive)\n",
      "C:\\Users\\evatr\\Anaconda3\\lib\\site-packages\\sklearn\\linear_model\\coordinate_descent.py:475: ConvergenceWarning: Objective did not converge. You might want to increase the number of iterations. Duality gap: 7.647575378417969, tolerance: 0.004720123950392008\n",
      "  positive)\n",
      "C:\\Users\\evatr\\Anaconda3\\lib\\site-packages\\sklearn\\linear_model\\coordinate_descent.py:475: ConvergenceWarning: Objective did not converge. You might want to increase the number of iterations. Duality gap: 3.469104766845703, tolerance: 0.0024387214798480272\n",
      "  positive)\n",
      "C:\\Users\\evatr\\Anaconda3\\lib\\site-packages\\sklearn\\linear_model\\coordinate_descent.py:475: ConvergenceWarning: Objective did not converge. You might want to increase the number of iterations. Duality gap: 13.194135665893555, tolerance: 0.00686365133151412\n",
      "  positive)\n",
      "C:\\Users\\evatr\\Anaconda3\\lib\\site-packages\\sklearn\\linear_model\\coordinate_descent.py:475: ConvergenceWarning: Objective did not converge. You might want to increase the number of iterations. Duality gap: 4.344199180603027, tolerance: 0.002850399585440755\n",
      "  positive)\n",
      "C:\\Users\\evatr\\Anaconda3\\lib\\site-packages\\sklearn\\linear_model\\coordinate_descent.py:475: ConvergenceWarning: Objective did not converge. You might want to increase the number of iterations. Duality gap: 8.715840339660645, tolerance: 0.007004839833825827\n",
      "  positive)\n",
      "C:\\Users\\evatr\\Anaconda3\\lib\\site-packages\\sklearn\\linear_model\\coordinate_descent.py:475: ConvergenceWarning: Objective did not converge. You might want to increase the number of iterations. Duality gap: 4.015105247497559, tolerance: 0.002413019072264433\n",
      "  positive)\n",
      "C:\\Users\\evatr\\Anaconda3\\lib\\site-packages\\sklearn\\linear_model\\coordinate_descent.py:475: ConvergenceWarning: Objective did not converge. You might want to increase the number of iterations. Duality gap: 6.358231067657471, tolerance: 0.004759136121720076\n",
      "  positive)\n",
      "C:\\Users\\evatr\\Anaconda3\\lib\\site-packages\\sklearn\\linear_model\\coordinate_descent.py:475: ConvergenceWarning: Objective did not converge. You might want to increase the number of iterations. Duality gap: 4.719873905181885, tolerance: 0.0021353468764573336\n",
      "  positive)\n",
      "C:\\Users\\evatr\\Anaconda3\\lib\\site-packages\\sklearn\\linear_model\\coordinate_descent.py:475: ConvergenceWarning: Objective did not converge. You might want to increase the number of iterations. Duality gap: 4.4831862449646, tolerance: 0.0028611444868147373\n",
      "  positive)\n",
      "C:\\Users\\evatr\\Anaconda3\\lib\\site-packages\\sklearn\\linear_model\\coordinate_descent.py:475: ConvergenceWarning: Objective did not converge. You might want to increase the number of iterations. Duality gap: 9.152461051940918, tolerance: 0.005709832068532705\n",
      "  positive)\n",
      "C:\\Users\\evatr\\Anaconda3\\lib\\site-packages\\sklearn\\linear_model\\coordinate_descent.py:475: ConvergenceWarning: Objective did not converge. You might want to increase the number of iterations. Duality gap: 9.451428413391113, tolerance: 0.005738569423556328\n",
      "  positive)\n",
      "C:\\Users\\evatr\\Anaconda3\\lib\\site-packages\\sklearn\\linear_model\\coordinate_descent.py:475: ConvergenceWarning: Objective did not converge. You might want to increase the number of iterations. Duality gap: 5.987738132476807, tolerance: 0.004244698677212\n",
      "  positive)\n",
      "C:\\Users\\evatr\\Anaconda3\\lib\\site-packages\\sklearn\\linear_model\\coordinate_descent.py:475: ConvergenceWarning: Objective did not converge. You might want to increase the number of iterations. Duality gap: 8.631561279296875, tolerance: 0.007238522171974182\n",
      "  positive)\n",
      "C:\\Users\\evatr\\Anaconda3\\lib\\site-packages\\sklearn\\linear_model\\coordinate_descent.py:475: ConvergenceWarning: Objective did not converge. You might want to increase the number of iterations. Duality gap: 4.058700084686279, tolerance: 0.0025552583392709494\n",
      "  positive)\n",
      "C:\\Users\\evatr\\Anaconda3\\lib\\site-packages\\sklearn\\linear_model\\coordinate_descent.py:475: ConvergenceWarning: Objective did not converge. You might want to increase the number of iterations. Duality gap: 4.5056891441345215, tolerance: 0.0026453486643731594\n",
      "  positive)\n",
      "C:\\Users\\evatr\\Anaconda3\\lib\\site-packages\\sklearn\\linear_model\\coordinate_descent.py:475: ConvergenceWarning: Objective did not converge. You might want to increase the number of iterations. Duality gap: 4.392655849456787, tolerance: 0.0028491008561104536\n",
      "  positive)\n",
      "C:\\Users\\evatr\\Anaconda3\\lib\\site-packages\\sklearn\\linear_model\\coordinate_descent.py:475: ConvergenceWarning: Objective did not converge. You might want to increase the number of iterations. Duality gap: 8.386937141418457, tolerance: 0.004638682119548321\n",
      "  positive)\n",
      "C:\\Users\\evatr\\Anaconda3\\lib\\site-packages\\sklearn\\linear_model\\coordinate_descent.py:475: ConvergenceWarning: Objective did not converge. You might want to increase the number of iterations. Duality gap: 5.566186904907227, tolerance: 0.005115961655974388\n",
      "  positive)\n",
      "C:\\Users\\evatr\\Anaconda3\\lib\\site-packages\\sklearn\\linear_model\\coordinate_descent.py:475: ConvergenceWarning: Objective did not converge. You might want to increase the number of iterations. Duality gap: 6.892995834350586, tolerance: 0.004491743165999651\n",
      "  positive)\n",
      "C:\\Users\\evatr\\Anaconda3\\lib\\site-packages\\sklearn\\linear_model\\coordinate_descent.py:475: ConvergenceWarning: Objective did not converge. You might want to increase the number of iterations. Duality gap: 5.105772018432617, tolerance: 0.003460903884842992\n",
      "  positive)\n",
      "C:\\Users\\evatr\\Anaconda3\\lib\\site-packages\\sklearn\\linear_model\\coordinate_descent.py:475: ConvergenceWarning: Objective did not converge. You might want to increase the number of iterations. Duality gap: 6.724474906921387, tolerance: 0.004302839748561382\n",
      "  positive)\n",
      "C:\\Users\\evatr\\Anaconda3\\lib\\site-packages\\sklearn\\linear_model\\coordinate_descent.py:475: ConvergenceWarning: Objective did not converge. You might want to increase the number of iterations. Duality gap: 6.356936931610107, tolerance: 0.003778535407036543\n",
      "  positive)\n",
      "C:\\Users\\evatr\\Anaconda3\\lib\\site-packages\\sklearn\\linear_model\\coordinate_descent.py:475: ConvergenceWarning: Objective did not converge. You might want to increase the number of iterations. Duality gap: 8.572561264038086, tolerance: 0.005216497462242842\n",
      "  positive)\n",
      "C:\\Users\\evatr\\Anaconda3\\lib\\site-packages\\sklearn\\linear_model\\coordinate_descent.py:475: ConvergenceWarning: Objective did not converge. You might want to increase the number of iterations. Duality gap: 5.410491466522217, tolerance: 0.0034278747625648975\n",
      "  positive)\n"
     ]
    },
    {
     "name": "stderr",
     "output_type": "stream",
     "text": [
      "C:\\Users\\evatr\\Anaconda3\\lib\\site-packages\\sklearn\\linear_model\\coordinate_descent.py:475: ConvergenceWarning: Objective did not converge. You might want to increase the number of iterations. Duality gap: 8.143391609191895, tolerance: 0.004558179993182421\n",
      "  positive)\n",
      "C:\\Users\\evatr\\Anaconda3\\lib\\site-packages\\sklearn\\linear_model\\coordinate_descent.py:475: ConvergenceWarning: Objective did not converge. You might want to increase the number of iterations. Duality gap: 7.0574951171875, tolerance: 0.004493764601647854\n",
      "  positive)\n",
      "C:\\Users\\evatr\\Anaconda3\\lib\\site-packages\\sklearn\\linear_model\\coordinate_descent.py:475: ConvergenceWarning: Objective did not converge. You might want to increase the number of iterations. Duality gap: 7.362415313720703, tolerance: 0.006366900634020567\n",
      "  positive)\n",
      "C:\\Users\\evatr\\Anaconda3\\lib\\site-packages\\sklearn\\linear_model\\coordinate_descent.py:475: ConvergenceWarning: Objective did not converge. You might want to increase the number of iterations. Duality gap: 6.096592426300049, tolerance: 0.0037761060521006584\n",
      "  positive)\n",
      "C:\\Users\\evatr\\Anaconda3\\lib\\site-packages\\sklearn\\linear_model\\coordinate_descent.py:475: ConvergenceWarning: Objective did not converge. You might want to increase the number of iterations. Duality gap: 10.589529037475586, tolerance: 0.008065312169492245\n",
      "  positive)\n",
      "C:\\Users\\evatr\\Anaconda3\\lib\\site-packages\\sklearn\\linear_model\\coordinate_descent.py:475: ConvergenceWarning: Objective did not converge. You might want to increase the number of iterations. Duality gap: 4.882487773895264, tolerance: 0.0036624709609895945\n",
      "  positive)\n",
      "C:\\Users\\evatr\\Anaconda3\\lib\\site-packages\\sklearn\\linear_model\\coordinate_descent.py:475: ConvergenceWarning: Objective did not converge. You might want to increase the number of iterations. Duality gap: 6.751140117645264, tolerance: 0.003994296304881573\n",
      "  positive)\n",
      "C:\\Users\\evatr\\Anaconda3\\lib\\site-packages\\sklearn\\linear_model\\coordinate_descent.py:475: ConvergenceWarning: Objective did not converge. You might want to increase the number of iterations. Duality gap: 9.548750877380371, tolerance: 0.006215524859726429\n",
      "  positive)\n",
      "C:\\Users\\evatr\\Anaconda3\\lib\\site-packages\\sklearn\\linear_model\\coordinate_descent.py:475: ConvergenceWarning: Objective did not converge. You might want to increase the number of iterations. Duality gap: 6.54954719543457, tolerance: 0.0038035879842936993\n",
      "  positive)\n",
      "C:\\Users\\evatr\\Anaconda3\\lib\\site-packages\\sklearn\\linear_model\\coordinate_descent.py:475: ConvergenceWarning: Objective did not converge. You might want to increase the number of iterations. Duality gap: 4.44898796081543, tolerance: 0.0029766203369945288\n",
      "  positive)\n",
      "C:\\Users\\evatr\\Anaconda3\\lib\\site-packages\\sklearn\\linear_model\\coordinate_descent.py:475: ConvergenceWarning: Objective did not converge. You might want to increase the number of iterations. Duality gap: 10.099264144897461, tolerance: 0.006634412333369255\n",
      "  positive)\n",
      "C:\\Users\\evatr\\Anaconda3\\lib\\site-packages\\sklearn\\linear_model\\coordinate_descent.py:475: ConvergenceWarning: Objective did not converge. You might want to increase the number of iterations. Duality gap: 9.31024169921875, tolerance: 0.006202604155987501\n",
      "  positive)\n",
      "C:\\Users\\evatr\\Anaconda3\\lib\\site-packages\\sklearn\\linear_model\\coordinate_descent.py:475: ConvergenceWarning: Objective did not converge. You might want to increase the number of iterations. Duality gap: 7.958085536956787, tolerance: 0.005967540666460991\n",
      "  positive)\n",
      "C:\\Users\\evatr\\Anaconda3\\lib\\site-packages\\sklearn\\linear_model\\coordinate_descent.py:475: ConvergenceWarning: Objective did not converge. You might want to increase the number of iterations. Duality gap: 6.644121170043945, tolerance: 0.00497232424095273\n",
      "  positive)\n",
      "C:\\Users\\evatr\\Anaconda3\\lib\\site-packages\\sklearn\\linear_model\\coordinate_descent.py:475: ConvergenceWarning: Objective did not converge. You might want to increase the number of iterations. Duality gap: 8.675070762634277, tolerance: 0.00765426317229867\n",
      "  positive)\n",
      "C:\\Users\\evatr\\Anaconda3\\lib\\site-packages\\sklearn\\linear_model\\coordinate_descent.py:475: ConvergenceWarning: Objective did not converge. You might want to increase the number of iterations. Duality gap: 6.5714240074157715, tolerance: 0.004460041411221027\n",
      "  positive)\n",
      "C:\\Users\\evatr\\Anaconda3\\lib\\site-packages\\sklearn\\linear_model\\coordinate_descent.py:475: ConvergenceWarning: Objective did not converge. You might want to increase the number of iterations. Duality gap: 5.6767730712890625, tolerance: 0.0035924918483942747\n",
      "  positive)\n",
      "C:\\Users\\evatr\\Anaconda3\\lib\\site-packages\\sklearn\\linear_model\\coordinate_descent.py:475: ConvergenceWarning: Objective did not converge. You might want to increase the number of iterations. Duality gap: 8.919991493225098, tolerance: 0.006935332901775837\n",
      "  positive)\n",
      "C:\\Users\\evatr\\Anaconda3\\lib\\site-packages\\sklearn\\linear_model\\coordinate_descent.py:475: ConvergenceWarning: Objective did not converge. You might want to increase the number of iterations. Duality gap: 6.88162088394165, tolerance: 0.003777129342779517\n",
      "  positive)\n",
      "C:\\Users\\evatr\\Anaconda3\\lib\\site-packages\\sklearn\\linear_model\\coordinate_descent.py:475: ConvergenceWarning: Objective did not converge. You might want to increase the number of iterations. Duality gap: 8.023967742919922, tolerance: 0.005526038818061352\n",
      "  positive)\n",
      "C:\\Users\\evatr\\Anaconda3\\lib\\site-packages\\sklearn\\linear_model\\coordinate_descent.py:475: ConvergenceWarning: Objective did not converge. You might want to increase the number of iterations. Duality gap: 9.669548034667969, tolerance: 0.00608085747808218\n",
      "  positive)\n",
      "C:\\Users\\evatr\\Anaconda3\\lib\\site-packages\\sklearn\\linear_model\\coordinate_descent.py:475: ConvergenceWarning: Objective did not converge. You might want to increase the number of iterations. Duality gap: 6.091026782989502, tolerance: 0.003684885334223509\n",
      "  positive)\n",
      "C:\\Users\\evatr\\Anaconda3\\lib\\site-packages\\sklearn\\linear_model\\coordinate_descent.py:475: ConvergenceWarning: Objective did not converge. You might want to increase the number of iterations. Duality gap: 3.9354662895202637, tolerance: 0.0020659880246967077\n",
      "  positive)\n",
      "C:\\Users\\evatr\\Anaconda3\\lib\\site-packages\\sklearn\\linear_model\\coordinate_descent.py:475: ConvergenceWarning: Objective did not converge. You might want to increase the number of iterations. Duality gap: 6.920107841491699, tolerance: 0.00419275788590312\n",
      "  positive)\n",
      "C:\\Users\\evatr\\Anaconda3\\lib\\site-packages\\sklearn\\linear_model\\coordinate_descent.py:475: ConvergenceWarning: Objective did not converge. You might want to increase the number of iterations. Duality gap: 6.286840915679932, tolerance: 0.004806721583008766\n",
      "  positive)\n",
      "C:\\Users\\evatr\\Anaconda3\\lib\\site-packages\\sklearn\\linear_model\\coordinate_descent.py:475: ConvergenceWarning: Objective did not converge. You might want to increase the number of iterations. Duality gap: 5.746860027313232, tolerance: 0.0032015363685786724\n",
      "  positive)\n",
      "C:\\Users\\evatr\\Anaconda3\\lib\\site-packages\\sklearn\\linear_model\\coordinate_descent.py:475: ConvergenceWarning: Objective did not converge. You might want to increase the number of iterations. Duality gap: 9.322198867797852, tolerance: 0.005692646838724613\n",
      "  positive)\n",
      "C:\\Users\\evatr\\Anaconda3\\lib\\site-packages\\sklearn\\linear_model\\coordinate_descent.py:475: ConvergenceWarning: Objective did not converge. You might want to increase the number of iterations. Duality gap: 5.297728538513184, tolerance: 0.0032190221827477217\n",
      "  positive)\n",
      "C:\\Users\\evatr\\Anaconda3\\lib\\site-packages\\sklearn\\linear_model\\coordinate_descent.py:475: ConvergenceWarning: Objective did not converge. You might want to increase the number of iterations. Duality gap: 3.888704538345337, tolerance: 0.0021188685204833746\n",
      "  positive)\n",
      "C:\\Users\\evatr\\Anaconda3\\lib\\site-packages\\sklearn\\linear_model\\coordinate_descent.py:475: ConvergenceWarning: Objective did not converge. You might want to increase the number of iterations. Duality gap: 3.8573920726776123, tolerance: 0.0028958877082914114\n",
      "  positive)\n",
      "C:\\Users\\evatr\\Anaconda3\\lib\\site-packages\\sklearn\\linear_model\\coordinate_descent.py:475: ConvergenceWarning: Objective did not converge. You might want to increase the number of iterations. Duality gap: 5.144996166229248, tolerance: 0.0027254174929112196\n",
      "  positive)\n"
     ]
    },
    {
     "name": "stderr",
     "output_type": "stream",
     "text": [
      "C:\\Users\\evatr\\Anaconda3\\lib\\site-packages\\sklearn\\linear_model\\coordinate_descent.py:475: ConvergenceWarning: Objective did not converge. You might want to increase the number of iterations. Duality gap: 7.041707515716553, tolerance: 0.006197438575327396\n",
      "  positive)\n",
      "C:\\Users\\evatr\\Anaconda3\\lib\\site-packages\\sklearn\\linear_model\\coordinate_descent.py:475: ConvergenceWarning: Objective did not converge. You might want to increase the number of iterations. Duality gap: 5.575568675994873, tolerance: 0.0033398268278688192\n",
      "  positive)\n",
      "C:\\Users\\evatr\\Anaconda3\\lib\\site-packages\\sklearn\\linear_model\\coordinate_descent.py:475: ConvergenceWarning: Objective did not converge. You might want to increase the number of iterations. Duality gap: 6.258236408233643, tolerance: 0.002922915853559971\n",
      "  positive)\n",
      "C:\\Users\\evatr\\Anaconda3\\lib\\site-packages\\sklearn\\linear_model\\coordinate_descent.py:475: ConvergenceWarning: Objective did not converge. You might want to increase the number of iterations. Duality gap: 4.444897651672363, tolerance: 0.0023706224747002125\n",
      "  positive)\n",
      "C:\\Users\\evatr\\Anaconda3\\lib\\site-packages\\sklearn\\linear_model\\coordinate_descent.py:475: ConvergenceWarning: Objective did not converge. You might want to increase the number of iterations. Duality gap: 8.872945785522461, tolerance: 0.006336804013699293\n",
      "  positive)\n",
      "C:\\Users\\evatr\\Anaconda3\\lib\\site-packages\\sklearn\\linear_model\\coordinate_descent.py:475: ConvergenceWarning: Objective did not converge. You might want to increase the number of iterations. Duality gap: 8.28055191040039, tolerance: 0.004514107946306467\n",
      "  positive)\n",
      "C:\\Users\\evatr\\Anaconda3\\lib\\site-packages\\sklearn\\linear_model\\coordinate_descent.py:475: ConvergenceWarning: Objective did not converge. You might want to increase the number of iterations. Duality gap: 4.562294960021973, tolerance: 0.00210949731990695\n",
      "  positive)\n",
      "C:\\Users\\evatr\\Anaconda3\\lib\\site-packages\\sklearn\\linear_model\\coordinate_descent.py:475: ConvergenceWarning: Objective did not converge. You might want to increase the number of iterations. Duality gap: 4.793912410736084, tolerance: 0.003537402953952551\n",
      "  positive)\n",
      "C:\\Users\\evatr\\Anaconda3\\lib\\site-packages\\sklearn\\linear_model\\coordinate_descent.py:475: ConvergenceWarning: Objective did not converge. You might want to increase the number of iterations. Duality gap: 8.139063835144043, tolerance: 0.005113204941153526\n",
      "  positive)\n",
      "C:\\Users\\evatr\\Anaconda3\\lib\\site-packages\\sklearn\\linear_model\\coordinate_descent.py:475: ConvergenceWarning: Objective did not converge. You might want to increase the number of iterations. Duality gap: 8.643569946289062, tolerance: 0.008056028746068478\n",
      "  positive)\n",
      "C:\\Users\\evatr\\Anaconda3\\lib\\site-packages\\sklearn\\linear_model\\coordinate_descent.py:475: ConvergenceWarning: Objective did not converge. You might want to increase the number of iterations. Duality gap: 11.476229667663574, tolerance: 0.006277720909565687\n",
      "  positive)\n",
      "C:\\Users\\evatr\\Anaconda3\\lib\\site-packages\\sklearn\\linear_model\\coordinate_descent.py:475: ConvergenceWarning: Objective did not converge. You might want to increase the number of iterations. Duality gap: 10.54134464263916, tolerance: 0.007048045285046101\n",
      "  positive)\n",
      "C:\\Users\\evatr\\Anaconda3\\lib\\site-packages\\sklearn\\linear_model\\coordinate_descent.py:475: ConvergenceWarning: Objective did not converge. You might want to increase the number of iterations. Duality gap: 5.180875778198242, tolerance: 0.003423693822696805\n",
      "  positive)\n",
      "C:\\Users\\evatr\\Anaconda3\\lib\\site-packages\\sklearn\\linear_model\\coordinate_descent.py:475: ConvergenceWarning: Objective did not converge. You might want to increase the number of iterations. Duality gap: 3.80478835105896, tolerance: 0.001927032833918929\n",
      "  positive)\n",
      "C:\\Users\\evatr\\Anaconda3\\lib\\site-packages\\sklearn\\linear_model\\coordinate_descent.py:475: ConvergenceWarning: Objective did not converge. You might want to increase the number of iterations. Duality gap: 5.868725299835205, tolerance: 0.004753155168145895\n",
      "  positive)\n",
      "C:\\Users\\evatr\\Anaconda3\\lib\\site-packages\\sklearn\\linear_model\\coordinate_descent.py:475: ConvergenceWarning: Objective did not converge. You might want to increase the number of iterations. Duality gap: 6.3839006423950195, tolerance: 0.003526487620547414\n",
      "  positive)\n",
      "C:\\Users\\evatr\\Anaconda3\\lib\\site-packages\\sklearn\\linear_model\\coordinate_descent.py:475: ConvergenceWarning: Objective did not converge. You might want to increase the number of iterations. Duality gap: 11.089714050292969, tolerance: 0.00861714594066143\n",
      "  positive)\n",
      "C:\\Users\\evatr\\Anaconda3\\lib\\site-packages\\sklearn\\linear_model\\coordinate_descent.py:475: ConvergenceWarning: Objective did not converge. You might want to increase the number of iterations. Duality gap: 6.238620281219482, tolerance: 0.003568048356100917\n",
      "  positive)\n",
      "C:\\Users\\evatr\\Anaconda3\\lib\\site-packages\\sklearn\\linear_model\\coordinate_descent.py:475: ConvergenceWarning: Objective did not converge. You might want to increase the number of iterations. Duality gap: 11.773392677307129, tolerance: 0.006873932667076588\n",
      "  positive)\n",
      "C:\\Users\\evatr\\Anaconda3\\lib\\site-packages\\sklearn\\linear_model\\coordinate_descent.py:475: ConvergenceWarning: Objective did not converge. You might want to increase the number of iterations. Duality gap: 6.8236212730407715, tolerance: 0.0037590372376143932\n",
      "  positive)\n",
      "C:\\Users\\evatr\\Anaconda3\\lib\\site-packages\\sklearn\\linear_model\\coordinate_descent.py:475: ConvergenceWarning: Objective did not converge. You might want to increase the number of iterations. Duality gap: 7.581016540527344, tolerance: 0.006123463157564402\n",
      "  positive)\n",
      "C:\\Users\\evatr\\Anaconda3\\lib\\site-packages\\sklearn\\linear_model\\coordinate_descent.py:475: ConvergenceWarning: Objective did not converge. You might want to increase the number of iterations. Duality gap: 8.788187026977539, tolerance: 0.007526994217187166\n",
      "  positive)\n",
      "C:\\Users\\evatr\\Anaconda3\\lib\\site-packages\\sklearn\\linear_model\\coordinate_descent.py:475: ConvergenceWarning: Objective did not converge. You might want to increase the number of iterations. Duality gap: 12.926061630249023, tolerance: 0.009197303093969822\n",
      "  positive)\n",
      "C:\\Users\\evatr\\Anaconda3\\lib\\site-packages\\sklearn\\linear_model\\coordinate_descent.py:475: ConvergenceWarning: Objective did not converge. You might want to increase the number of iterations. Duality gap: 6.822526454925537, tolerance: 0.00667939055711031\n",
      "  positive)\n",
      "C:\\Users\\evatr\\Anaconda3\\lib\\site-packages\\sklearn\\linear_model\\coordinate_descent.py:475: ConvergenceWarning: Objective did not converge. You might want to increase the number of iterations. Duality gap: 8.729369163513184, tolerance: 0.00613598246127367\n",
      "  positive)\n",
      "C:\\Users\\evatr\\Anaconda3\\lib\\site-packages\\sklearn\\linear_model\\coordinate_descent.py:475: ConvergenceWarning: Objective did not converge. You might want to increase the number of iterations. Duality gap: 6.730001449584961, tolerance: 0.0039033018983900547\n",
      "  positive)\n",
      "C:\\Users\\evatr\\Anaconda3\\lib\\site-packages\\sklearn\\linear_model\\coordinate_descent.py:475: ConvergenceWarning: Objective did not converge. You might want to increase the number of iterations. Duality gap: 8.256300926208496, tolerance: 0.005885387305170298\n",
      "  positive)\n",
      "C:\\Users\\evatr\\Anaconda3\\lib\\site-packages\\sklearn\\linear_model\\coordinate_descent.py:475: ConvergenceWarning: Objective did not converge. You might want to increase the number of iterations. Duality gap: 5.64748477935791, tolerance: 0.0045680939219892025\n",
      "  positive)\n",
      "C:\\Users\\evatr\\Anaconda3\\lib\\site-packages\\sklearn\\linear_model\\coordinate_descent.py:475: ConvergenceWarning: Objective did not converge. You might want to increase the number of iterations. Duality gap: 7.016993045806885, tolerance: 0.00366877275519073\n",
      "  positive)\n",
      "C:\\Users\\evatr\\Anaconda3\\lib\\site-packages\\sklearn\\linear_model\\coordinate_descent.py:475: ConvergenceWarning: Objective did not converge. You might want to increase the number of iterations. Duality gap: 8.235695838928223, tolerance: 0.006794688291847706\n",
      "  positive)\n",
      "C:\\Users\\evatr\\Anaconda3\\lib\\site-packages\\sklearn\\linear_model\\coordinate_descent.py:475: ConvergenceWarning: Objective did not converge. You might want to increase the number of iterations. Duality gap: 10.2697114944458, tolerance: 0.008937004953622818\n",
      "  positive)\n"
     ]
    },
    {
     "name": "stderr",
     "output_type": "stream",
     "text": [
      "C:\\Users\\evatr\\Anaconda3\\lib\\site-packages\\sklearn\\linear_model\\coordinate_descent.py:475: ConvergenceWarning: Objective did not converge. You might want to increase the number of iterations. Duality gap: 6.929959297180176, tolerance: 0.005039464682340622\n",
      "  positive)\n",
      "C:\\Users\\evatr\\Anaconda3\\lib\\site-packages\\sklearn\\linear_model\\coordinate_descent.py:475: ConvergenceWarning: Objective did not converge. You might want to increase the number of iterations. Duality gap: 7.887853622436523, tolerance: 0.00701674772426486\n",
      "  positive)\n",
      "C:\\Users\\evatr\\Anaconda3\\lib\\site-packages\\sklearn\\linear_model\\coordinate_descent.py:475: ConvergenceWarning: Objective did not converge. You might want to increase the number of iterations. Duality gap: 4.904018402099609, tolerance: 0.003811337985098362\n",
      "  positive)\n"
     ]
    }
   ],
   "source": [
    "from sklearn.linear_model import Lasso\n",
    "from sklearn.model_selection import GridSearchCV\n",
    "\n",
    "lasso = Lasso()\n",
    "parameters = {'alpha': [1e-15, 1e-10, 1e-8, 1e-4, 1e-3, 1e-2, 1, 5, 10, 20]}\n",
    "lasso_regressor = GridSearchCV(lasso, parameters, scoring='neg_mean_squared_error', cv = 5)\n",
    "lasso_regressor.fit(x_train_dev, train_tags_dev)\n",
    "tag_preds = lasso_regressor.predict(x_test_dev)\n",
    "\n",
    "print(lasso_regressor.best_params_)\n",
    "print(lasso_regressor.best_score_)"
   ]
  },
  {
   "cell_type": "markdown",
   "metadata": {},
   "source": [
    "Best lasso params: {'alpha': 1e-08}\n",
    "-0.0024774808902293445"
   ]
  },
  {
   "cell_type": "markdown",
   "metadata": {},
   "source": [
    "### Ridge Regressor with Cross-Validation "
   ]
  },
  {
   "cell_type": "code",
   "execution_count": 42,
   "metadata": {},
   "outputs": [
    {
     "name": "stdout",
     "output_type": "stream",
     "text": [
      "{'alpha': 1}\n",
      "-0.0024293445982038974\n"
     ]
    }
   ],
   "source": [
    "from sklearn.linear_model import Ridge\n",
    "from sklearn.model_selection import GridSearchCV\n",
    "ridge = Ridge()\n",
    "parameters = {'alpha': [1e-15, 1e-10, 1e-8, 1e-4, 1e-3, 1e-2, 1, 5, 10, 20]}\n",
    "\n",
    "ridge_regressor = GridSearchCV(ridge, parameters, scoring='neg_mean_squared_error', cv = 5)\n",
    "ridge_regressor.fit(x_train_dev, train_tags_dev)\n",
    "tag_preds = ridge_regressor.predict(x_test_dev)\n",
    "\n",
    "print(ridge_regressor.best_params_)\n",
    "print(ridge_regressor.best_score_)"
   ]
  },
  {
   "cell_type": "code",
   "execution_count": 24,
   "metadata": {},
   "outputs": [
    {
     "name": "stdout",
     "output_type": "stream",
     "text": [
      "(2000, 300)\n",
      "(2000, 300)\n",
      "(8000, 1000)\n",
      "(8000, 300)\n"
     ]
    }
   ],
   "source": [
    "print(tag_preds.shape)\n",
    "print(test_tags_dev.shape)\n",
    "print(y_train_dev.shape)\n",
    "print(x_train_dev.shape)"
   ]
  },
  {
   "cell_type": "markdown",
   "metadata": {},
   "source": [
    "Best Ridge parameters: {'alpha': 1}\n",
    "-0.0024467481765896083"
   ]
  },
  {
   "cell_type": "markdown",
   "metadata": {},
   "source": [
    "### Combine the Models"
   ]
  },
  {
   "cell_type": "markdown",
   "metadata": {},
   "source": [
    "#### Try Evaluating the Nearest Neighbors and Take A New Ranking Based on Both"
   ]
  },
  {
   "cell_type": "code",
   "execution_count": 62,
   "metadata": {},
   "outputs": [],
   "source": [
    "# function to return the number of nearest neighbors specified\n",
    "def knn_function(data, point, neighbors_number):\n",
    "    knn = NearestNeighbors(n_neighbors=neighbors_number)\n",
    "    knn.fit(data)\n",
    "    return knn.kneighbors(point, neighbors_number, return_distance=False)"
   ]
  },
  {
   "cell_type": "code",
   "execution_count": 63,
   "metadata": {},
   "outputs": [],
   "source": [
    "tag_neighbors = knn_function(test_tags_dev, tag_preds, 50)\n",
    "image_neighbors = knn_function(y_test_dev, image_preds, 50)"
   ]
  },
  {
   "cell_type": "code",
   "execution_count": 64,
   "metadata": {},
   "outputs": [],
   "source": [
    "neighbors1 = []\n",
    "for i in range(len(tag_neighbors)):\n",
    "    neighbors1.append(np.array(list(set(tag_neighbors[i]) & set(image_neighbors[i]))[:20]))"
   ]
  },
  {
   "cell_type": "code",
   "execution_count": 65,
   "metadata": {},
   "outputs": [],
   "source": [
    "neighbors1 = np.array(neighbors1)"
   ]
  },
  {
   "cell_type": "markdown",
   "metadata": {},
   "source": [
    "### Evaluate the Model"
   ]
  },
  {
   "cell_type": "code",
   "execution_count": 66,
   "metadata": {},
   "outputs": [],
   "source": [
    "def scores(i):\n",
    "    return (20+1-(i+1))/20"
   ]
  },
  {
   "cell_type": "code",
   "execution_count": 67,
   "metadata": {},
   "outputs": [],
   "source": [
    "def eval_accuracy(ytest, neighbors):\n",
    "    # EVALUATE THE MODEL USING THE MEAN AVERAGE PRECISION AT 20\n",
    "    scs = []\n",
    "    for i in range(len(neighbors)):\n",
    "        good = False\n",
    "        for j, n in enumerate(neighbors[i]):\n",
    "            if i == n:\n",
    "                scs.append(scores(j))\n",
    "                good = True\n",
    "                break\n",
    "        if good == False:\n",
    "            scs.append(0)\n",
    "    return sum(scs)/len(neighbors)"
   ]
  },
  {
   "cell_type": "code",
   "execution_count": 68,
   "metadata": {},
   "outputs": [],
   "source": [
    "#print('accuracy of svm tags', eval_accuracy(y_test_dev, tag_neighbors[:20]))"
   ]
  },
  {
   "cell_type": "code",
   "execution_count": 69,
   "metadata": {},
   "outputs": [
    {
     "name": "stdout",
     "output_type": "stream",
     "text": [
      "accuracy of ridge tags 0.012499999999999989\n"
     ]
    }
   ],
   "source": [
    "print('accuracy of ridge tags', eval_accuracy(y_test_dev, tag_neighbors[:20]))"
   ]
  },
  {
   "cell_type": "code",
   "execution_count": 70,
   "metadata": {},
   "outputs": [
    {
     "name": "stdout",
     "output_type": "stream",
     "text": [
      "accuracy of image features 0.0\n"
     ]
    }
   ],
   "source": [
    "print('accuracy of image features', eval_accuracy(y_test_dev, image_neighbors[:20]))"
   ]
  },
  {
   "cell_type": "code",
   "execution_count": 71,
   "metadata": {},
   "outputs": [],
   "source": [
    "#print('accuracy of svm tags combined with image features', eval_accuracy(y_test_dev, neighbors1))"
   ]
  },
  {
   "cell_type": "code",
   "execution_count": 72,
   "metadata": {},
   "outputs": [
    {
     "name": "stdout",
     "output_type": "stream",
     "text": [
      "accuracy of ridge tags combined with image features 0.019\n"
     ]
    }
   ],
   "source": [
    "print('accuracy of ridge tags combined with image features', eval_accuracy(y_test_dev, neighbors1))"
   ]
  },
  {
   "cell_type": "code",
   "execution_count": null,
   "metadata": {},
   "outputs": [],
   "source": []
  },
  {
   "cell_type": "code",
   "execution_count": null,
   "metadata": {},
   "outputs": [],
   "source": []
  }
 ],
 "metadata": {
  "kernelspec": {
   "display_name": "Python 3",
   "language": "python",
   "name": "python3"
  },
  "language_info": {
   "codemirror_mode": {
    "name": "ipython",
    "version": 3
   },
   "file_extension": ".py",
   "mimetype": "text/x-python",
   "name": "python",
   "nbconvert_exporter": "python",
   "pygments_lexer": "ipython3",
   "version": "3.7.3"
  }
 },
 "nbformat": 4,
 "nbformat_minor": 4
}

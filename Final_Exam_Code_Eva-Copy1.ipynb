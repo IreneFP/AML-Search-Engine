{
 "cells": [
  {
   "cell_type": "markdown",
   "metadata": {},
   "source": [
    "https://www.kaggle.com/c/cs5785-fall19-final/"
   ]
  },
  {
   "cell_type": "markdown",
   "metadata": {},
   "source": [
    "# Create an Ensemble Model"
   ]
  },
  {
   "cell_type": "markdown",
   "metadata": {},
   "source": [
    "#### Get the Descriptions and Tags from File"
   ]
  },
  {
   "cell_type": "code",
   "execution_count": 109,
   "metadata": {},
   "outputs": [],
   "source": [
    "import os\n",
    "import numpy as np\n",
    "import gensim\n",
    "from nltk.corpus import stopwords \n",
    "from nltk.tokenize import word_tokenize\n",
    "from nltk.stem import WordNetLemmatizer\n",
    "import string\n",
    "import pandas as pd\n",
    "from sklearn.neighbors import NearestNeighbors\n",
    "from sklearn.preprocessing import StandardScaler"
   ]
  },
  {
   "cell_type": "code",
   "execution_count": 110,
   "metadata": {},
   "outputs": [],
   "source": [
    "def parse_descriptions(data_dir, num_doc):\n",
    "    docs = []\n",
    "    for i in range(num_doc):\n",
    "        path = os.path.join(data_dir, \"%d.txt\" % i)\n",
    "        with open(path) as f:\n",
    "            docs.append(f.read())\n",
    "    return docs"
   ]
  },
  {
   "cell_type": "code",
   "execution_count": 111,
   "metadata": {},
   "outputs": [],
   "source": [
    "train_tags = parse_descriptions(\"cs5785-fall19-final/tags_train\", num_doc=10000)\n",
    "test_tags = parse_descriptions(\"cs5785-fall19-final/tags_test\", num_doc=2000)"
   ]
  },
  {
   "cell_type": "code",
   "execution_count": 112,
   "metadata": {},
   "outputs": [],
   "source": [
    "def parse_tags(tags):\n",
    "    result = []\n",
    "    for doc in tags:\n",
    "        doc = doc.strip('\\n').split('\\n')\n",
    "        cat_it = []\n",
    "        if doc[0] == '':\n",
    "            result.append('no tag')\n",
    "        else:\n",
    "            for tag in doc:\n",
    "                split_tag = tag.split(':')\n",
    "                cat_it.append(split_tag[0])\n",
    "                cat_it.append(split_tag[1])\n",
    "            parsed = (' ').join(list(cat_it))\n",
    "            result.append(parsed)\n",
    "    return np.array(result)"
   ]
  },
  {
   "cell_type": "code",
   "execution_count": 113,
   "metadata": {},
   "outputs": [],
   "source": [
    "train_tags_parsed = parse_tags(train_tags)\n",
    "test_tags_parsed = parse_tags(test_tags)"
   ]
  },
  {
   "cell_type": "code",
   "execution_count": 114,
   "metadata": {},
   "outputs": [],
   "source": [
    "# function to preprocess data\n",
    "def preprocessing(data):\n",
    "    stop_words = set(stopwords.words('english')) # find stop words in English language\n",
    "    lemmatizer = WordNetLemmatizer() # declare nltk lemmatizer\n",
    "\n",
    "    # iterate through every sentence and replace it by itself lemmatized, without punctuation and without stop words\n",
    "    for i in range(len(data)):\n",
    "        sentence_no_punct = ''\n",
    "        # remove punctuation\n",
    "        \n",
    "        for char in data[i]:\n",
    "            if char not in string.punctuation:\n",
    "                sentence_no_punct = sentence_no_punct + char\n",
    "        data[i] = sentence_no_punct\n",
    "\n",
    "        word_tokens = word_tokenize(data[i])\n",
    "    \n",
    "        # remove stop words and lemmatize\n",
    "        word_tokens = [lemmatizer.lemmatize(word) for word in word_tokens if word not in stop_words and len(word) > 1]\n",
    "        word_tokens = [lemmatizer.lemmatize(word, 'v') for word in word_tokens]\n",
    "        word_tokens = [lemmatizer.lemmatize(word, 'a') for word in word_tokens]\n",
    "        \n",
    "        # remove conjunction words\n",
    "        word_tokens = [word for word in word_tokens if word[-2:] != 'nt']\n",
    "        (data[i]) = ' '.join(word_tokens)\n",
    "        \n",
    "    return data"
   ]
  },
  {
   "cell_type": "code",
   "execution_count": 115,
   "metadata": {},
   "outputs": [],
   "source": [
    "train_descs = parse_descriptions('cs5785-fall19-final/descriptions_train', 10000)\n",
    "test_descs  = parse_descriptions('cs5785-fall19-final/descriptions_test', 2000)\n",
    "train_descs = preprocessing(train_descs)\n",
    "test_descs  = preprocessing(test_descs)"
   ]
  },
  {
   "cell_type": "markdown",
   "metadata": {},
   "source": [
    "#### Create the Bag of Words"
   ]
  },
  {
   "cell_type": "code",
   "execution_count": 116,
   "metadata": {},
   "outputs": [],
   "source": [
    "word2vec = gensim.models.KeyedVectors.load_word2vec_format(\"../GoogleNews-vectors-negative300.bin.gz\", binary=True)"
   ]
  },
  {
   "cell_type": "code",
   "execution_count": 117,
   "metadata": {},
   "outputs": [],
   "source": [
    "def doc_to_vec(sentence, word2vec):\n",
    "    # get list of word vectors in sentence\n",
    "    word_vecs = [word2vec.get_vector(w) for w in sentence.split() if w in word2vec.vocab]\n",
    "    # return average\n",
    "    return np.stack(word_vecs).mean(0)"
   ]
  },
  {
   "cell_type": "code",
   "execution_count": 118,
   "metadata": {},
   "outputs": [],
   "source": [
    "x_train = np.array([doc_to_vec(train_descs[i], word2vec) for i in range(len(train_descs))])\n",
    "x_test = np.array([doc_to_vec(d, word2vec) for d in test_descs])"
   ]
  },
  {
   "cell_type": "markdown",
   "metadata": {},
   "source": [
    "#### Get Image Feature Vectors"
   ]
  },
  {
   "cell_type": "code",
   "execution_count": 119,
   "metadata": {},
   "outputs": [],
   "source": [
    "train_feat_sort = pd.read_csv(\"sorted_train_features.csv\", header = None, index_col=None)\n",
    "test_feat_sort = pd.read_csv(\"sorted_test_features.csv\", header = None, index_col=None)\n",
    "\n",
    "scalar = StandardScaler()\n",
    "\n",
    "train_feat_sort_norm = scalar.fit_transform(train_feat_sort)\n",
    "test_feat_sort_norm = scalar.fit_transform(test_feat_sort)\n",
    "\n",
    "#train_inter_feat = pd.read_csv(\"cs5785-fall19-final/features_train/features_resnet1000intermediate_train.csv\", header = None, index_col=None)\n",
    "#test_inter_feat = pd.read_csv(\"cs5785-fall19-final/features_test/features_resnet1000intermediate_test.csv\", header = None, index_col=None)"
   ]
  },
  {
   "cell_type": "code",
   "execution_count": 12,
   "metadata": {},
   "outputs": [],
   "source": [
    "#train_feat_2 = train_feat\n",
    "\n",
    "#for i in range(1000):\n",
    "    #train_feat[0][i] = train_feat[0][i].replace(\"images_train/\", \"\").replace(\".jpg\", \"\")\n",
    "    #train_feat[0][i] = temp\n",
    "\n",
    "#train_feat_sort = train_feat.sort_values(by=0)\n",
    "\n",
    "#for i in range(len(test_feat[0])):\n",
    " #   test_feat[0][i] = int(test_feat[0][i].replace(\"images_test/\", \"\").replace(\".jpg\", \"\"))\n",
    "\n",
    "#test_feat_sort = test_feat.sort_values(by=0)"
   ]
  },
  {
   "cell_type": "code",
   "execution_count": 13,
   "metadata": {},
   "outputs": [],
   "source": [
    "#train_feat_sort = train_feat.sort_values(by=0)"
   ]
  },
  {
   "cell_type": "code",
   "execution_count": 14,
   "metadata": {},
   "outputs": [],
   "source": [
    "#for i in range(len(test_feat[0])):\n",
    "  #  test_feat[0][i] = int(test_feat[0][i].replace(\"images_test/\", \"\").replace(\".jpg\", \"\"))"
   ]
  },
  {
   "cell_type": "code",
   "execution_count": 15,
   "metadata": {},
   "outputs": [],
   "source": [
    "#y_train = train_feat_sort.drop(columns=0).to_numpy()\n",
    "#y_test = test_feat_sort.drop(columns=0).to_numpy()"
   ]
  },
  {
   "cell_type": "code",
   "execution_count": 120,
   "metadata": {},
   "outputs": [],
   "source": [
    "y_train = train_feat_sort_norm\n",
    "#.to_numpy()\n",
    "y_test = test_feat_sort_norm\n",
    "#.to_numpy()\n",
    "#y_train_inter = train_inter_feat_sort.drop(columns=0).to_numpy()\n",
    "#y_test_inter = test_inter_feat_sort.drop(columns=0).to_numpy()"
   ]
  },
  {
   "cell_type": "markdown",
   "metadata": {},
   "source": [
    "#### Create A Train/Test Split"
   ]
  },
  {
   "cell_type": "code",
   "execution_count": 121,
   "metadata": {},
   "outputs": [],
   "source": [
    "import random\n",
    "num_train = 8000\n",
    "num_dev = 2000\n",
    "num_test = 2000\n",
    "split = list(range(num_train + num_dev))\n",
    "random.shuffle(split)"
   ]
  },
  {
   "cell_type": "code",
   "execution_count": 122,
   "metadata": {},
   "outputs": [],
   "source": [
    "x_train_dev = x_train[split[:num_train]]\n",
    "y_train_dev = y_train[split[:num_train]]\n",
    "x_test_dev = x_train[split[num_train:]]\n",
    "y_test_dev = y_train[split[num_train:]]\n",
    "\n",
    "train_tags_dev = train_tags_parsed[split[:num_train]]\n",
    "test_tags_dev = train_tags_parsed[split[num_train:]]"
   ]
  },
  {
   "cell_type": "markdown",
   "metadata": {},
   "source": [
    "#### For Later when we need the tags of the whole train and test set"
   ]
  },
  {
   "cell_type": "code",
   "execution_count": 123,
   "metadata": {},
   "outputs": [],
   "source": [
    "tag_train = np.array([doc_to_vec(d, word2vec) for d in train_tags_parsed])\n",
    "tag_test = np.array([doc_to_vec(d, word2vec) for d in test_tags_parsed])"
   ]
  },
  {
   "cell_type": "markdown",
   "metadata": {},
   "source": [
    "#### For Development Right Now when we need the smaller train and test set to check accuracy"
   ]
  },
  {
   "cell_type": "code",
   "execution_count": 124,
   "metadata": {},
   "outputs": [],
   "source": [
    "train_tags_dev = np.array([doc_to_vec(d, word2vec) for d in train_tags_dev])\n",
    "test_tags_dev = np.array([doc_to_vec(d, word2vec) for d in test_tags_dev])"
   ]
  },
  {
   "cell_type": "markdown",
   "metadata": {},
   "source": [
    "### Relate Descriptions and Tags with a Model --- SVM"
   ]
  },
  {
   "cell_type": "code",
   "execution_count": 60,
   "metadata": {},
   "outputs": [],
   "source": [
    "from sklearn.svm import SVR\n",
    "from sklearn.multioutput import MultiOutputRegressor\n",
    "supvm = MultiOutputRegressor(SVR(gamma = 'scale')).fit(x_train_dev, train_tags_dev)\n",
    "tag_preds = supvm.predict(x_test_dev)"
   ]
  },
  {
   "cell_type": "markdown",
   "metadata": {},
   "source": [
    "### Relate Image Features and Descriptions Model"
   ]
  },
  {
   "cell_type": "code",
   "execution_count": 101,
   "metadata": {},
   "outputs": [
    {
     "name": "stderr",
     "output_type": "stream",
     "text": [
      "C:\\Users\\evatr\\Anaconda3\\lib\\site-packages\\sklearn\\neural_network\\multilayer_perceptron.py:568: UserWarning: Training interrupted by user.\n",
      "  warnings.warn(\"Training interrupted by user.\")\n"
     ]
    }
   ],
   "source": [
    "from sklearn.neural_network import MLPRegressor\n",
    "\n",
    "clf = MLPRegressor(solver='sgd', alpha=1e-5, hidden_layer_sizes=(300,), random_state=1, max_iter = 1000)\n",
    "clf.fit(x_train, y_train)\n",
    "image_preds = clf.predict(x_test)"
   ]
  },
  {
   "cell_type": "markdown",
   "metadata": {},
   "source": [
    "### Lasso Regressor with Cross-Validation to relate descriptors and tags (maybe try instead of mlp too?)"
   ]
  },
  {
   "cell_type": "code",
   "execution_count": null,
   "metadata": {},
   "outputs": [],
   "source": [
    "from sklearn.linear_model import Lasso\n",
    "from sklearn.model_selection import GridSearchCV\n",
    "\n",
    "lasso = Lasso()\n",
    "parameters = {'alpha': [1e-15, 1e-10, 1e-8, 1e-4, 1e-3, 1e-2, 1, 5, 10, 20]}\n",
    "lasso_regressor = GridSearchCV(lasso, parameters, scoring='neg_mean_squared_error', cv = 5)\n",
    "lasso_regressor.fit(x_train, tag_train)\n",
    "tag_preds = lasso_regressor.predict(x_test)\n",
    "\n",
    "print(lasso_regressor.best_params_)\n",
    "print(lasso_regressor.best_score_)"
   ]
  },
  {
   "cell_type": "markdown",
   "metadata": {},
   "source": [
    "Best lasso params: {'alpha': 1e-08}\n",
    "-0.0024774808902293445"
   ]
  },
  {
   "cell_type": "markdown",
   "metadata": {},
   "source": [
    "### Ridge Regressor with Cross-Validation "
   ]
  },
  {
   "cell_type": "code",
   "execution_count": 126,
   "metadata": {},
   "outputs": [
    {
     "name": "stdout",
     "output_type": "stream",
     "text": [
      "{'alpha': 1}\n",
      "-0.0024078756105154753\n"
     ]
    }
   ],
   "source": [
    "from sklearn.linear_model import Ridge\n",
    "from sklearn.model_selection import GridSearchCV\n",
    "ridge = Ridge()\n",
    "parameters = {'alpha': [1e-15, 1e-10, 1e-8, 1e-4, 1e-3, 1e-2, 1, 5, 10, 20]}\n",
    "\n",
    "ridge_regressor = GridSearchCV(ridge, parameters, scoring='neg_mean_squared_error', cv = 5)\n",
    "ridge_regressor.fit(x_train, tag_train)\n",
    "tag_preds = ridge_regressor.predict(x_test)\n",
    "\n",
    "print(ridge_regressor.best_params_)\n",
    "print(ridge_regressor.best_score_)"
   ]
  },
  {
   "cell_type": "code",
   "execution_count": 24,
   "metadata": {},
   "outputs": [
    {
     "name": "stdout",
     "output_type": "stream",
     "text": [
      "(2000, 300)\n",
      "(2000, 300)\n",
      "(8000, 1000)\n",
      "(8000, 300)\n"
     ]
    }
   ],
   "source": [
    "print(tag_preds.shape)\n",
    "print(test_tags_dev.shape)\n",
    "print(y_train_dev.shape)\n",
    "print(x_train_dev.shape)"
   ]
  },
  {
   "cell_type": "markdown",
   "metadata": {},
   "source": [
    "Best Ridge parameters: {'alpha': 1}\n",
    "-0.0024467481765896083"
   ]
  },
  {
   "cell_type": "markdown",
   "metadata": {},
   "source": [
    "### Combine the Models"
   ]
  },
  {
   "cell_type": "markdown",
   "metadata": {},
   "source": [
    "#### Try Evaluating the Nearest Neighbors and Take A New Ranking Based on Both"
   ]
  },
  {
   "cell_type": "code",
   "execution_count": 127,
   "metadata": {},
   "outputs": [],
   "source": [
    "# function to return the number of nearest neighbors specified\n",
    "def knn_function(data, point, neighbors_number):\n",
    "    knn = NearestNeighbors(n_neighbors=neighbors_number)\n",
    "    knn.fit(data)\n",
    "    return knn.kneighbors(point, neighbors_number, return_distance=False)"
   ]
  },
  {
   "cell_type": "code",
   "execution_count": 128,
   "metadata": {},
   "outputs": [],
   "source": [
    "tag_neighbors = knn_function(tag_test, tag_preds, 50)\n",
    "#image_neighbors = knn_function(y_test, image_preds, 50)"
   ]
  },
  {
   "cell_type": "code",
   "execution_count": 129,
   "metadata": {},
   "outputs": [],
   "source": [
    "def combine_tags_images(ims, tags):\n",
    "    neighbors = [[] for _ in range(len(ims))]\n",
    "    \n",
    "    for i in range(len(ims)):\n",
    "        #neighbors[i] += [im for im in ims[i] if im in tags]\n",
    "        neighbors[i] += [im for im in tags[i]]\n",
    "        \n",
    "        for im in neighbors[i]:\n",
    "            if len(neighbors[i]) == 20:\n",
    "                break\n",
    "            if not im in neighbors[i]:\n",
    "                neighbors[i] += [im]\n",
    "        neighbors[i] = np.array(neighbors[i])\n",
    "\n",
    "    return np.array(neighbors)"
   ]
  },
  {
   "cell_type": "code",
   "execution_count": 87,
   "metadata": {},
   "outputs": [],
   "source": [
    "#neighbors1 = []\n",
    "#for i in range(len(tag_neighbors)):\n",
    " #   neighbors1.append(np.array(list(set(tag_neighbors[i]) & set(image_neighbors[i]))[:20]))\n",
    "neighbors1 = combine_tags_images(image_neighbors, tag_neighbors)"
   ]
  },
  {
   "cell_type": "code",
   "execution_count": 88,
   "metadata": {},
   "outputs": [],
   "source": [
    "neighbors1 = np.array(neighbors1)"
   ]
  },
  {
   "cell_type": "code",
   "execution_count": null,
   "metadata": {},
   "outputs": [],
   "source": []
  },
  {
   "cell_type": "markdown",
   "metadata": {},
   "source": [
    "### Evaluate the Model"
   ]
  },
  {
   "cell_type": "code",
   "execution_count": 130,
   "metadata": {},
   "outputs": [],
   "source": [
    "def scores(i):\n",
    "    return (20+1-(i+1))/20"
   ]
  },
  {
   "cell_type": "code",
   "execution_count": 131,
   "metadata": {},
   "outputs": [],
   "source": [
    "def eval_accuracy(ytest, neighbors):\n",
    "    # EVALUATE THE MODEL USING THE MEAN AVERAGE PRECISION AT 20\n",
    "    scs = []\n",
    "    for i in range(len(neighbors)):\n",
    "        good = False\n",
    "        for j, n in enumerate(neighbors[i]):\n",
    "            if i == n:\n",
    "                scs.append(scores(j))\n",
    "                good = True\n",
    "                break\n",
    "        if good == False:\n",
    "            scs.append(0)\n",
    "    return sum(scs)/len(neighbors)"
   ]
  },
  {
   "cell_type": "code",
   "execution_count": 132,
   "metadata": {},
   "outputs": [],
   "source": [
    "#print('accuracy of svm tags', eval_accuracy(y_test_dev, tag_neighbors[:20]))"
   ]
  },
  {
   "cell_type": "code",
   "execution_count": 133,
   "metadata": {},
   "outputs": [
    {
     "name": "stdout",
     "output_type": "stream",
     "text": [
      "accuracy of ridge tags 0.0\n"
     ]
    }
   ],
   "source": [
    "print('accuracy of ridge tags', eval_accuracy(y_test_dev, tag_neighbors[:20]))"
   ]
  },
  {
   "cell_type": "code",
   "execution_count": null,
   "metadata": {},
   "outputs": [],
   "source": [
    "print('accuracy of image features', eval_accuracy(y_test_dev, image_neighbors[:20]))"
   ]
  },
  {
   "cell_type": "code",
   "execution_count": null,
   "metadata": {},
   "outputs": [],
   "source": [
    "#print('accuracy of svm tags combined with image features', eval_accuracy(y_test_dev, neighbors1))"
   ]
  },
  {
   "cell_type": "code",
   "execution_count": null,
   "metadata": {},
   "outputs": [],
   "source": [
    "print('accuracy of ridge tags combined with image features', eval_accuracy(y_test_dev, neighbors1))"
   ]
  },
  {
   "cell_type": "code",
   "execution_count": 135,
   "metadata": {},
   "outputs": [],
   "source": [
    "neighbors_adjusted = []\n",
    "file_list = []\n",
    "for i, row in enumerate(tag_neighbors):\n",
    "    newlst = []\n",
    "    for val in row:\n",
    "        newlst.append(str(val)+'.jpg')\n",
    "    neighbors_adjusted.append((' ').join(newlst))\n",
    "    #file_list.append(str(i)+'.txt')"
   ]
  },
  {
   "cell_type": "code",
   "execution_count": 136,
   "metadata": {},
   "outputs": [],
   "source": [
    "import csv\n",
    "def outputCSV(predictions):\n",
    "    with open(\"image_prediction_mlp2.csv\", \"w\") as outputFile:\n",
    "        headers = [\"Descritpion_ID\", \"Top_20_Image_IDs\"]\n",
    "        fileWriter = csv.DictWriter(outputFile, fieldnames=headers)\n",
    "        fileWriter.writeheader()\n",
    "        for index, pred in enumerate(predictions):\n",
    "            fileWriter.writerow({headers[0]: \"{}.txt\".format(index), headers[1]: ''.join(predictions[index])})"
   ]
  },
  {
   "cell_type": "code",
   "execution_count": 137,
   "metadata": {},
   "outputs": [],
   "source": [
    "outputCSV(neighbors_adjusted)"
   ]
  },
  {
   "cell_type": "code",
   "execution_count": null,
   "metadata": {},
   "outputs": [],
   "source": []
  }
 ],
 "metadata": {
  "kernelspec": {
   "display_name": "Python 3",
   "language": "python",
   "name": "python3"
  },
  "language_info": {
   "codemirror_mode": {
    "name": "ipython",
    "version": 3
   },
   "file_extension": ".py",
   "mimetype": "text/x-python",
   "name": "python",
   "nbconvert_exporter": "python",
   "pygments_lexer": "ipython3",
   "version": "3.7.3"
  }
 },
 "nbformat": 4,
 "nbformat_minor": 4
}

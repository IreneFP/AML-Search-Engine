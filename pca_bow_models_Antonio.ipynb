{
 "cells": [
  {
   "cell_type": "markdown",
   "metadata": {},
   "source": [
    "# BOW + Models"
   ]
  },
  {
   "cell_type": "markdown",
   "metadata": {},
   "source": [
    "# Imports"
   ]
  },
  {
   "cell_type": "code",
   "execution_count": 71,
   "metadata": {},
   "outputs": [],
   "source": [
    "import numpy as np\n",
    "import matplotlib.pyplot as plt\n",
    "import pandas as pd\n",
    "from os import listdir\n",
    "import nltk\n",
    "from nltk.corpus import stopwords \n",
    "from nltk.tokenize import word_tokenize\n",
    "from nltk.stem import WordNetLemmatizer\n",
    "import string\n",
    "import csv\n",
    "import gensim\n",
    "from gensim.models import Word2Vec\n",
    "import sklearn.preprocessing\n",
    "from sklearn.model_selection import train_test_split\n",
    "from scipy.spatial.distance import cdist\n",
    "from sklearn.neural_network import MLPRegressor\n",
    "\n",
    "# import warnings filter\n",
    "from warnings import simplefilter\n",
    "# ignore all future warnings\n",
    "simplefilter(action='ignore', category=FutureWarning)\n",
    "simplefilter(action='ignore', category=DeprecationWarning)"
   ]
  },
  {
   "cell_type": "markdown",
   "metadata": {},
   "source": [
    "# Definitions and Data Load"
   ]
  },
  {
   "cell_type": "code",
   "execution_count": 20,
   "metadata": {},
   "outputs": [],
   "source": [
    "dataFolder = \"cs5785-fall19-final\"\n",
    "\n",
    "descTrainFolder = dataFolder + \"/descriptions_train\"\n",
    "descTestFolder = dataFolder + \"/descriptions_test\"\n",
    "\n",
    "featTrainFolder = dataFolder + \"/features_train\"\n",
    "featTestFolder = dataFolder + \"/features_test\"\n",
    "\n",
    "imagesTrainFolder = dataFolder + \"/images_train\"\n",
    "imagesTestFolder = dataFolder + \"/images_test\"\n",
    "\n",
    "tagsTrainFolder = dataFolder + \"/tags_train\"\n",
    "tagsTestFolder = dataFolder + \"/tags_test\"\n",
    "\n",
    "folders = [descTrainFolder,   descTestFolder,   featTrainFolder, featTestFolder, \n",
    "           imagesTrainFolder, imagesTestFolder, tagsTrainFolder, tagsTestFolder]\n",
    "\n",
    "word2vec = gensim.models.KeyedVectors.load_word2vec_format(\"GoogleNews-vectors-negative300.bin.gz\", binary=True)"
   ]
  },
  {
   "cell_type": "code",
   "execution_count": 21,
   "metadata": {},
   "outputs": [],
   "source": [
    "def getFilesFromFolder(folder):\n",
    "    return listdir(folder)"
   ]
  },
  {
   "cell_type": "code",
   "execution_count": 22,
   "metadata": {},
   "outputs": [],
   "source": [
    "def dist_matrix(x1, x2):\n",
    "    return cdist(x1,x2,'cosine')"
   ]
  },
  {
   "cell_type": "code",
   "execution_count": 23,
   "metadata": {},
   "outputs": [],
   "source": [
    "# Formatting predictions for csv output\n",
    "def output_format(dm):\n",
    "    id_dists = []\n",
    "    for i, d in enumerate(dm):\n",
    "        temp_dists = [(j, d[j]) for j in range(len(d))]\n",
    "        id_dists.append(list(sorted(temp_dists, key= lambda x: abs(x[1])))[:20])\n",
    "    return [[\"{}.jpg\".format(id) for id, _ in row] for row in id_dists]"
   ]
  },
  {
   "cell_type": "code",
   "execution_count": 69,
   "metadata": {},
   "outputs": [],
   "source": [
    "def outputCSV(predictions):\n",
    "    with open(\"image_prediction_kernel_pca_bow_concat.csv\", \"w\") as outputFile:\n",
    "        headers = [\"Descritpion_ID\", \"Top_20_Image_IDs\"]\n",
    "        fileWriter = csv.DictWriter(outputFile, fieldnames=headers)\n",
    "        fileWriter.writeheader()\n",
    "        for index, pred in enumerate(predictions):\n",
    "            fileWriter.writerow({headers[0]: \"{}.txt\".format(index), headers[1]: ' '.join(predictions[index])})"
   ]
  },
  {
   "cell_type": "code",
   "execution_count": 62,
   "metadata": {},
   "outputs": [],
   "source": [
    "# [IRENE] I have changed the yval for yval_conc so I could use it for the features concatenated. \n",
    "# Change it back if \n",
    "\n",
    "def get_acc_from_dm(dm):\n",
    "    val_scores = []\n",
    "    val_pos_list = []\n",
    "\n",
    "    for i in range(len(yval_concat)):\n",
    "        pred_dist_idx = list(np.argsort(dm[i]))\n",
    "        val_pos = pred_dist_idx.index(i)\n",
    "        val_pos_list.append(val_pos)\n",
    "        if val_pos < 20:\n",
    "            val_scores.append(1 / (val_pos + 1))\n",
    "        else:\n",
    "            val_scores.append(0.0)\n",
    "\n",
    "    print(\"Development MAP@20:\", np.mean(val_scores))\n",
    "    print(\"Mean index of true image\", np.mean(val_pos_list))\n",
    "    print(\"Median index of true image\", np.median(val_pos_list))"
   ]
  },
  {
   "cell_type": "markdown",
   "metadata": {},
   "source": [
    "# Preprocess data"
   ]
  },
  {
   "cell_type": "code",
   "execution_count": 72,
   "metadata": {},
   "outputs": [],
   "source": [
    "# function to preprocess data\n",
    "def preprocessing(data):\n",
    "    stop_words = set(stopwords.words('english')) # find stop words in English language\n",
    "    lemmatizer = WordNetLemmatizer() # declare nltk lemmatizer\n",
    "\n",
    "    # iterate through every sentence and replace it by itself lemmatized, without punctuation and without stop words\n",
    "    for i in range(len(data)):\n",
    "        sentence_no_punct = ''\n",
    "        \n",
    "        # remove punctuation\n",
    "        for char in data[i]:\n",
    "            if char not in string.punctuation:\n",
    "                sentence_no_punct = sentence_no_punct + char\n",
    "        data[i] = sentence_no_punct\n",
    "\n",
    "        \"\"\"\n",
    "        Analyzing if words are upper/lower case is more for analyzing the intensity of the sentiment rather than classifying it. \n",
    "        \"\"\"\n",
    "        word_tokens = list(map(lambda r: r.lower(), word_tokenize(data[i])))\n",
    "        \n",
    "    \n",
    "        # remove stop words and lemmatize\n",
    "        word_tokens = [lemmatizer.lemmatize(word) for word in word_tokens if word not in stop_words and len(word) > 1]\n",
    "        word_tokens = [lemmatizer.lemmatize(word, 'v') for word in word_tokens]\n",
    "        word_tokens = [lemmatizer.lemmatize(word, 'a') for word in word_tokens]\n",
    "        \n",
    "        # remove conjunction words\n",
    "        word_tokens = [word for word in word_tokens if word[-2:] != 'nt']\n",
    "        data[i] = ' '.join(word_tokens)\n",
    "    \n",
    "    assert(len(data) == 1)\n",
    "    return \" \".join(set(data[0].split()))"
   ]
  },
  {
   "cell_type": "code",
   "execution_count": 73,
   "metadata": {},
   "outputs": [],
   "source": [
    "def get_flat_descriptions_from_folder(folder):\n",
    "    flat_descriptions = []\n",
    "    amtFiles = len(getFilesFromFolder(folder))\n",
    "    indexes = list(sorted([str(i) for i in range(amtFiles)], key= lambda x: int(x)))\n",
    "    \n",
    "    for index in indexes:\n",
    "        filename = folder + \"/{}.txt\".format(index)\n",
    "        with open(filename, 'r') as d_file:\n",
    "            flat_descriptions += [[' '.join(d_file.readlines()).replace(\"\\n\", \"\")]]\n",
    "            \n",
    "    return flat_descriptions"
   ]
  },
  {
   "cell_type": "code",
   "execution_count": 75,
   "metadata": {},
   "outputs": [],
   "source": [
    "# [  [ unprocessed description of image 1  ] , [ unprocessed description of image 2  ]   , ...  ]\n",
    "train_flat_descs = get_flat_descriptions_from_folder(descTrainFolder)\n",
    "test_flat_descs  = get_flat_descriptions_from_folder(descTestFolder)"
   ]
  },
  {
   "cell_type": "code",
   "execution_count": 76,
   "metadata": {},
   "outputs": [],
   "source": [
    "def unique_words_in_desc(desc):\n",
    "    return [preprocessing(d) for d in desc]"
   ]
  },
  {
   "cell_type": "code",
   "execution_count": 77,
   "metadata": {
    "scrolled": true
   },
   "outputs": [],
   "source": [
    "# [  { processed description of image 1  } , { processed description of image 2  }   , ...  ]\n",
    "train_descs = unique_words_in_desc(train_flat_descs)\n",
    "test_descs = unique_words_in_desc(test_flat_descs)"
   ]
  },
  {
   "cell_type": "markdown",
   "metadata": {},
   "source": [
    "## Bag of Words"
   ]
  },
  {
   "cell_type": "code",
   "execution_count": 78,
   "metadata": {},
   "outputs": [],
   "source": [
    "# CREATE THE BAG OF WORDS DICTIONARY\n",
    "def create_bow(train_descs):\n",
    "    BOW = {'null' : 0}\n",
    "    for description in train_descs:\n",
    "        sentence_lst = description.split(' ')\n",
    "        for word in sentence_lst:\n",
    "            BOW[word] = 0\n",
    "    return BOW\n",
    "\n",
    "def create_bow_vectors(data, BOW):\n",
    "    feature_vectors = []\n",
    "    for description in data:\n",
    "        feat_vec = BOW.copy()\n",
    "        sentence_lst = description.split(' ')\n",
    "        for word in sentence_lst:\n",
    "            if word in feat_vec:\n",
    "                feat_vec[word] += 1\n",
    "            else:\n",
    "                feat_vec['null'] += 1       \n",
    "        feature_vectors.append(feat_vec)\n",
    "\n",
    "    # TURN DICTIONARIES INTO A MATRIX with each row as one description\n",
    "    feature_vector_matrix = []\n",
    "    for feature_vec in feature_vectors:\n",
    "        feature_vector_matrix.append(list(feature_vec.values()))\n",
    "\n",
    "    # NORMALIZE THE FEATURES\n",
    "    feature_vector_matrix = sklearn.preprocessing.normalize(feature_vector_matrix) # default is L2 norm\n",
    "    return feature_vector_matrix"
   ]
  },
  {
   "cell_type": "code",
   "execution_count": 79,
   "metadata": {},
   "outputs": [],
   "source": [
    "BOW = create_bow(train_descs)"
   ]
  },
  {
   "cell_type": "code",
   "execution_count": 80,
   "metadata": {},
   "outputs": [],
   "source": [
    "train_bow = create_bow_vectors(train_descs, BOW)\n",
    "test_bow  = create_bow_vectors(test_descs, BOW)"
   ]
  },
  {
   "cell_type": "markdown",
   "metadata": {},
   "source": [
    "## Feature Extraction"
   ]
  },
  {
   "cell_type": "code",
   "execution_count": 84,
   "metadata": {},
   "outputs": [],
   "source": [
    "def get_file_num(filename):\n",
    "    return int(filename.replace(\".jpg\", \"\").replace(\"images_train/\", \"\").replace(\"images_test/\", \"\"))\n",
    "\n",
    "def get_feat_from_file(filename):\n",
    "    with open(filename, 'r') as f:\n",
    "        feats = list(csv.reader(f))\n",
    "    sorted_feats = list(sorted(feats, key= lambda l: get_file_num(l[0])))\n",
    "    \n",
    "    return sklearn.preprocessing.normalize([s[1:] for s in sorted_feats])"
   ]
  },
  {
   "cell_type": "code",
   "execution_count": 85,
   "metadata": {},
   "outputs": [],
   "source": [
    "resTrainFile = featTrainFolder + \"/features_resnet1000_train.csv\"\n",
    "train_feat = get_feat_from_file(resTrainFile)\n",
    "\n",
    "resTrainInterFile = featTrainFolder + \"/features_resnet1000intermediate_train.csv\"\n",
    "train_inter_feat = get_feat_from_file(resTrainInterFile)\n",
    "\n",
    "resTestFile = featTestFolder + \"/features_resnet1000_test.csv\"\n",
    "test_feat = get_feat_from_file(resTestFile)\n",
    "\n",
    "resTestInterFile = featTestFolder +  \"/features_resnet1000intermediate_test.csv\"\n",
    "test_inter_feat = get_feat_from_file(resTestInterFile)"
   ]
  },
  {
   "cell_type": "code",
   "execution_count": 86,
   "metadata": {},
   "outputs": [],
   "source": [
    "# CONCATENATE INTERMEDIATE + FINAL FEATURES\n",
    "train_feat_conc = np.concatenate((train_feat, train_inter_feat), axis = 1)\n",
    "test_feat_conc = np.concatenate((test_feat, test_inter_feat), axis = 1)"
   ]
  },
  {
   "cell_type": "markdown",
   "metadata": {},
   "source": [
    "# PCA "
   ]
  },
  {
   "cell_type": "code",
   "execution_count": 87,
   "metadata": {},
   "outputs": [],
   "source": [
    "from sklearn.decomposition import PCA\n",
    "def _PCA(train_feat, n):\n",
    "    pca = PCA(n_components = n)\n",
    "    pca.fit(train_feat)\n",
    "    return pca"
   ]
  },
  {
   "cell_type": "code",
   "execution_count": null,
   "metadata": {},
   "outputs": [],
   "source": [
    "pca = _PCA(train_inter_feat, 0.97)\n",
    "train_feat_pca_inter = pca.transform(train_inter_feat)\n",
    "test_feat_pca_inter  = pca.transform(test_inter_feat)"
   ]
  },
  {
   "cell_type": "code",
   "execution_count": 88,
   "metadata": {},
   "outputs": [],
   "source": [
    "# PCA IN CONCATENATION:\n",
    "pca = _PCA(train_feat_conc, 0.97)\n",
    "train_feat_conc_pca = pca.transform(train_feat_conc)\n",
    "test_feat_conc_pca = pca.transform(test_feat_conc)"
   ]
  },
  {
   "cell_type": "code",
   "execution_count": 89,
   "metadata": {},
   "outputs": [
    {
     "data": {
      "text/plain": [
       "252"
      ]
     },
     "execution_count": 89,
     "metadata": {},
     "output_type": "execute_result"
    }
   ],
   "source": [
    "pca.n_components_"
   ]
  },
  {
   "cell_type": "markdown",
   "metadata": {},
   "source": [
    "# Predicion Models"
   ]
  },
  {
   "cell_type": "markdown",
   "metadata": {},
   "source": [
    "## Kernel Ridge Regression"
   ]
  },
  {
   "cell_type": "code",
   "execution_count": 65,
   "metadata": {},
   "outputs": [],
   "source": [
    "from sklearn.kernel_ridge import KernelRidge\n",
    "def kernel_ridge(xtrain, ytrain):\n",
    "    kr = KernelRidge()\n",
    "#     kr.fit(train_bow, train_feat_pca)\n",
    "    kr.fit(xtrain, ytrain)\n",
    "    return kr"
   ]
  },
  {
   "cell_type": "markdown",
   "metadata": {},
   "source": [
    "### Uncomment when using actual test data"
   ]
  },
  {
   "cell_type": "code",
   "execution_count": 67,
   "metadata": {},
   "outputs": [],
   "source": [
    "kr = kernel_ridge(train_bow, train_feat_conc_pca)\n",
    "preds = kr.predict(test_bow)\n",
    "dm = dist_matrix(preds, test_feat_conc_pca)\n",
    "top_images = output_format(dm)"
   ]
  },
  {
   "cell_type": "code",
   "execution_count": 70,
   "metadata": {},
   "outputs": [],
   "source": [
    "outputCSV(top_images)"
   ]
  },
  {
   "cell_type": "markdown",
   "metadata": {},
   "source": [
    "## Multi Layer Perception (MLP)"
   ]
  },
  {
   "cell_type": "code",
   "execution_count": 23,
   "metadata": {},
   "outputs": [],
   "source": [
    "def MLP(xtrain, ytrain):\n",
    "    mlp = MLPRegressor(solver='adam', alpha=1e-5, hidden_layer_sizes=(200,), random_state=1, max_iter = 1000)\n",
    "    mlp.fit(xtrain, ytrain)\n",
    "    return mlp"
   ]
  },
  {
   "cell_type": "markdown",
   "metadata": {},
   "source": [
    "### Uncomment when using actual test data"
   ]
  },
  {
   "cell_type": "code",
   "execution_count": 24,
   "metadata": {},
   "outputs": [],
   "source": [
    "# mlp = MLP(train_bow, train_feat_pca)\n",
    "# preds = mlp.predict(test_bow)\n",
    "# dm = dist_matrix(preds, test_feat_pca)\n",
    "# top_images = output_format(dm)\n",
    "# outputCSV(top_images)"
   ]
  },
  {
   "cell_type": "markdown",
   "metadata": {},
   "source": [
    "## Ridge"
   ]
  },
  {
   "cell_type": "code",
   "execution_count": 57,
   "metadata": {},
   "outputs": [],
   "source": [
    "from sklearn.linear_model import Ridge\n",
    "def ridge(xtrain, ytrain):\n",
    "    rid = Ridge()\n",
    "    rid.fit(xtrain, ytrain)\n",
    "    return rid"
   ]
  },
  {
   "cell_type": "code",
   "execution_count": null,
   "metadata": {},
   "outputs": [],
   "source": [
    "#"
   ]
  },
  {
   "cell_type": "markdown",
   "metadata": {},
   "source": [
    "## Keras"
   ]
  },
  {
   "cell_type": "code",
   "execution_count": 102,
   "metadata": {},
   "outputs": [],
   "source": [
    "from tensorflow.keras.models import Sequential\n",
    "from tensorflow.keras.layers import Dense\n",
    "from tensorflow.keras import losses\n",
    "\n",
    "\n",
    "model = Sequential()\n",
    "model.add(Dense(252, input_dim=6830, activation='relu'))\n",
    "model.add(Dense(252, activation='relu'))\n",
    "model.add(Dense(252, activation='softmax'))\n",
    "model.compile(loss='mean_squared_error', optimizer='adam', metrics=['accuracy'])"
   ]
  },
  {
   "cell_type": "code",
   "execution_count": null,
   "metadata": {},
   "outputs": [],
   "source": [
    "'''\n",
    "Development MAP@20: 0.04275898772022611 -->\n",
    "\n",
    "model.add(Dense(252, input_dim=6830, activation='relu'))\n",
    "model.add(Dense(252, activation='relu'))\n",
    "model.add(Dense(252, activation='softmax'))\n",
    "\n",
    "model.compile(loss='mean_squared_error', optimizer='adam', metrics=['accuracy'])\n",
    "model.fit(xtrain_conc, ytrain_conc, epochs=15, batch_size=10)\n",
    "\n",
    "//\n",
    "\n",
    "\n",
    "\n",
    "'''"
   ]
  },
  {
   "cell_type": "markdown",
   "metadata": {},
   "source": [
    "# PCA / Train Test Split"
   ]
  },
  {
   "cell_type": "code",
   "execution_count": 59,
   "metadata": {},
   "outputs": [],
   "source": [
    "#n_comp = 0.90\n",
    "xdata = train_bow"
   ]
  },
  {
   "cell_type": "markdown",
   "metadata": {},
   "source": [
    "### Normal features"
   ]
  },
  {
   "cell_type": "code",
   "execution_count": 213,
   "metadata": {},
   "outputs": [],
   "source": [
    "pca = _PCA(train_feat, n_comp)\n",
    "train_feat_pca = pca.transform(train_feat)\n",
    "test_feat_pca  = pca.transform(test_feat)"
   ]
  },
  {
   "cell_type": "code",
   "execution_count": 214,
   "metadata": {},
   "outputs": [],
   "source": [
    "xtrain, xval, ytrain, yval = train_test_split(xdata, train_feat_pca)"
   ]
  },
  {
   "cell_type": "markdown",
   "metadata": {},
   "source": [
    "### Intermediate features"
   ]
  },
  {
   "cell_type": "code",
   "execution_count": 215,
   "metadata": {},
   "outputs": [],
   "source": [
    "pca = _PCA(train_inter_feat, n_comp)\n",
    "train_feat_pca_inter = pca.transform(train_inter_feat)\n",
    "test_feat_pca_inter  = pca.transform(test_inter_feat)"
   ]
  },
  {
   "cell_type": "code",
   "execution_count": 216,
   "metadata": {},
   "outputs": [],
   "source": [
    "xtrain_inter, xval_inter, ytrain_inter, yval_inter = train_test_split(xdata, train_feat_pca)"
   ]
  },
  {
   "cell_type": "markdown",
   "metadata": {},
   "source": [
    "### Concatenate features"
   ]
  },
  {
   "cell_type": "code",
   "execution_count": 100,
   "metadata": {},
   "outputs": [],
   "source": [
    "xtrain_conc, xval_conc, ytrain_conc, yval_conc = train_test_split(xdata, train_feat_conc_pca)"
   ]
  },
  {
   "cell_type": "code",
   "execution_count": 101,
   "metadata": {},
   "outputs": [
    {
     "data": {
      "text/plain": [
       "(10000, 252)"
      ]
     },
     "execution_count": 101,
     "metadata": {},
     "output_type": "execute_result"
    }
   ],
   "source": [
    "train_feat_conc_pca.shape"
   ]
  },
  {
   "cell_type": "markdown",
   "metadata": {},
   "source": [
    "## Testing Kernel Ridge"
   ]
  },
  {
   "cell_type": "markdown",
   "metadata": {},
   "source": [
    "### Normal features"
   ]
  },
  {
   "cell_type": "code",
   "execution_count": 217,
   "metadata": {},
   "outputs": [
    {
     "name": "stdout",
     "output_type": "stream",
     "text": [
      "Development MAP@20: 0.20247492240130008\n",
      "Mean index of true image 50.5556\n",
      "Median index of true image 13.0\n"
     ]
    }
   ],
   "source": [
    "kr2 = kernel_ridge(xtrain, ytrain)\n",
    "yval_pred = kr2.predict(xval)\n",
    "dm2 = dist_matrix(yval_pred, yval)\n",
    "get_acc_from_dm(dm2)"
   ]
  },
  {
   "cell_type": "code",
   "execution_count": 218,
   "metadata": {},
   "outputs": [
    {
     "data": {
      "text/plain": [
       "' Yeaaaaaaa\\npca(0.97) - [20.8, 21]%\\npca(0.96) ~ 22%\\npca(0.95) - [20.3, 20.5]%\\npca(0.94) - [21.5, 21.6]%\\n'"
      ]
     },
     "execution_count": 218,
     "metadata": {},
     "output_type": "execute_result"
    }
   ],
   "source": [
    "''' Yeaaaaaaa\n",
    "pca(0.97) - [20.8, 21]%\n",
    "pca(0.96) ~ 22%\n",
    "pca(0.95) - [20.3, 20.5]%\n",
    "pca(0.94) - [21.5, 21.6]%\n",
    "'''"
   ]
  },
  {
   "cell_type": "markdown",
   "metadata": {},
   "source": [
    "### Intermediate features"
   ]
  },
  {
   "cell_type": "code",
   "execution_count": 219,
   "metadata": {},
   "outputs": [
    {
     "name": "stdout",
     "output_type": "stream",
     "text": [
      "Development MAP@20: 0.2163893492609901\n",
      "Mean index of true image 48.5432\n",
      "Median index of true image 13.0\n"
     ]
    }
   ],
   "source": [
    "kr2 = kernel_ridge(xtrain_inter, ytrain_inter)\n",
    "yval_pred_inter = kr2.predict(xval_inter)\n",
    "dm2 = dist_matrix(yval_pred_inter, yval_inter)\n",
    "get_acc_from_dm(dm2)"
   ]
  },
  {
   "cell_type": "code",
   "execution_count": 220,
   "metadata": {},
   "outputs": [
    {
     "data": {
      "text/plain": [
       "'\\npca(0.97) - 24.9\\n\\n\\n'"
      ]
     },
     "execution_count": 220,
     "metadata": {},
     "output_type": "execute_result"
    }
   ],
   "source": [
    "'''\n",
    "pca(0.97) - 24.9\n",
    "\n",
    "\n",
    "'''"
   ]
  },
  {
   "cell_type": "markdown",
   "metadata": {},
   "source": [
    "### Concatenated features"
   ]
  },
  {
   "cell_type": "code",
   "execution_count": 66,
   "metadata": {},
   "outputs": [
    {
     "name": "stdout",
     "output_type": "stream",
     "text": [
      "Development MAP@20: 0.2389050227601776\n",
      "Mean index of true image 37.7732\n",
      "Median index of true image 11.0\n"
     ]
    }
   ],
   "source": [
    "kr2 = kernel_ridge(xtrain_conc, ytrain_conc)\n",
    "yval_pred_conc = kr2.predict(xval_conc)\n",
    "dm2 = dist_matrix(yval_pred_conc, yval_conc)\n",
    "get_acc_from_dm(dm2)"
   ]
  },
  {
   "cell_type": "code",
   "execution_count": 220,
   "metadata": {},
   "outputs": [
    {
     "data": {
      "text/plain": [
       "'\\npca(0.97) - 24.9\\n\\n\\n'"
      ]
     },
     "execution_count": 220,
     "metadata": {},
     "output_type": "execute_result"
    }
   ],
   "source": [
    "'''\n",
    "pca(0.97) 0.2389\n",
    "\n",
    "'''"
   ]
  },
  {
   "cell_type": "markdown",
   "metadata": {},
   "source": [
    "## Testing MLP"
   ]
  },
  {
   "cell_type": "markdown",
   "metadata": {},
   "source": [
    "### Normal features"
   ]
  },
  {
   "cell_type": "code",
   "execution_count": 221,
   "metadata": {},
   "outputs": [
    {
     "name": "stdout",
     "output_type": "stream",
     "text": [
      "Development MAP@20: 0.18574217424130737\n",
      "Mean index of true image 64.8976\n",
      "Median index of true image 16.0\n"
     ]
    }
   ],
   "source": [
    "mlp = MLP(xtrain, ytrain)\n",
    "yval_pred = mlp.predict(xval)\n",
    "dm2 = dist_matrix(yval_pred, yval)\n",
    "get_acc_from_dm(dm2)"
   ]
  },
  {
   "cell_type": "code",
   "execution_count": 222,
   "metadata": {},
   "outputs": [
    {
     "data": {
      "text/plain": [
       "' Not convinvced\\npca(0.97) - [17.0]%, 100 layers\\npca(0.97) - [18.3]%, 200 layers\\npca(0.96) ~ [17.8, 18.2]%, 100 layers\\npca(0.96) - [19.1, 19.1]%, 200 layers\\n\\n'"
      ]
     },
     "execution_count": 222,
     "metadata": {},
     "output_type": "execute_result"
    }
   ],
   "source": [
    "''' Not convinvced\n",
    "pca(0.97) - [17.0]%, 100 layers\n",
    "pca(0.97) - [18.3]%, 200 layers\n",
    "pca(0.96) ~ [17.8, 18.2]%, 100 layers\n",
    "pca(0.96) - [19.1, 19.1]%, 200 layers\n",
    "\n",
    "'''"
   ]
  },
  {
   "cell_type": "markdown",
   "metadata": {},
   "source": [
    "### Intermediate features"
   ]
  },
  {
   "cell_type": "code",
   "execution_count": 223,
   "metadata": {},
   "outputs": [
    {
     "name": "stdout",
     "output_type": "stream",
     "text": [
      "Development MAP@20: 0.18903845659500457\n",
      "Mean index of true image 57.7076\n",
      "Median index of true image 16.0\n"
     ]
    }
   ],
   "source": [
    "mlp = MLP(xtrain_inter, ytrain_inter)\n",
    "yval_pred_inter = mlp.predict(xval_inter)\n",
    "dm2 = dist_matrix(yval_pred_inter, yval_inter)\n",
    "get_acc_from_dm(dm2)"
   ]
  },
  {
   "cell_type": "code",
   "execution_count": 224,
   "metadata": {},
   "outputs": [
    {
     "data": {
      "text/plain": [
       "'\\n\\n\\n\\n'"
      ]
     },
     "execution_count": 224,
     "metadata": {},
     "output_type": "execute_result"
    }
   ],
   "source": [
    "'''\n",
    "\n",
    "\n",
    "\n",
    "'''"
   ]
  },
  {
   "cell_type": "markdown",
   "metadata": {},
   "source": [
    "## Testing Ridge"
   ]
  },
  {
   "cell_type": "markdown",
   "metadata": {},
   "source": [
    "### Normal features"
   ]
  },
  {
   "cell_type": "code",
   "execution_count": null,
   "metadata": {},
   "outputs": [],
   "source": [
    "rid2 = ridge(xtrain, ytrain)\n",
    "yval_pred = rid2.predict(xval)\n",
    "dm2 = dist_matrix(yval_pred, yval)\n",
    "get_acc_from_dm(dm2)"
   ]
  },
  {
   "cell_type": "code",
   "execution_count": null,
   "metadata": {},
   "outputs": [],
   "source": [
    "''' Yeaaaaaaa 2.0\n",
    "pca(0.96) - [21.5, 21.8]%\n",
    "\n",
    "\n",
    "'''"
   ]
  },
  {
   "cell_type": "markdown",
   "metadata": {},
   "source": [
    "### Intermediate features"
   ]
  },
  {
   "cell_type": "code",
   "execution_count": null,
   "metadata": {},
   "outputs": [],
   "source": [
    "rid2 = ridge(xtrain_inter, ytrain_inter)\n",
    "yval_pred_inter = rid2.predict(xval_inter)\n",
    "dm2 = dist_matrix(yval_pred_inter, yval_inter)\n",
    "get_acc_from_dm(dm2)"
   ]
  },
  {
   "cell_type": "code",
   "execution_count": null,
   "metadata": {},
   "outputs": [],
   "source": [
    "'''\n",
    "PCA(0.97), 24.9, 25.2\n",
    "\n",
    "\n",
    "'''"
   ]
  },
  {
   "cell_type": "markdown",
   "metadata": {},
   "source": [
    "### Concatenate features"
   ]
  },
  {
   "cell_type": "code",
   "execution_count": 63,
   "metadata": {},
   "outputs": [
    {
     "name": "stdout",
     "output_type": "stream",
     "text": [
      "Development MAP@20: 0.23954887504136732\n",
      "Mean index of true image 37.628\n",
      "Median index of true image 11.0\n"
     ]
    }
   ],
   "source": [
    "rid2 = ridge(xtrain_conc, ytrain_conc)\n",
    "yval_pred_conc = rid2.predict(xval_conc)\n",
    "dm2 = dist_matrix(yval_pred_conc, yval_conc)\n",
    "get_acc_from_dm(dm2)"
   ]
  },
  {
   "cell_type": "code",
   "execution_count": null,
   "metadata": {},
   "outputs": [],
   "source": [
    "'''\n",
    "PCA(0.97), 0.239\n",
    "\n",
    "\n",
    "'''"
   ]
  },
  {
   "cell_type": "markdown",
   "metadata": {},
   "source": [
    "## Testing Keras"
   ]
  },
  {
   "cell_type": "markdown",
   "metadata": {},
   "source": [
    "### Concatenated features"
   ]
  },
  {
   "cell_type": "code",
   "execution_count": 112,
   "metadata": {},
   "outputs": [
    {
     "name": "stdout",
     "output_type": "stream",
     "text": [
      "Train on 7500 samples\n",
      "Epoch 1/15\n",
      "7500/7500 [==============================] - 5s 643us/sample - loss: 0.0046 - accuracy: 0.0151\n",
      "Epoch 2/15\n",
      "7500/7500 [==============================] - 4s 594us/sample - loss: 0.0046 - accuracy: 0.0151\n",
      "Epoch 3/15\n",
      "7500/7500 [==============================] - 4s 593us/sample - loss: 0.0046 - accuracy: 0.0151\n",
      "Epoch 4/15\n",
      "7500/7500 [==============================] - 4s 593us/sample - loss: 0.0046 - accuracy: 0.0151\n",
      "Epoch 5/15\n",
      "7500/7500 [==============================] - 4s 598us/sample - loss: 0.0046 - accuracy: 0.0151\n",
      "Epoch 6/15\n",
      "7500/7500 [==============================] - 5s 611us/sample - loss: 0.0046 - accuracy: 0.0151\n",
      "Epoch 7/15\n",
      "7500/7500 [==============================] - 5s 611us/sample - loss: 0.0046 - accuracy: 0.0151\n",
      "Epoch 8/15\n",
      "7500/7500 [==============================] - 5s 644us/sample - loss: 0.0046 - accuracy: 0.0151\n",
      "Epoch 9/15\n",
      "7500/7500 [==============================] - 4s 598us/sample - loss: 0.0046 - accuracy: 0.0151\n",
      "Epoch 10/15\n",
      "7500/7500 [==============================] - 4s 600us/sample - loss: 0.0046 - accuracy: 0.0151\n",
      "Epoch 11/15\n",
      "7500/7500 [==============================] - 4s 599us/sample - loss: 0.0046 - accuracy: 0.0151\n",
      "Epoch 12/15\n",
      "7500/7500 [==============================] - 4s 598us/sample - loss: 0.0046 - accuracy: 0.0151\n",
      "Epoch 13/15\n",
      "7500/7500 [==============================] - 4s 600us/sample - loss: 0.0046 - accuracy: 0.0151\n",
      "Epoch 14/15\n",
      "7500/7500 [==============================] - 5s 601us/sample - loss: 0.0046 - accuracy: 0.0151\n",
      "Epoch 15/15\n",
      "7500/7500 [==============================] - 5s 602us/sample - loss: 0.0046 - accuracy: 0.0151\n",
      "Development MAP@20: 0.0014416711066711067\n",
      "Mean index of true image 1249.5284\n",
      "Median index of true image 1248.5\n"
     ]
    }
   ],
   "source": [
    "model = Sequential()\n",
    "model.add(Dense(252, input_dim=6830, activation='relu'))\n",
    "model.add(Dense(252, activation='relu'))\n",
    "model.add(Dense(252, activation='softmax'))\n",
    "\n",
    "model.compile(loss='mean_squared_error', optimizer='sgd', metrics=['accuracy'])\n",
    "model.fit(xtrain_conc, ytrain_conc, epochs=15, batch_size=10)\n",
    "\n",
    "yval_pred_conc = model.predict(xval_conc)\n",
    "dm2 = dist_matrix(yval_pred_conc, yval_conc)\n",
    "get_acc_from_dm(dm2)\n",
    "\n",
    "\n",
    "#_, accuracy = model.evaluate(X, y)\n",
    "#print('Accuracy: %.2f' % (accuracy*100))"
   ]
  },
  {
   "cell_type": "code",
   "execution_count": null,
   "metadata": {},
   "outputs": [],
   "source": []
  }
 ],
 "metadata": {
  "kernelspec": {
   "display_name": "Python 3",
   "language": "python",
   "name": "python3"
  },
  "language_info": {
   "codemirror_mode": {
    "name": "ipython",
    "version": 3
   },
   "file_extension": ".py",
   "mimetype": "text/x-python",
   "name": "python",
   "nbconvert_exporter": "python",
   "pygments_lexer": "ipython3",
   "version": "3.7.4"
  }
 },
 "nbformat": 4,
 "nbformat_minor": 4
}
